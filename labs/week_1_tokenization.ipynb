{
 "cells": [
  {
   "cell_type": "markdown",
   "metadata": {},
   "source": [
    "# Week 1 Lab: Exploring Tokenization\n",
    "\n",
    "This notebook mirrors the lecture storyline:\n",
    "\n",
    "1. Break text into whitespace tokens and build a vocabulary.\n",
    "2. Turn documents into bag-of-words vectors.\n",
    "3. Compare modern subword tokenizers on real data.\n",
    "4. Generate dense embeddings to reason about word neighbours.\n",
    "5. (Optional) Call a hosted model on Hugging Face Inference for experimentation.\n",
    "\n",
    "The lab is self-contained—run the cells in order and record your observations in the reflection prompts at the end."
   ]
  },
  {
   "cell_type": "markdown",
   "metadata": {},
   "source": [
    "## 0. Setup\n",
    "\n",
    "Create a dedicated Python environment for this lab session, register it as a Jupyter kernel, and install the required packages:\n",
    "\n",
    "```bash\n",
    "python3 -m venv venvLLMDS\n",
    "source venvLLMDS/bin/activate  # Windows PowerShell: .\\venvLLMDS\\Scripts\\Activate.ps1\n",
    "pip install --upgrade pip\n",
    "pip install ipykernel\n",
    "ipython kernel install --user --name=venvLLMDS\n",
    "pip install --upgrade datasets transformers torch huggingface-hub pandas plotly\n",
    "```\n",
    "\n",
    "Make sure your VS Code / Jupyter session uses the newly created `venvLLMDS` kernel before running the cells—the rest of the notebook assumes that environment."
   ]
  },
  {
   "cell_type": "markdown",
   "metadata": {},
   "source": [
    "### Hugging Face token (optional)\n",
    "\n",
    "1. Create a free account at [huggingface.co](https://huggingface.co/).\n",
    "2. Generate a new token under **Settings → Access Tokens** (select the default `read` scope).\n",
    "3. Store it securely:\n",
    "   - On macOS/Linux: `echo 'HF_TOKEN=hf_your_token_here' >> .env`\n",
    "   - On Windows PowerShell: `Set-Content -Path .env -Value 'HF_TOKEN=hf_your_token_here'`\n",
    "4. Restart the notebook or run `load_dotenv()` so the token is available for the optional API cell.\n",
    "\n",
    "If you skip this step the notebook will still run; only the hosted inference demo is disabled."
   ]
  },
  {
   "cell_type": "code",
   "execution_count": 1,
   "metadata": {},
   "outputs": [
    {
     "name": "stderr",
     "output_type": "stream",
     "text": [
      "/Users/muellersebastian/1math/1teaching/llms-data-science-course/venvLLMDS/lib/python3.13/site-packages/tqdm/auto.py:21: TqdmWarning: IProgress not found. Please update jupyter and ipywidgets. See https://ipywidgets.readthedocs.io/en/stable/user_install.html\n",
      "  from .autonotebook import tqdm as notebook_tqdm\n"
     ]
    }
   ],
   "source": [
    "from __future__ import annotations\n",
    "\n",
    "import os\n",
    "from collections import Counter\n",
    "from typing import Iterable\n",
    "\n",
    "from IPython.display import HTML, display\n",
    "import re\n",
    "\n",
    "import plotly.express as px\n",
    "import plotly.io as pio\n",
    "\n",
    "import numpy as np\n",
    "import pandas as pd\n",
    "import torch\n",
    "from datasets import load_dataset\n",
    "from transformers import AutoModel, AutoTokenizer\n",
    "\n",
    "try:\n",
    "    from huggingface_hub import InferenceClient\n",
    "except ImportError:  # pragma: no cover - optional dependency\n",
    "    InferenceClient = None\n",
    "\n",
    "HF_TOKEN = os.getenv('HF_TOKEN') or os.getenv('HUGGINGFACEHUB_API_TOKEN')\n",
    "DEVICE = torch.device('cuda' if torch.cuda.is_available() else 'cpu')\n"
   ]
  },
  {
   "cell_type": "markdown",
   "metadata": {},
   "source": [
    "## 1. Whitespace tokenization → vocabulary\n",
    "\n",
    "The lecture introduced tokenization by simply splitting text on whitespace. Recreate that pipeline for two sentences and inspect the intermediate artifacts."
   ]
  },
  {
   "cell_type": "markdown",
   "metadata": {},
   "source": [
    "Before we dive into counting tokens, we define two short example sentences—one about robots, one about drones. Lowercasing plus `split()` mimics the lecture’s whitespace tokenizer and lets us build a small lookup table of positions versus tokens."
   ]
  },
  {
   "cell_type": "code",
   "execution_count": 2,
   "metadata": {},
   "outputs": [
    {
     "data": {
      "text/html": [
       "<div>\n",
       "<style scoped>\n",
       "    .dataframe tbody tr th:only-of-type {\n",
       "        vertical-align: middle;\n",
       "    }\n",
       "\n",
       "    .dataframe tbody tr th {\n",
       "        vertical-align: top;\n",
       "    }\n",
       "\n",
       "    .dataframe thead th {\n",
       "        text-align: right;\n",
       "    }\n",
       "</style>\n",
       "<table border=\"1\" class=\"dataframe\">\n",
       "  <thead>\n",
       "    <tr style=\"text-align: right;\">\n",
       "      <th></th>\n",
       "      <th>sentence</th>\n",
       "      <th>position</th>\n",
       "      <th>token</th>\n",
       "    </tr>\n",
       "  </thead>\n",
       "  <tbody>\n",
       "    <tr>\n",
       "      <th>0</th>\n",
       "      <td>robotics</td>\n",
       "      <td>0</td>\n",
       "      <td>this</td>\n",
       "    </tr>\n",
       "    <tr>\n",
       "      <th>1</th>\n",
       "      <td>robotics</td>\n",
       "      <td>1</td>\n",
       "      <td>is</td>\n",
       "    </tr>\n",
       "    <tr>\n",
       "      <th>2</th>\n",
       "      <td>robotics</td>\n",
       "      <td>2</td>\n",
       "      <td>a</td>\n",
       "    </tr>\n",
       "    <tr>\n",
       "      <th>3</th>\n",
       "      <td>robotics</td>\n",
       "      <td>3</td>\n",
       "      <td>smart</td>\n",
       "    </tr>\n",
       "    <tr>\n",
       "      <th>4</th>\n",
       "      <td>robotics</td>\n",
       "      <td>4</td>\n",
       "      <td>robot</td>\n",
       "    </tr>\n",
       "    <tr>\n",
       "      <th>5</th>\n",
       "      <td>robotics</td>\n",
       "      <td>5</td>\n",
       "      <td>exploring</td>\n",
       "    </tr>\n",
       "    <tr>\n",
       "      <th>6</th>\n",
       "      <td>robotics</td>\n",
       "      <td>6</td>\n",
       "      <td>language.</td>\n",
       "    </tr>\n",
       "    <tr>\n",
       "      <th>7</th>\n",
       "      <td>drones</td>\n",
       "      <td>0</td>\n",
       "      <td>my</td>\n",
       "    </tr>\n",
       "    <tr>\n",
       "      <th>8</th>\n",
       "      <td>drones</td>\n",
       "      <td>1</td>\n",
       "      <td>agile</td>\n",
       "    </tr>\n",
       "    <tr>\n",
       "      <th>9</th>\n",
       "      <td>drones</td>\n",
       "      <td>2</td>\n",
       "      <td>drone</td>\n",
       "    </tr>\n",
       "    <tr>\n",
       "      <th>10</th>\n",
       "      <td>drones</td>\n",
       "      <td>3</td>\n",
       "      <td>is</td>\n",
       "    </tr>\n",
       "    <tr>\n",
       "      <th>11</th>\n",
       "      <td>drones</td>\n",
       "      <td>4</td>\n",
       "      <td>also</td>\n",
       "    </tr>\n",
       "    <tr>\n",
       "      <th>12</th>\n",
       "      <td>drones</td>\n",
       "      <td>5</td>\n",
       "      <td>very</td>\n",
       "    </tr>\n",
       "    <tr>\n",
       "      <th>13</th>\n",
       "      <td>drones</td>\n",
       "      <td>6</td>\n",
       "      <td>smart.</td>\n",
       "    </tr>\n",
       "  </tbody>\n",
       "</table>\n",
       "</div>"
      ],
      "text/plain": [
       "    sentence  position      token\n",
       "0   robotics         0       this\n",
       "1   robotics         1         is\n",
       "2   robotics         2          a\n",
       "3   robotics         3      smart\n",
       "4   robotics         4      robot\n",
       "5   robotics         5  exploring\n",
       "6   robotics         6  language.\n",
       "7     drones         0         my\n",
       "8     drones         1      agile\n",
       "9     drones         2      drone\n",
       "10    drones         3         is\n",
       "11    drones         4       also\n",
       "12    drones         5       very\n",
       "13    drones         6     smart."
      ]
     },
     "execution_count": 2,
     "metadata": {},
     "output_type": "execute_result"
    }
   ],
   "source": [
    "sentences = {\n",
    "    \"robotics\": \"This is a smart robot exploring language.\",\n",
    "    \"drones\": \"My agile drone is also very smart.\"\n",
    "}\n",
    "\n",
    "whitespace_tokens = {\n",
    "    name: sentence.lower().split()\n",
    "    for name, sentence in sentences.items()\n",
    "}\n",
    "\n",
    "token_table = pd.DataFrame(\n",
    "    [(name, i, token) for name, tokens in whitespace_tokens.items() for i, token in enumerate(tokens)],\n",
    "    columns=[\"sentence\", \"position\", \"token\"]\n",
    ")\n",
    "\n",
    "token_table"
   ]
  },
  {
   "cell_type": "markdown",
   "metadata": {},
   "source": [
    "To sanity-check the tokenization, the next cell arranges both token lists side-by-side. Empty cells simply indicate that one sentence ended sooner; this makes it easy to scan where the vocab overlaps or diverges."
   ]
  },
  {
   "cell_type": "code",
   "execution_count": 3,
   "metadata": {},
   "outputs": [
    {
     "data": {
      "text/html": [
       "<div>\n",
       "<style scoped>\n",
       "    .dataframe tbody tr th:only-of-type {\n",
       "        vertical-align: middle;\n",
       "    }\n",
       "\n",
       "    .dataframe tbody tr th {\n",
       "        vertical-align: top;\n",
       "    }\n",
       "\n",
       "    .dataframe thead th {\n",
       "        text-align: right;\n",
       "    }\n",
       "</style>\n",
       "<table border=\"1\" class=\"dataframe\">\n",
       "  <thead>\n",
       "    <tr style=\"text-align: right;\">\n",
       "      <th></th>\n",
       "      <th>position</th>\n",
       "      <th>robotics</th>\n",
       "      <th>drones</th>\n",
       "    </tr>\n",
       "  </thead>\n",
       "  <tbody>\n",
       "    <tr>\n",
       "      <th>0</th>\n",
       "      <td>0</td>\n",
       "      <td>this</td>\n",
       "      <td>my</td>\n",
       "    </tr>\n",
       "    <tr>\n",
       "      <th>1</th>\n",
       "      <td>1</td>\n",
       "      <td>is</td>\n",
       "      <td>agile</td>\n",
       "    </tr>\n",
       "    <tr>\n",
       "      <th>2</th>\n",
       "      <td>2</td>\n",
       "      <td>a</td>\n",
       "      <td>drone</td>\n",
       "    </tr>\n",
       "    <tr>\n",
       "      <th>3</th>\n",
       "      <td>3</td>\n",
       "      <td>smart</td>\n",
       "      <td>is</td>\n",
       "    </tr>\n",
       "    <tr>\n",
       "      <th>4</th>\n",
       "      <td>4</td>\n",
       "      <td>robot</td>\n",
       "      <td>also</td>\n",
       "    </tr>\n",
       "    <tr>\n",
       "      <th>5</th>\n",
       "      <td>5</td>\n",
       "      <td>exploring</td>\n",
       "      <td>very</td>\n",
       "    </tr>\n",
       "    <tr>\n",
       "      <th>6</th>\n",
       "      <td>6</td>\n",
       "      <td>language.</td>\n",
       "      <td>smart.</td>\n",
       "    </tr>\n",
       "  </tbody>\n",
       "</table>\n",
       "</div>"
      ],
      "text/plain": [
       "   position   robotics  drones\n",
       "0         0       this      my\n",
       "1         1         is   agile\n",
       "2         2          a   drone\n",
       "3         3      smart      is\n",
       "4         4      robot    also\n",
       "5         5  exploring    very\n",
       "6         6  language.  smart."
      ]
     },
     "execution_count": 3,
     "metadata": {},
     "output_type": "execute_result"
    }
   ],
   "source": [
    "# Quick side-by-side look at whitespace tokenization\n",
    "comparison = (pd.DataFrame.from_dict(whitespace_tokens, orient='index')\n",
    "              .T.reset_index(drop=False)\n",
    "              .rename(columns={'index': 'position'}))\n",
    "comparison.fillna('', inplace=True)\n",
    "comparison"
   ]
  },
  {
   "cell_type": "code",
   "execution_count": 4,
   "metadata": {},
   "outputs": [
    {
     "name": "stdout",
     "output_type": "stream",
     "text": [
      "Vocabulary size: 13\n"
     ]
    },
    {
     "data": {
      "text/html": [
       "<div>\n",
       "<style scoped>\n",
       "    .dataframe tbody tr th:only-of-type {\n",
       "        vertical-align: middle;\n",
       "    }\n",
       "\n",
       "    .dataframe tbody tr th {\n",
       "        vertical-align: top;\n",
       "    }\n",
       "\n",
       "    .dataframe thead th {\n",
       "        text-align: right;\n",
       "    }\n",
       "</style>\n",
       "<table border=\"1\" class=\"dataframe\">\n",
       "  <thead>\n",
       "    <tr style=\"text-align: right;\">\n",
       "      <th></th>\n",
       "      <th>token</th>\n",
       "      <th>frequency</th>\n",
       "    </tr>\n",
       "  </thead>\n",
       "  <tbody>\n",
       "    <tr>\n",
       "      <th>0</th>\n",
       "      <td>a</td>\n",
       "      <td>1</td>\n",
       "    </tr>\n",
       "    <tr>\n",
       "      <th>1</th>\n",
       "      <td>agile</td>\n",
       "      <td>1</td>\n",
       "    </tr>\n",
       "    <tr>\n",
       "      <th>2</th>\n",
       "      <td>also</td>\n",
       "      <td>1</td>\n",
       "    </tr>\n",
       "    <tr>\n",
       "      <th>3</th>\n",
       "      <td>drone</td>\n",
       "      <td>1</td>\n",
       "    </tr>\n",
       "    <tr>\n",
       "      <th>4</th>\n",
       "      <td>exploring</td>\n",
       "      <td>1</td>\n",
       "    </tr>\n",
       "    <tr>\n",
       "      <th>5</th>\n",
       "      <td>is</td>\n",
       "      <td>2</td>\n",
       "    </tr>\n",
       "    <tr>\n",
       "      <th>6</th>\n",
       "      <td>language.</td>\n",
       "      <td>1</td>\n",
       "    </tr>\n",
       "    <tr>\n",
       "      <th>7</th>\n",
       "      <td>my</td>\n",
       "      <td>1</td>\n",
       "    </tr>\n",
       "    <tr>\n",
       "      <th>8</th>\n",
       "      <td>robot</td>\n",
       "      <td>1</td>\n",
       "    </tr>\n",
       "    <tr>\n",
       "      <th>9</th>\n",
       "      <td>smart</td>\n",
       "      <td>1</td>\n",
       "    </tr>\n",
       "    <tr>\n",
       "      <th>10</th>\n",
       "      <td>smart.</td>\n",
       "      <td>1</td>\n",
       "    </tr>\n",
       "    <tr>\n",
       "      <th>11</th>\n",
       "      <td>this</td>\n",
       "      <td>1</td>\n",
       "    </tr>\n",
       "    <tr>\n",
       "      <th>12</th>\n",
       "      <td>very</td>\n",
       "      <td>1</td>\n",
       "    </tr>\n",
       "  </tbody>\n",
       "</table>\n",
       "</div>"
      ],
      "text/plain": [
       "        token  frequency\n",
       "0           a          1\n",
       "1       agile          1\n",
       "2        also          1\n",
       "3       drone          1\n",
       "4   exploring          1\n",
       "5          is          2\n",
       "6   language.          1\n",
       "7          my          1\n",
       "8       robot          1\n",
       "9       smart          1\n",
       "10     smart.          1\n",
       "11       this          1\n",
       "12       very          1"
      ]
     },
     "execution_count": 4,
     "metadata": {},
     "output_type": "execute_result"
    }
   ],
   "source": [
    "# Build a vocabulary and basic statistics\n",
    "vocabulary = sorted({token for tokens in whitespace_tokens.values() for token in tokens})\n",
    "vocab_counts = Counter(token for tokens in whitespace_tokens.values() for token in tokens)\n",
    "\n",
    "print(f\"Vocabulary size: {len(vocabulary)}\")\n",
    "pd.DataFrame({\"token\": vocabulary, \"frequency\": [vocab_counts[tok] for tok in vocabulary]})"
   ]
  },
  {
   "cell_type": "markdown",
   "metadata": {},
   "source": [
    "## 2. Manual bag-of-words vectors\n",
    "\n",
    "Bag-of-words encodes each document by counting occurrences from the shared vocabulary. This recreates the slide that mapped the toy vocabulary to vectors of 0/1 counts."
   ]
  },
  {
   "cell_type": "code",
   "execution_count": 5,
   "metadata": {},
   "outputs": [
    {
     "data": {
      "text/html": [
       "<div>\n",
       "<style scoped>\n",
       "    .dataframe tbody tr th:only-of-type {\n",
       "        vertical-align: middle;\n",
       "    }\n",
       "\n",
       "    .dataframe tbody tr th {\n",
       "        vertical-align: top;\n",
       "    }\n",
       "\n",
       "    .dataframe thead th {\n",
       "        text-align: right;\n",
       "    }\n",
       "</style>\n",
       "<table border=\"1\" class=\"dataframe\">\n",
       "  <thead>\n",
       "    <tr style=\"text-align: right;\">\n",
       "      <th></th>\n",
       "      <th>robotics</th>\n",
       "      <th>drones</th>\n",
       "    </tr>\n",
       "  </thead>\n",
       "  <tbody>\n",
       "    <tr>\n",
       "      <th>a</th>\n",
       "      <td>1</td>\n",
       "      <td>0</td>\n",
       "    </tr>\n",
       "    <tr>\n",
       "      <th>agile</th>\n",
       "      <td>0</td>\n",
       "      <td>1</td>\n",
       "    </tr>\n",
       "    <tr>\n",
       "      <th>also</th>\n",
       "      <td>0</td>\n",
       "      <td>1</td>\n",
       "    </tr>\n",
       "    <tr>\n",
       "      <th>drone</th>\n",
       "      <td>0</td>\n",
       "      <td>1</td>\n",
       "    </tr>\n",
       "    <tr>\n",
       "      <th>exploring</th>\n",
       "      <td>1</td>\n",
       "      <td>0</td>\n",
       "    </tr>\n",
       "    <tr>\n",
       "      <th>is</th>\n",
       "      <td>1</td>\n",
       "      <td>1</td>\n",
       "    </tr>\n",
       "    <tr>\n",
       "      <th>language.</th>\n",
       "      <td>1</td>\n",
       "      <td>0</td>\n",
       "    </tr>\n",
       "    <tr>\n",
       "      <th>my</th>\n",
       "      <td>0</td>\n",
       "      <td>1</td>\n",
       "    </tr>\n",
       "    <tr>\n",
       "      <th>robot</th>\n",
       "      <td>1</td>\n",
       "      <td>0</td>\n",
       "    </tr>\n",
       "    <tr>\n",
       "      <th>smart</th>\n",
       "      <td>1</td>\n",
       "      <td>0</td>\n",
       "    </tr>\n",
       "    <tr>\n",
       "      <th>smart.</th>\n",
       "      <td>0</td>\n",
       "      <td>1</td>\n",
       "    </tr>\n",
       "    <tr>\n",
       "      <th>this</th>\n",
       "      <td>1</td>\n",
       "      <td>0</td>\n",
       "    </tr>\n",
       "    <tr>\n",
       "      <th>very</th>\n",
       "      <td>0</td>\n",
       "      <td>1</td>\n",
       "    </tr>\n",
       "  </tbody>\n",
       "</table>\n",
       "</div>"
      ],
      "text/plain": [
       "           robotics  drones\n",
       "a                 1       0\n",
       "agile             0       1\n",
       "also              0       1\n",
       "drone             0       1\n",
       "exploring         1       0\n",
       "is                1       1\n",
       "language.         1       0\n",
       "my                0       1\n",
       "robot             1       0\n",
       "smart             1       0\n",
       "smart.            0       1\n",
       "this              1       0\n",
       "very              0       1"
      ]
     },
     "execution_count": 5,
     "metadata": {},
     "output_type": "execute_result"
    }
   ],
   "source": [
    "def bag_of_words(tokens: Iterable[str], vocab: list[str]) -> np.ndarray:\n",
    "    counts = Counter(tokens)\n",
    "    return np.array([counts.get(term, 0) for term in vocab], dtype=np.int32)\n",
    "\n",
    "bow_vectors = {\n",
    "    name: bag_of_words(tokens, vocabulary)\n",
    "    for name, tokens in whitespace_tokens.items()\n",
    "}\n",
    "\n",
    "bow_df = pd.DataFrame(bow_vectors, index=vocabulary)\n",
    "bow_df"
   ]
  },
  {
   "cell_type": "markdown",
   "metadata": {},
   "source": [
    "### Exercise\n",
    "\n",
    "- Add a third sentence and observe how the vocabulary and bag-of-words representations change.\n",
    "- Compute cosine similarity between the bag-of-words vectors to quantify overlap."
   ]
  },
  {
   "cell_type": "markdown",
   "metadata": {},
   "source": [
    "## 3. Subword tokenizers on a dataset\n",
    "\n",
    "Whitespace tokenization breaks down for larger corpora. Use Hugging Face tokenizers to compare token counts on a small sample. This mirrors the lecture’s motivation for subword models. "
   ]
  },
  {
   "cell_type": "code",
   "execution_count": 6,
   "metadata": {},
   "outputs": [
    {
     "name": "stdout",
     "output_type": "stream",
     "text": [
      "\n",
      "=== Tokenization with bert-base-uncased ===\n",
      "\n",
      "Sentence (robotics): This is a smart robot exploring language.\n",
      "Tokens: ['this', 'is', 'a', 'smart', 'robot', 'exploring', 'language', '.']\n",
      "Token IDs: [101, 2023, 2003, 1037, 6047, 8957, 11131, 2653, 1012, 102]\n",
      "\n",
      "Sentence (drones): My agile drone is also very smart.\n",
      "Tokens: ['my', 'agile', 'drone', 'is', 'also', 'very', 'smart', '.']\n",
      "Token IDs: [101, 2026, 29003, 18465, 2003, 2036, 2200, 6047, 1012, 102]\n",
      "\n",
      "=== Tokenization with bert-base-cased ===\n",
      "\n",
      "Sentence (robotics): This is a smart robot exploring language.\n",
      "Tokens: ['This', 'is', 'a', 'smart', 'robot', 'exploring', 'language', '.']\n",
      "Token IDs: [101, 1188, 1110, 170, 6866, 10975, 12138, 1846, 119, 102]\n",
      "\n",
      "Sentence (drones): My agile drone is also very smart.\n",
      "Tokens: ['My', 'a', '##gi', '##le', 'drone', 'is', 'also', 'very', 'smart', '.']\n",
      "Token IDs: [101, 1422, 170, 5389, 1513, 22020, 1110, 1145, 1304, 6866, 119, 102]\n",
      "\n",
      "=== Tokenization with gpt2 ===\n",
      "\n",
      "Sentence (robotics): This is a smart robot exploring language.\n",
      "Tokens: ['This', 'Ġis', 'Ġa', 'Ġsmart', 'Ġrobot', 'Ġexploring', 'Ġlanguage', '.']\n",
      "Token IDs: [1212, 318, 257, 4451, 9379, 13504, 3303, 13]\n",
      "\n",
      "Sentence (drones): My agile drone is also very smart.\n",
      "Tokens: ['My', 'Ġagile', 'Ġdrone', 'Ġis', 'Ġalso', 'Ġvery', 'Ġsmart', '.']\n",
      "Token IDs: [3666, 36710, 12170, 318, 635, 845, 4451, 13]\n"
     ]
    }
   ],
   "source": [
    "model_names = [\"bert-base-uncased\", \"bert-base-cased\", \"gpt2\"]\n",
    "sentences = {\n",
    "    \"robotics\": \"This is a smart robot exploring language.\",\n",
    "    \"drones\": \"My agile drone is also very smart.\"\n",
    "}\n",
    "\n",
    "for model_name in model_names:\n",
    "    tokenizer = AutoTokenizer.from_pretrained(model_name)\n",
    "    print(f\"\\n=== Tokenization with {model_name} ===\")\n",
    "    \n",
    "    for label, sentence in sentences.items():\n",
    "        tokens = tokenizer.tokenize(sentence)\n",
    "        token_ids = tokenizer.encode(sentence)\n",
    "        print(f\"\\nSentence ({label}): {sentence}\")\n",
    "        print(\"Tokens:\", tokens)\n",
    "        print(\"Token IDs:\", token_ids)"
   ]
  },
  {
   "cell_type": "code",
   "execution_count": 7,
   "metadata": {},
   "outputs": [
    {
     "name": "stderr",
     "output_type": "stream",
     "text": [
      "huggingface/tokenizers: The current process just got forked, after parallelism has already been used. Disabling parallelism to avoid deadlocks...\n",
      "To disable this warning, you can either:\n",
      "\t- Avoid using `tokenizers` before the fork if possible\n",
      "\t- Explicitly set the environment variable TOKENIZERS_PARALLELISM=(true | false)\n"
     ]
    },
    {
     "data": {
      "text/html": [
       "<h3>Example: short</h3><p style='line-height:1.4'>Stocks End Up, But Near Year Lows (Reuters) Reuters - Stocks ended slightly higher on Friday\\but stayed near lows for the year as oil prices surged past  #36;46\\a barrel, offsetting a positive outlook from computer maker\\Dell Inc. (DELL.O)</p>"
      ],
      "text/plain": [
       "<IPython.core.display.HTML object>"
      ]
     },
     "metadata": {},
     "output_type": "display_data"
    },
    {
     "data": {
      "text/html": [
       "<h4>gpt2</h4><div style='font-family:system-ui; margin-bottom:6px;'><b>Tokens:</b></div><div><span style=\"background:#eef6ff; padding:2px; margin:1px; border-radius:3px; font-family:monospace;\">St</span> <span style=\"background:#f7f7ff; padding:2px; margin:1px; border-radius:3px; font-family:monospace;\">ocks</span> <span style=\"background:#eef6ff; padding:2px; margin:1px; border-radius:3px; font-family:monospace;\">␠End</span> <span style=\"background:#f7f7ff; padding:2px; margin:1px; border-radius:3px; font-family:monospace;\">␠Up</span> <span style=\"background:#eef6ff; padding:2px; margin:1px; border-radius:3px; font-family:monospace;\">,</span> <span style=\"background:#f7f7ff; padding:2px; margin:1px; border-radius:3px; font-family:monospace;\">␠But</span> <span style=\"background:#eef6ff; padding:2px; margin:1px; border-radius:3px; font-family:monospace;\">␠Near</span> <span style=\"background:#f7f7ff; padding:2px; margin:1px; border-radius:3px; font-family:monospace;\">␠Year</span> <span style=\"background:#eef6ff; padding:2px; margin:1px; border-radius:3px; font-family:monospace;\">␠L</span> <span style=\"background:#f7f7ff; padding:2px; margin:1px; border-radius:3px; font-family:monospace;\">ows</span> <span style=\"background:#eef6ff; padding:2px; margin:1px; border-radius:3px; font-family:monospace;\">␠(</span> <span style=\"background:#f7f7ff; padding:2px; margin:1px; border-radius:3px; font-family:monospace;\">Reuters</span> <span style=\"background:#eef6ff; padding:2px; margin:1px; border-radius:3px; font-family:monospace;\">)</span> <span style=\"background:#f7f7ff; padding:2px; margin:1px; border-radius:3px; font-family:monospace;\">␠Reuters</span> <span style=\"background:#eef6ff; padding:2px; margin:1px; border-radius:3px; font-family:monospace;\">␠-</span> <span style=\"background:#f7f7ff; padding:2px; margin:1px; border-radius:3px; font-family:monospace;\">␠St</span> <span style=\"background:#eef6ff; padding:2px; margin:1px; border-radius:3px; font-family:monospace;\">ocks</span> <span style=\"background:#f7f7ff; padding:2px; margin:1px; border-radius:3px; font-family:monospace;\">␠ended</span> <span style=\"background:#eef6ff; padding:2px; margin:1px; border-radius:3px; font-family:monospace;\">␠slightly</span> <span style=\"background:#f7f7ff; padding:2px; margin:1px; border-radius:3px; font-family:monospace;\">␠higher</span> <span style=\"background:#eef6ff; padding:2px; margin:1px; border-radius:3px; font-family:monospace;\">␠on</span> <span style=\"background:#f7f7ff; padding:2px; margin:1px; border-radius:3px; font-family:monospace;\">␠Friday</span> <span style=\"background:#eef6ff; padding:2px; margin:1px; border-radius:3px; font-family:monospace;\">\\</span> <span style=\"background:#f7f7ff; padding:2px; margin:1px; border-radius:3px; font-family:monospace;\">but</span> <span style=\"background:#eef6ff; padding:2px; margin:1px; border-radius:3px; font-family:monospace;\">␠stayed</span> <span style=\"background:#f7f7ff; padding:2px; margin:1px; border-radius:3px; font-family:monospace;\">␠near</span> <span style=\"background:#eef6ff; padding:2px; margin:1px; border-radius:3px; font-family:monospace;\">␠lows</span> <span style=\"background:#f7f7ff; padding:2px; margin:1px; border-radius:3px; font-family:monospace;\">␠for</span> <span style=\"background:#eef6ff; padding:2px; margin:1px; border-radius:3px; font-family:monospace;\">␠the</span> <span style=\"background:#f7f7ff; padding:2px; margin:1px; border-radius:3px; font-family:monospace;\">␠year</span> <span style=\"background:#eef6ff; padding:2px; margin:1px; border-radius:3px; font-family:monospace;\">␠as</span> <span style=\"background:#f7f7ff; padding:2px; margin:1px; border-radius:3px; font-family:monospace;\">␠oil</span> <span style=\"background:#eef6ff; padding:2px; margin:1px; border-radius:3px; font-family:monospace;\">␠prices</span> <span style=\"background:#f7f7ff; padding:2px; margin:1px; border-radius:3px; font-family:monospace;\">␠surged</span> <span style=\"background:#eef6ff; padding:2px; margin:1px; border-radius:3px; font-family:monospace;\">␠past</span> <span style=\"background:#f7f7ff; padding:2px; margin:1px; border-radius:3px; font-family:monospace;\">␠</span> <span style=\"background:#eef6ff; padding:2px; margin:1px; border-radius:3px; font-family:monospace;\">␠#</span> <span style=\"background:#f7f7ff; padding:2px; margin:1px; border-radius:3px; font-family:monospace;\">36</span> <span style=\"background:#eef6ff; padding:2px; margin:1px; border-radius:3px; font-family:monospace;\">;</span> <span style=\"background:#f7f7ff; padding:2px; margin:1px; border-radius:3px; font-family:monospace;\">46</span> <span style=\"background:#eef6ff; padding:2px; margin:1px; border-radius:3px; font-family:monospace;\">\\</span> <span style=\"background:#f7f7ff; padding:2px; margin:1px; border-radius:3px; font-family:monospace;\">a</span> <span style=\"background:#eef6ff; padding:2px; margin:1px; border-radius:3px; font-family:monospace;\">␠barrel</span> <span style=\"background:#f7f7ff; padding:2px; margin:1px; border-radius:3px; font-family:monospace;\">,</span> <span style=\"background:#eef6ff; padding:2px; margin:1px; border-radius:3px; font-family:monospace;\">␠offset</span> <span style=\"background:#f7f7ff; padding:2px; margin:1px; border-radius:3px; font-family:monospace;\">ting</span> <span style=\"background:#eef6ff; padding:2px; margin:1px; border-radius:3px; font-family:monospace;\">␠a</span> <span style=\"background:#f7f7ff; padding:2px; margin:1px; border-radius:3px; font-family:monospace;\">␠positive</span> <span style=\"background:#eef6ff; padding:2px; margin:1px; border-radius:3px; font-family:monospace;\">␠outlook</span> <span style=\"background:#f7f7ff; padding:2px; margin:1px; border-radius:3px; font-family:monospace;\">␠from</span> <span style=\"background:#eef6ff; padding:2px; margin:1px; border-radius:3px; font-family:monospace;\">␠computer</span> <span style=\"background:#f7f7ff; padding:2px; margin:1px; border-radius:3px; font-family:monospace;\">␠maker</span> <span style=\"background:#eef6ff; padding:2px; margin:1px; border-radius:3px; font-family:monospace;\">\\</span> <span style=\"background:#f7f7ff; padding:2px; margin:1px; border-radius:3px; font-family:monospace;\">D</span> <span style=\"background:#eef6ff; padding:2px; margin:1px; border-radius:3px; font-family:monospace;\">ell</span> <span style=\"background:#f7f7ff; padding:2px; margin:1px; border-radius:3px; font-family:monospace;\">␠Inc</span> <span style=\"background:#eef6ff; padding:2px; margin:1px; border-radius:3px; font-family:monospace;\">.</span> <span style=\"background:#f7f7ff; padding:2px; margin:1px; border-radius:3px; font-family:monospace;\">␠(</span> <span style=\"background:#eef6ff; padding:2px; margin:1px; border-radius:3px; font-family:monospace;\">DE</span> <span style=\"background:#f7f7ff; padding:2px; margin:1px; border-radius:3px; font-family:monospace;\">LL</span> <span style=\"background:#eef6ff; padding:2px; margin:1px; border-radius:3px; font-family:monospace;\">.</span> <span style=\"background:#f7f7ff; padding:2px; margin:1px; border-radius:3px; font-family:monospace;\">O</span> <span style=\"background:#eef6ff; padding:2px; margin:1px; border-radius:3px; font-family:monospace;\">)</span></div><div style='margin-top:6px; font-family:monospace;'>count = 63</div>"
      ],
      "text/plain": [
       "<IPython.core.display.HTML object>"
      ]
     },
     "metadata": {},
     "output_type": "display_data"
    },
    {
     "data": {
      "text/html": [
       "<h4>bert-base-uncased</h4><div style='font-family:system-ui; margin-bottom:6px;'><b>Tokens:</b></div><div><span style=\"background:#eef6ff; padding:2px; margin:1px; border-radius:3px; font-family:monospace;\">stocks</span> <span style=\"background:#f7f7ff; padding:2px; margin:1px; border-radius:3px; font-family:monospace;\">end</span> <span style=\"background:#eef6ff; padding:2px; margin:1px; border-radius:3px; font-family:monospace;\">up</span> <span style=\"background:#f7f7ff; padding:2px; margin:1px; border-radius:3px; font-family:monospace;\">,</span> <span style=\"background:#eef6ff; padding:2px; margin:1px; border-radius:3px; font-family:monospace;\">but</span> <span style=\"background:#f7f7ff; padding:2px; margin:1px; border-radius:3px; font-family:monospace;\">near</span> <span style=\"background:#eef6ff; padding:2px; margin:1px; border-radius:3px; font-family:monospace;\">year</span> <span style=\"background:#f7f7ff; padding:2px; margin:1px; border-radius:3px; font-family:monospace;\">low</span> <span style=\"background:#eef6ff; padding:2px; margin:1px; border-radius:3px; font-family:monospace;\">##s</span> <span style=\"background:#f7f7ff; padding:2px; margin:1px; border-radius:3px; font-family:monospace;\">(</span> <span style=\"background:#eef6ff; padding:2px; margin:1px; border-radius:3px; font-family:monospace;\">reuters</span> <span style=\"background:#f7f7ff; padding:2px; margin:1px; border-radius:3px; font-family:monospace;\">)</span> <span style=\"background:#eef6ff; padding:2px; margin:1px; border-radius:3px; font-family:monospace;\">reuters</span> <span style=\"background:#f7f7ff; padding:2px; margin:1px; border-radius:3px; font-family:monospace;\">-</span> <span style=\"background:#eef6ff; padding:2px; margin:1px; border-radius:3px; font-family:monospace;\">stocks</span> <span style=\"background:#f7f7ff; padding:2px; margin:1px; border-radius:3px; font-family:monospace;\">ended</span> <span style=\"background:#eef6ff; padding:2px; margin:1px; border-radius:3px; font-family:monospace;\">slightly</span> <span style=\"background:#f7f7ff; padding:2px; margin:1px; border-radius:3px; font-family:monospace;\">higher</span> <span style=\"background:#eef6ff; padding:2px; margin:1px; border-radius:3px; font-family:monospace;\">on</span> <span style=\"background:#f7f7ff; padding:2px; margin:1px; border-radius:3px; font-family:monospace;\">friday</span> <span style=\"background:#eef6ff; padding:2px; margin:1px; border-radius:3px; font-family:monospace;\">\\</span> <span style=\"background:#f7f7ff; padding:2px; margin:1px; border-radius:3px; font-family:monospace;\">but</span> <span style=\"background:#eef6ff; padding:2px; margin:1px; border-radius:3px; font-family:monospace;\">stayed</span> <span style=\"background:#f7f7ff; padding:2px; margin:1px; border-radius:3px; font-family:monospace;\">near</span> <span style=\"background:#eef6ff; padding:2px; margin:1px; border-radius:3px; font-family:monospace;\">low</span> <span style=\"background:#f7f7ff; padding:2px; margin:1px; border-radius:3px; font-family:monospace;\">##s</span> <span style=\"background:#eef6ff; padding:2px; margin:1px; border-radius:3px; font-family:monospace;\">for</span> <span style=\"background:#f7f7ff; padding:2px; margin:1px; border-radius:3px; font-family:monospace;\">the</span> <span style=\"background:#eef6ff; padding:2px; margin:1px; border-radius:3px; font-family:monospace;\">year</span> <span style=\"background:#f7f7ff; padding:2px; margin:1px; border-radius:3px; font-family:monospace;\">as</span> <span style=\"background:#eef6ff; padding:2px; margin:1px; border-radius:3px; font-family:monospace;\">oil</span> <span style=\"background:#f7f7ff; padding:2px; margin:1px; border-radius:3px; font-family:monospace;\">prices</span> <span style=\"background:#eef6ff; padding:2px; margin:1px; border-radius:3px; font-family:monospace;\">surged</span> <span style=\"background:#f7f7ff; padding:2px; margin:1px; border-radius:3px; font-family:monospace;\">past</span> <span style=\"background:#eef6ff; padding:2px; margin:1px; border-radius:3px; font-family:monospace;\">#</span> <span style=\"background:#f7f7ff; padding:2px; margin:1px; border-radius:3px; font-family:monospace;\">36</span> <span style=\"background:#eef6ff; padding:2px; margin:1px; border-radius:3px; font-family:monospace;\">;</span> <span style=\"background:#f7f7ff; padding:2px; margin:1px; border-radius:3px; font-family:monospace;\">46</span> <span style=\"background:#eef6ff; padding:2px; margin:1px; border-radius:3px; font-family:monospace;\">\\</span> <span style=\"background:#f7f7ff; padding:2px; margin:1px; border-radius:3px; font-family:monospace;\">a</span> <span style=\"background:#eef6ff; padding:2px; margin:1px; border-radius:3px; font-family:monospace;\">barrel</span> <span style=\"background:#f7f7ff; padding:2px; margin:1px; border-radius:3px; font-family:monospace;\">,</span> <span style=\"background:#eef6ff; padding:2px; margin:1px; border-radius:3px; font-family:monospace;\">offset</span> <span style=\"background:#f7f7ff; padding:2px; margin:1px; border-radius:3px; font-family:monospace;\">##ting</span> <span style=\"background:#eef6ff; padding:2px; margin:1px; border-radius:3px; font-family:monospace;\">a</span> <span style=\"background:#f7f7ff; padding:2px; margin:1px; border-radius:3px; font-family:monospace;\">positive</span> <span style=\"background:#eef6ff; padding:2px; margin:1px; border-radius:3px; font-family:monospace;\">outlook</span> <span style=\"background:#f7f7ff; padding:2px; margin:1px; border-radius:3px; font-family:monospace;\">from</span> <span style=\"background:#eef6ff; padding:2px; margin:1px; border-radius:3px; font-family:monospace;\">computer</span> <span style=\"background:#f7f7ff; padding:2px; margin:1px; border-radius:3px; font-family:monospace;\">maker</span> <span style=\"background:#eef6ff; padding:2px; margin:1px; border-radius:3px; font-family:monospace;\">\\</span> <span style=\"background:#f7f7ff; padding:2px; margin:1px; border-radius:3px; font-family:monospace;\">dell</span> <span style=\"background:#eef6ff; padding:2px; margin:1px; border-radius:3px; font-family:monospace;\">inc</span> <span style=\"background:#f7f7ff; padding:2px; margin:1px; border-radius:3px; font-family:monospace;\">.</span> <span style=\"background:#eef6ff; padding:2px; margin:1px; border-radius:3px; font-family:monospace;\">(</span> <span style=\"background:#f7f7ff; padding:2px; margin:1px; border-radius:3px; font-family:monospace;\">dell</span> <span style=\"background:#eef6ff; padding:2px; margin:1px; border-radius:3px; font-family:monospace;\">.</span> <span style=\"background:#f7f7ff; padding:2px; margin:1px; border-radius:3px; font-family:monospace;\">o</span> <span style=\"background:#eef6ff; padding:2px; margin:1px; border-radius:3px; font-family:monospace;\">)</span></div><div style='margin-top:6px; font-family:monospace;'>count = 59</div>"
      ],
      "text/plain": [
       "<IPython.core.display.HTML object>"
      ]
     },
     "metadata": {},
     "output_type": "display_data"
    },
    {
     "data": {
      "text/html": [
       "<h4>distilroberta-base</h4><div style='font-family:system-ui; margin-bottom:6px;'><b>Tokens:</b></div><div><span style=\"background:#eef6ff; padding:2px; margin:1px; border-radius:3px; font-family:monospace;\">St</span> <span style=\"background:#f7f7ff; padding:2px; margin:1px; border-radius:3px; font-family:monospace;\">ocks</span> <span style=\"background:#eef6ff; padding:2px; margin:1px; border-radius:3px; font-family:monospace;\">␠End</span> <span style=\"background:#f7f7ff; padding:2px; margin:1px; border-radius:3px; font-family:monospace;\">␠Up</span> <span style=\"background:#eef6ff; padding:2px; margin:1px; border-radius:3px; font-family:monospace;\">,</span> <span style=\"background:#f7f7ff; padding:2px; margin:1px; border-radius:3px; font-family:monospace;\">␠But</span> <span style=\"background:#eef6ff; padding:2px; margin:1px; border-radius:3px; font-family:monospace;\">␠Near</span> <span style=\"background:#f7f7ff; padding:2px; margin:1px; border-radius:3px; font-family:monospace;\">␠Year</span> <span style=\"background:#eef6ff; padding:2px; margin:1px; border-radius:3px; font-family:monospace;\">␠L</span> <span style=\"background:#f7f7ff; padding:2px; margin:1px; border-radius:3px; font-family:monospace;\">ows</span> <span style=\"background:#eef6ff; padding:2px; margin:1px; border-radius:3px; font-family:monospace;\">␠(</span> <span style=\"background:#f7f7ff; padding:2px; margin:1px; border-radius:3px; font-family:monospace;\">Reuters</span> <span style=\"background:#eef6ff; padding:2px; margin:1px; border-radius:3px; font-family:monospace;\">)</span> <span style=\"background:#f7f7ff; padding:2px; margin:1px; border-radius:3px; font-family:monospace;\">␠Reuters</span> <span style=\"background:#eef6ff; padding:2px; margin:1px; border-radius:3px; font-family:monospace;\">␠-</span> <span style=\"background:#f7f7ff; padding:2px; margin:1px; border-radius:3px; font-family:monospace;\">␠St</span> <span style=\"background:#eef6ff; padding:2px; margin:1px; border-radius:3px; font-family:monospace;\">ocks</span> <span style=\"background:#f7f7ff; padding:2px; margin:1px; border-radius:3px; font-family:monospace;\">␠ended</span> <span style=\"background:#eef6ff; padding:2px; margin:1px; border-radius:3px; font-family:monospace;\">␠slightly</span> <span style=\"background:#f7f7ff; padding:2px; margin:1px; border-radius:3px; font-family:monospace;\">␠higher</span> <span style=\"background:#eef6ff; padding:2px; margin:1px; border-radius:3px; font-family:monospace;\">␠on</span> <span style=\"background:#f7f7ff; padding:2px; margin:1px; border-radius:3px; font-family:monospace;\">␠Friday</span> <span style=\"background:#eef6ff; padding:2px; margin:1px; border-radius:3px; font-family:monospace;\">\\</span> <span style=\"background:#f7f7ff; padding:2px; margin:1px; border-radius:3px; font-family:monospace;\">but</span> <span style=\"background:#eef6ff; padding:2px; margin:1px; border-radius:3px; font-family:monospace;\">␠stayed</span> <span style=\"background:#f7f7ff; padding:2px; margin:1px; border-radius:3px; font-family:monospace;\">␠near</span> <span style=\"background:#eef6ff; padding:2px; margin:1px; border-radius:3px; font-family:monospace;\">␠lows</span> <span style=\"background:#f7f7ff; padding:2px; margin:1px; border-radius:3px; font-family:monospace;\">␠for</span> <span style=\"background:#eef6ff; padding:2px; margin:1px; border-radius:3px; font-family:monospace;\">␠the</span> <span style=\"background:#f7f7ff; padding:2px; margin:1px; border-radius:3px; font-family:monospace;\">␠year</span> <span style=\"background:#eef6ff; padding:2px; margin:1px; border-radius:3px; font-family:monospace;\">␠as</span> <span style=\"background:#f7f7ff; padding:2px; margin:1px; border-radius:3px; font-family:monospace;\">␠oil</span> <span style=\"background:#eef6ff; padding:2px; margin:1px; border-radius:3px; font-family:monospace;\">␠prices</span> <span style=\"background:#f7f7ff; padding:2px; margin:1px; border-radius:3px; font-family:monospace;\">␠surged</span> <span style=\"background:#eef6ff; padding:2px; margin:1px; border-radius:3px; font-family:monospace;\">␠past</span> <span style=\"background:#f7f7ff; padding:2px; margin:1px; border-radius:3px; font-family:monospace;\">␠</span> <span style=\"background:#eef6ff; padding:2px; margin:1px; border-radius:3px; font-family:monospace;\">␠#</span> <span style=\"background:#f7f7ff; padding:2px; margin:1px; border-radius:3px; font-family:monospace;\">36</span> <span style=\"background:#eef6ff; padding:2px; margin:1px; border-radius:3px; font-family:monospace;\">;</span> <span style=\"background:#f7f7ff; padding:2px; margin:1px; border-radius:3px; font-family:monospace;\">46</span> <span style=\"background:#eef6ff; padding:2px; margin:1px; border-radius:3px; font-family:monospace;\">\\</span> <span style=\"background:#f7f7ff; padding:2px; margin:1px; border-radius:3px; font-family:monospace;\">a</span> <span style=\"background:#eef6ff; padding:2px; margin:1px; border-radius:3px; font-family:monospace;\">␠barrel</span> <span style=\"background:#f7f7ff; padding:2px; margin:1px; border-radius:3px; font-family:monospace;\">,</span> <span style=\"background:#eef6ff; padding:2px; margin:1px; border-radius:3px; font-family:monospace;\">␠offset</span> <span style=\"background:#f7f7ff; padding:2px; margin:1px; border-radius:3px; font-family:monospace;\">ting</span> <span style=\"background:#eef6ff; padding:2px; margin:1px; border-radius:3px; font-family:monospace;\">␠a</span> <span style=\"background:#f7f7ff; padding:2px; margin:1px; border-radius:3px; font-family:monospace;\">␠positive</span> <span style=\"background:#eef6ff; padding:2px; margin:1px; border-radius:3px; font-family:monospace;\">␠outlook</span> <span style=\"background:#f7f7ff; padding:2px; margin:1px; border-radius:3px; font-family:monospace;\">␠from</span> <span style=\"background:#eef6ff; padding:2px; margin:1px; border-radius:3px; font-family:monospace;\">␠computer</span> <span style=\"background:#f7f7ff; padding:2px; margin:1px; border-radius:3px; font-family:monospace;\">␠maker</span> <span style=\"background:#eef6ff; padding:2px; margin:1px; border-radius:3px; font-family:monospace;\">\\</span> <span style=\"background:#f7f7ff; padding:2px; margin:1px; border-radius:3px; font-family:monospace;\">D</span> <span style=\"background:#eef6ff; padding:2px; margin:1px; border-radius:3px; font-family:monospace;\">ell</span> <span style=\"background:#f7f7ff; padding:2px; margin:1px; border-radius:3px; font-family:monospace;\">␠Inc</span> <span style=\"background:#eef6ff; padding:2px; margin:1px; border-radius:3px; font-family:monospace;\">.</span> <span style=\"background:#f7f7ff; padding:2px; margin:1px; border-radius:3px; font-family:monospace;\">␠(</span> <span style=\"background:#eef6ff; padding:2px; margin:1px; border-radius:3px; font-family:monospace;\">DE</span> <span style=\"background:#f7f7ff; padding:2px; margin:1px; border-radius:3px; font-family:monospace;\">LL</span> <span style=\"background:#eef6ff; padding:2px; margin:1px; border-radius:3px; font-family:monospace;\">.</span> <span style=\"background:#f7f7ff; padding:2px; margin:1px; border-radius:3px; font-family:monospace;\">O</span> <span style=\"background:#eef6ff; padding:2px; margin:1px; border-radius:3px; font-family:monospace;\">)</span></div><div style='margin-top:6px; font-family:monospace;'>count = 63</div>"
      ],
      "text/plain": [
       "<IPython.core.display.HTML object>"
      ]
     },
     "metadata": {},
     "output_type": "display_data"
    },
    {
     "data": {
      "text/html": [
       "<h3>Example: medium</h3><p style='line-height:1.4'>Google IPO faces Playboy slip-up The bidding gets underway for Google's public offering, despite last-minute worries over an interview with its bosses in Playboy magazine. Eurozone economy keeps growing Official figures show the 12-nation eurozone economy continues to grow, but there are warnings it may slow down later in the year.</p>"
      ],
      "text/plain": [
       "<IPython.core.display.HTML object>"
      ]
     },
     "metadata": {},
     "output_type": "display_data"
    },
    {
     "data": {
      "text/html": [
       "<h4>gpt2</h4><div style='font-family:system-ui; margin-bottom:6px;'><b>Tokens:</b></div><div><span style=\"background:#eef6ff; padding:2px; margin:1px; border-radius:3px; font-family:monospace;\">Google</span> <span style=\"background:#f7f7ff; padding:2px; margin:1px; border-radius:3px; font-family:monospace;\">␠IPO</span> <span style=\"background:#eef6ff; padding:2px; margin:1px; border-radius:3px; font-family:monospace;\">␠faces</span> <span style=\"background:#f7f7ff; padding:2px; margin:1px; border-radius:3px; font-family:monospace;\">␠Playboy</span> <span style=\"background:#eef6ff; padding:2px; margin:1px; border-radius:3px; font-family:monospace;\">␠slip</span> <span style=\"background:#f7f7ff; padding:2px; margin:1px; border-radius:3px; font-family:monospace;\">-</span> <span style=\"background:#eef6ff; padding:2px; margin:1px; border-radius:3px; font-family:monospace;\">up</span> <span style=\"background:#f7f7ff; padding:2px; margin:1px; border-radius:3px; font-family:monospace;\">␠The</span> <span style=\"background:#eef6ff; padding:2px; margin:1px; border-radius:3px; font-family:monospace;\">␠bidding</span> <span style=\"background:#f7f7ff; padding:2px; margin:1px; border-radius:3px; font-family:monospace;\">␠gets</span> <span style=\"background:#eef6ff; padding:2px; margin:1px; border-radius:3px; font-family:monospace;\">␠underway</span> <span style=\"background:#f7f7ff; padding:2px; margin:1px; border-radius:3px; font-family:monospace;\">␠for</span> <span style=\"background:#eef6ff; padding:2px; margin:1px; border-radius:3px; font-family:monospace;\">␠Google</span> <span style=\"background:#f7f7ff; padding:2px; margin:1px; border-radius:3px; font-family:monospace;\">'s</span> <span style=\"background:#eef6ff; padding:2px; margin:1px; border-radius:3px; font-family:monospace;\">␠public</span> <span style=\"background:#f7f7ff; padding:2px; margin:1px; border-radius:3px; font-family:monospace;\">␠offering</span> <span style=\"background:#eef6ff; padding:2px; margin:1px; border-radius:3px; font-family:monospace;\">,</span> <span style=\"background:#f7f7ff; padding:2px; margin:1px; border-radius:3px; font-family:monospace;\">␠despite</span> <span style=\"background:#eef6ff; padding:2px; margin:1px; border-radius:3px; font-family:monospace;\">␠last</span> <span style=\"background:#f7f7ff; padding:2px; margin:1px; border-radius:3px; font-family:monospace;\">-</span> <span style=\"background:#eef6ff; padding:2px; margin:1px; border-radius:3px; font-family:monospace;\">minute</span> <span style=\"background:#f7f7ff; padding:2px; margin:1px; border-radius:3px; font-family:monospace;\">␠worries</span> <span style=\"background:#eef6ff; padding:2px; margin:1px; border-radius:3px; font-family:monospace;\">␠over</span> <span style=\"background:#f7f7ff; padding:2px; margin:1px; border-radius:3px; font-family:monospace;\">␠an</span> <span style=\"background:#eef6ff; padding:2px; margin:1px; border-radius:3px; font-family:monospace;\">␠interview</span> <span style=\"background:#f7f7ff; padding:2px; margin:1px; border-radius:3px; font-family:monospace;\">␠with</span> <span style=\"background:#eef6ff; padding:2px; margin:1px; border-radius:3px; font-family:monospace;\">␠its</span> <span style=\"background:#f7f7ff; padding:2px; margin:1px; border-radius:3px; font-family:monospace;\">␠bosses</span> <span style=\"background:#eef6ff; padding:2px; margin:1px; border-radius:3px; font-family:monospace;\">␠in</span> <span style=\"background:#f7f7ff; padding:2px; margin:1px; border-radius:3px; font-family:monospace;\">␠Playboy</span> <span style=\"background:#eef6ff; padding:2px; margin:1px; border-radius:3px; font-family:monospace;\">␠magazine</span> <span style=\"background:#f7f7ff; padding:2px; margin:1px; border-radius:3px; font-family:monospace;\">.</span> <span style=\"background:#eef6ff; padding:2px; margin:1px; border-radius:3px; font-family:monospace;\">␠Euro</span> <span style=\"background:#f7f7ff; padding:2px; margin:1px; border-radius:3px; font-family:monospace;\">zone</span> <span style=\"background:#eef6ff; padding:2px; margin:1px; border-radius:3px; font-family:monospace;\">␠economy</span> <span style=\"background:#f7f7ff; padding:2px; margin:1px; border-radius:3px; font-family:monospace;\">␠keeps</span> <span style=\"background:#eef6ff; padding:2px; margin:1px; border-radius:3px; font-family:monospace;\">␠growing</span> <span style=\"background:#f7f7ff; padding:2px; margin:1px; border-radius:3px; font-family:monospace;\">␠Official</span> <span style=\"background:#eef6ff; padding:2px; margin:1px; border-radius:3px; font-family:monospace;\">␠figures</span> <span style=\"background:#f7f7ff; padding:2px; margin:1px; border-radius:3px; font-family:monospace;\">␠show</span> <span style=\"background:#eef6ff; padding:2px; margin:1px; border-radius:3px; font-family:monospace;\">␠the</span> <span style=\"background:#f7f7ff; padding:2px; margin:1px; border-radius:3px; font-family:monospace;\">␠12</span> <span style=\"background:#eef6ff; padding:2px; margin:1px; border-radius:3px; font-family:monospace;\">-</span> <span style=\"background:#f7f7ff; padding:2px; margin:1px; border-radius:3px; font-family:monospace;\">nation</span> <span style=\"background:#eef6ff; padding:2px; margin:1px; border-radius:3px; font-family:monospace;\">␠eurozone</span> <span style=\"background:#f7f7ff; padding:2px; margin:1px; border-radius:3px; font-family:monospace;\">␠economy</span> <span style=\"background:#eef6ff; padding:2px; margin:1px; border-radius:3px; font-family:monospace;\">␠continues</span> <span style=\"background:#f7f7ff; padding:2px; margin:1px; border-radius:3px; font-family:monospace;\">␠to</span> <span style=\"background:#eef6ff; padding:2px; margin:1px; border-radius:3px; font-family:monospace;\">␠grow</span> <span style=\"background:#f7f7ff; padding:2px; margin:1px; border-radius:3px; font-family:monospace;\">,</span> <span style=\"background:#eef6ff; padding:2px; margin:1px; border-radius:3px; font-family:monospace;\">␠but</span> <span style=\"background:#f7f7ff; padding:2px; margin:1px; border-radius:3px; font-family:monospace;\">␠there</span> <span style=\"background:#eef6ff; padding:2px; margin:1px; border-radius:3px; font-family:monospace;\">␠are</span> <span style=\"background:#f7f7ff; padding:2px; margin:1px; border-radius:3px; font-family:monospace;\">␠warnings</span> <span style=\"background:#eef6ff; padding:2px; margin:1px; border-radius:3px; font-family:monospace;\">␠it</span> <span style=\"background:#f7f7ff; padding:2px; margin:1px; border-radius:3px; font-family:monospace;\">␠may</span> <span style=\"background:#eef6ff; padding:2px; margin:1px; border-radius:3px; font-family:monospace;\">␠slow</span> <span style=\"background:#f7f7ff; padding:2px; margin:1px; border-radius:3px; font-family:monospace;\">␠down</span> <span style=\"background:#eef6ff; padding:2px; margin:1px; border-radius:3px; font-family:monospace;\">␠later</span> <span style=\"background:#f7f7ff; padding:2px; margin:1px; border-radius:3px; font-family:monospace;\">␠in</span> <span style=\"background:#eef6ff; padding:2px; margin:1px; border-radius:3px; font-family:monospace;\">␠the</span> <span style=\"background:#f7f7ff; padding:2px; margin:1px; border-radius:3px; font-family:monospace;\">␠year</span> <span style=\"background:#eef6ff; padding:2px; margin:1px; border-radius:3px; font-family:monospace;\">.</span></div><div style='margin-top:6px; font-family:monospace;'>count = 63</div>"
      ],
      "text/plain": [
       "<IPython.core.display.HTML object>"
      ]
     },
     "metadata": {},
     "output_type": "display_data"
    },
    {
     "data": {
      "text/html": [
       "<h4>bert-base-uncased</h4><div style='font-family:system-ui; margin-bottom:6px;'><b>Tokens:</b></div><div><span style=\"background:#eef6ff; padding:2px; margin:1px; border-radius:3px; font-family:monospace;\">google</span> <span style=\"background:#f7f7ff; padding:2px; margin:1px; border-radius:3px; font-family:monospace;\">ip</span> <span style=\"background:#eef6ff; padding:2px; margin:1px; border-radius:3px; font-family:monospace;\">##o</span> <span style=\"background:#f7f7ff; padding:2px; margin:1px; border-radius:3px; font-family:monospace;\">faces</span> <span style=\"background:#eef6ff; padding:2px; margin:1px; border-radius:3px; font-family:monospace;\">playboy</span> <span style=\"background:#f7f7ff; padding:2px; margin:1px; border-radius:3px; font-family:monospace;\">slip</span> <span style=\"background:#eef6ff; padding:2px; margin:1px; border-radius:3px; font-family:monospace;\">-</span> <span style=\"background:#f7f7ff; padding:2px; margin:1px; border-radius:3px; font-family:monospace;\">up</span> <span style=\"background:#eef6ff; padding:2px; margin:1px; border-radius:3px; font-family:monospace;\">the</span> <span style=\"background:#f7f7ff; padding:2px; margin:1px; border-radius:3px; font-family:monospace;\">bidding</span> <span style=\"background:#eef6ff; padding:2px; margin:1px; border-radius:3px; font-family:monospace;\">gets</span> <span style=\"background:#f7f7ff; padding:2px; margin:1px; border-radius:3px; font-family:monospace;\">underway</span> <span style=\"background:#eef6ff; padding:2px; margin:1px; border-radius:3px; font-family:monospace;\">for</span> <span style=\"background:#f7f7ff; padding:2px; margin:1px; border-radius:3px; font-family:monospace;\">google</span> <span style=\"background:#eef6ff; padding:2px; margin:1px; border-radius:3px; font-family:monospace;\">'</span> <span style=\"background:#f7f7ff; padding:2px; margin:1px; border-radius:3px; font-family:monospace;\">s</span> <span style=\"background:#eef6ff; padding:2px; margin:1px; border-radius:3px; font-family:monospace;\">public</span> <span style=\"background:#f7f7ff; padding:2px; margin:1px; border-radius:3px; font-family:monospace;\">offering</span> <span style=\"background:#eef6ff; padding:2px; margin:1px; border-radius:3px; font-family:monospace;\">,</span> <span style=\"background:#f7f7ff; padding:2px; margin:1px; border-radius:3px; font-family:monospace;\">despite</span> <span style=\"background:#eef6ff; padding:2px; margin:1px; border-radius:3px; font-family:monospace;\">last</span> <span style=\"background:#f7f7ff; padding:2px; margin:1px; border-radius:3px; font-family:monospace;\">-</span> <span style=\"background:#eef6ff; padding:2px; margin:1px; border-radius:3px; font-family:monospace;\">minute</span> <span style=\"background:#f7f7ff; padding:2px; margin:1px; border-radius:3px; font-family:monospace;\">worries</span> <span style=\"background:#eef6ff; padding:2px; margin:1px; border-radius:3px; font-family:monospace;\">over</span> <span style=\"background:#f7f7ff; padding:2px; margin:1px; border-radius:3px; font-family:monospace;\">an</span> <span style=\"background:#eef6ff; padding:2px; margin:1px; border-radius:3px; font-family:monospace;\">interview</span> <span style=\"background:#f7f7ff; padding:2px; margin:1px; border-radius:3px; font-family:monospace;\">with</span> <span style=\"background:#eef6ff; padding:2px; margin:1px; border-radius:3px; font-family:monospace;\">its</span> <span style=\"background:#f7f7ff; padding:2px; margin:1px; border-radius:3px; font-family:monospace;\">bosses</span> <span style=\"background:#eef6ff; padding:2px; margin:1px; border-radius:3px; font-family:monospace;\">in</span> <span style=\"background:#f7f7ff; padding:2px; margin:1px; border-radius:3px; font-family:monospace;\">playboy</span> <span style=\"background:#eef6ff; padding:2px; margin:1px; border-radius:3px; font-family:monospace;\">magazine</span> <span style=\"background:#f7f7ff; padding:2px; margin:1px; border-radius:3px; font-family:monospace;\">.</span> <span style=\"background:#eef6ff; padding:2px; margin:1px; border-radius:3px; font-family:monospace;\">euro</span> <span style=\"background:#f7f7ff; padding:2px; margin:1px; border-radius:3px; font-family:monospace;\">##zone</span> <span style=\"background:#eef6ff; padding:2px; margin:1px; border-radius:3px; font-family:monospace;\">economy</span> <span style=\"background:#f7f7ff; padding:2px; margin:1px; border-radius:3px; font-family:monospace;\">keeps</span> <span style=\"background:#eef6ff; padding:2px; margin:1px; border-radius:3px; font-family:monospace;\">growing</span> <span style=\"background:#f7f7ff; padding:2px; margin:1px; border-radius:3px; font-family:monospace;\">official</span> <span style=\"background:#eef6ff; padding:2px; margin:1px; border-radius:3px; font-family:monospace;\">figures</span> <span style=\"background:#f7f7ff; padding:2px; margin:1px; border-radius:3px; font-family:monospace;\">show</span> <span style=\"background:#eef6ff; padding:2px; margin:1px; border-radius:3px; font-family:monospace;\">the</span> <span style=\"background:#f7f7ff; padding:2px; margin:1px; border-radius:3px; font-family:monospace;\">12</span> <span style=\"background:#eef6ff; padding:2px; margin:1px; border-radius:3px; font-family:monospace;\">-</span> <span style=\"background:#f7f7ff; padding:2px; margin:1px; border-radius:3px; font-family:monospace;\">nation</span> <span style=\"background:#eef6ff; padding:2px; margin:1px; border-radius:3px; font-family:monospace;\">euro</span> <span style=\"background:#f7f7ff; padding:2px; margin:1px; border-radius:3px; font-family:monospace;\">##zone</span> <span style=\"background:#eef6ff; padding:2px; margin:1px; border-radius:3px; font-family:monospace;\">economy</span> <span style=\"background:#f7f7ff; padding:2px; margin:1px; border-radius:3px; font-family:monospace;\">continues</span> <span style=\"background:#eef6ff; padding:2px; margin:1px; border-radius:3px; font-family:monospace;\">to</span> <span style=\"background:#f7f7ff; padding:2px; margin:1px; border-radius:3px; font-family:monospace;\">grow</span> <span style=\"background:#eef6ff; padding:2px; margin:1px; border-radius:3px; font-family:monospace;\">,</span> <span style=\"background:#f7f7ff; padding:2px; margin:1px; border-radius:3px; font-family:monospace;\">but</span> <span style=\"background:#eef6ff; padding:2px; margin:1px; border-radius:3px; font-family:monospace;\">there</span> <span style=\"background:#f7f7ff; padding:2px; margin:1px; border-radius:3px; font-family:monospace;\">are</span> <span style=\"background:#eef6ff; padding:2px; margin:1px; border-radius:3px; font-family:monospace;\">warnings</span> <span style=\"background:#f7f7ff; padding:2px; margin:1px; border-radius:3px; font-family:monospace;\">it</span> <span style=\"background:#eef6ff; padding:2px; margin:1px; border-radius:3px; font-family:monospace;\">may</span> <span style=\"background:#f7f7ff; padding:2px; margin:1px; border-radius:3px; font-family:monospace;\">slow</span> <span style=\"background:#eef6ff; padding:2px; margin:1px; border-radius:3px; font-family:monospace;\">down</span> <span style=\"background:#f7f7ff; padding:2px; margin:1px; border-radius:3px; font-family:monospace;\">later</span> <span style=\"background:#eef6ff; padding:2px; margin:1px; border-radius:3px; font-family:monospace;\">in</span> <span style=\"background:#f7f7ff; padding:2px; margin:1px; border-radius:3px; font-family:monospace;\">the</span> <span style=\"background:#eef6ff; padding:2px; margin:1px; border-radius:3px; font-family:monospace;\">year</span> <span style=\"background:#f7f7ff; padding:2px; margin:1px; border-radius:3px; font-family:monospace;\">.</span></div><div style='margin-top:6px; font-family:monospace;'>count = 66</div>"
      ],
      "text/plain": [
       "<IPython.core.display.HTML object>"
      ]
     },
     "metadata": {},
     "output_type": "display_data"
    },
    {
     "data": {
      "text/html": [
       "<h4>distilroberta-base</h4><div style='font-family:system-ui; margin-bottom:6px;'><b>Tokens:</b></div><div><span style=\"background:#eef6ff; padding:2px; margin:1px; border-radius:3px; font-family:monospace;\">Google</span> <span style=\"background:#f7f7ff; padding:2px; margin:1px; border-radius:3px; font-family:monospace;\">␠IPO</span> <span style=\"background:#eef6ff; padding:2px; margin:1px; border-radius:3px; font-family:monospace;\">␠faces</span> <span style=\"background:#f7f7ff; padding:2px; margin:1px; border-radius:3px; font-family:monospace;\">␠Playboy</span> <span style=\"background:#eef6ff; padding:2px; margin:1px; border-radius:3px; font-family:monospace;\">␠slip</span> <span style=\"background:#f7f7ff; padding:2px; margin:1px; border-radius:3px; font-family:monospace;\">-</span> <span style=\"background:#eef6ff; padding:2px; margin:1px; border-radius:3px; font-family:monospace;\">up</span> <span style=\"background:#f7f7ff; padding:2px; margin:1px; border-radius:3px; font-family:monospace;\">␠The</span> <span style=\"background:#eef6ff; padding:2px; margin:1px; border-radius:3px; font-family:monospace;\">␠bidding</span> <span style=\"background:#f7f7ff; padding:2px; margin:1px; border-radius:3px; font-family:monospace;\">␠gets</span> <span style=\"background:#eef6ff; padding:2px; margin:1px; border-radius:3px; font-family:monospace;\">␠underway</span> <span style=\"background:#f7f7ff; padding:2px; margin:1px; border-radius:3px; font-family:monospace;\">␠for</span> <span style=\"background:#eef6ff; padding:2px; margin:1px; border-radius:3px; font-family:monospace;\">␠Google</span> <span style=\"background:#f7f7ff; padding:2px; margin:1px; border-radius:3px; font-family:monospace;\">'s</span> <span style=\"background:#eef6ff; padding:2px; margin:1px; border-radius:3px; font-family:monospace;\">␠public</span> <span style=\"background:#f7f7ff; padding:2px; margin:1px; border-radius:3px; font-family:monospace;\">␠offering</span> <span style=\"background:#eef6ff; padding:2px; margin:1px; border-radius:3px; font-family:monospace;\">,</span> <span style=\"background:#f7f7ff; padding:2px; margin:1px; border-radius:3px; font-family:monospace;\">␠despite</span> <span style=\"background:#eef6ff; padding:2px; margin:1px; border-radius:3px; font-family:monospace;\">␠last</span> <span style=\"background:#f7f7ff; padding:2px; margin:1px; border-radius:3px; font-family:monospace;\">-</span> <span style=\"background:#eef6ff; padding:2px; margin:1px; border-radius:3px; font-family:monospace;\">minute</span> <span style=\"background:#f7f7ff; padding:2px; margin:1px; border-radius:3px; font-family:monospace;\">␠worries</span> <span style=\"background:#eef6ff; padding:2px; margin:1px; border-radius:3px; font-family:monospace;\">␠over</span> <span style=\"background:#f7f7ff; padding:2px; margin:1px; border-radius:3px; font-family:monospace;\">␠an</span> <span style=\"background:#eef6ff; padding:2px; margin:1px; border-radius:3px; font-family:monospace;\">␠interview</span> <span style=\"background:#f7f7ff; padding:2px; margin:1px; border-radius:3px; font-family:monospace;\">␠with</span> <span style=\"background:#eef6ff; padding:2px; margin:1px; border-radius:3px; font-family:monospace;\">␠its</span> <span style=\"background:#f7f7ff; padding:2px; margin:1px; border-radius:3px; font-family:monospace;\">␠bosses</span> <span style=\"background:#eef6ff; padding:2px; margin:1px; border-radius:3px; font-family:monospace;\">␠in</span> <span style=\"background:#f7f7ff; padding:2px; margin:1px; border-radius:3px; font-family:monospace;\">␠Playboy</span> <span style=\"background:#eef6ff; padding:2px; margin:1px; border-radius:3px; font-family:monospace;\">␠magazine</span> <span style=\"background:#f7f7ff; padding:2px; margin:1px; border-radius:3px; font-family:monospace;\">.</span> <span style=\"background:#eef6ff; padding:2px; margin:1px; border-radius:3px; font-family:monospace;\">␠Euro</span> <span style=\"background:#f7f7ff; padding:2px; margin:1px; border-radius:3px; font-family:monospace;\">zone</span> <span style=\"background:#eef6ff; padding:2px; margin:1px; border-radius:3px; font-family:monospace;\">␠economy</span> <span style=\"background:#f7f7ff; padding:2px; margin:1px; border-radius:3px; font-family:monospace;\">␠keeps</span> <span style=\"background:#eef6ff; padding:2px; margin:1px; border-radius:3px; font-family:monospace;\">␠growing</span> <span style=\"background:#f7f7ff; padding:2px; margin:1px; border-radius:3px; font-family:monospace;\">␠Official</span> <span style=\"background:#eef6ff; padding:2px; margin:1px; border-radius:3px; font-family:monospace;\">␠figures</span> <span style=\"background:#f7f7ff; padding:2px; margin:1px; border-radius:3px; font-family:monospace;\">␠show</span> <span style=\"background:#eef6ff; padding:2px; margin:1px; border-radius:3px; font-family:monospace;\">␠the</span> <span style=\"background:#f7f7ff; padding:2px; margin:1px; border-radius:3px; font-family:monospace;\">␠12</span> <span style=\"background:#eef6ff; padding:2px; margin:1px; border-radius:3px; font-family:monospace;\">-</span> <span style=\"background:#f7f7ff; padding:2px; margin:1px; border-radius:3px; font-family:monospace;\">nation</span> <span style=\"background:#eef6ff; padding:2px; margin:1px; border-radius:3px; font-family:monospace;\">␠eurozone</span> <span style=\"background:#f7f7ff; padding:2px; margin:1px; border-radius:3px; font-family:monospace;\">␠economy</span> <span style=\"background:#eef6ff; padding:2px; margin:1px; border-radius:3px; font-family:monospace;\">␠continues</span> <span style=\"background:#f7f7ff; padding:2px; margin:1px; border-radius:3px; font-family:monospace;\">␠to</span> <span style=\"background:#eef6ff; padding:2px; margin:1px; border-radius:3px; font-family:monospace;\">␠grow</span> <span style=\"background:#f7f7ff; padding:2px; margin:1px; border-radius:3px; font-family:monospace;\">,</span> <span style=\"background:#eef6ff; padding:2px; margin:1px; border-radius:3px; font-family:monospace;\">␠but</span> <span style=\"background:#f7f7ff; padding:2px; margin:1px; border-radius:3px; font-family:monospace;\">␠there</span> <span style=\"background:#eef6ff; padding:2px; margin:1px; border-radius:3px; font-family:monospace;\">␠are</span> <span style=\"background:#f7f7ff; padding:2px; margin:1px; border-radius:3px; font-family:monospace;\">␠warnings</span> <span style=\"background:#eef6ff; padding:2px; margin:1px; border-radius:3px; font-family:monospace;\">␠it</span> <span style=\"background:#f7f7ff; padding:2px; margin:1px; border-radius:3px; font-family:monospace;\">␠may</span> <span style=\"background:#eef6ff; padding:2px; margin:1px; border-radius:3px; font-family:monospace;\">␠slow</span> <span style=\"background:#f7f7ff; padding:2px; margin:1px; border-radius:3px; font-family:monospace;\">␠down</span> <span style=\"background:#eef6ff; padding:2px; margin:1px; border-radius:3px; font-family:monospace;\">␠later</span> <span style=\"background:#f7f7ff; padding:2px; margin:1px; border-radius:3px; font-family:monospace;\">␠in</span> <span style=\"background:#eef6ff; padding:2px; margin:1px; border-radius:3px; font-family:monospace;\">␠the</span> <span style=\"background:#f7f7ff; padding:2px; margin:1px; border-radius:3px; font-family:monospace;\">␠year</span> <span style=\"background:#eef6ff; padding:2px; margin:1px; border-radius:3px; font-family:monospace;\">.</span></div><div style='margin-top:6px; font-family:monospace;'>count = 63</div>"
      ],
      "text/plain": [
       "<IPython.core.display.HTML object>"
      ]
     },
     "metadata": {},
     "output_type": "display_data"
    },
    {
     "data": {
      "text/html": [
       "<h3>Example: long</h3><p style='line-height:1.4'>Making Your Insurer Pay If Hurricane Charley blows your house down, how can you make your insurance company pay? Delightful Dell The company's results show that it's not grim all over tech world. Just all of it that isn't Dell. Chrysler's Bling King After a tough year, Detroit's troubled carmaker is back -- thanks to a maverick designer and a car that is dazzling the hip-hop crowd What's Cool In the Pool ... ... And Hot On the Deck Americans are spending more on tricking out the places where they swim. Here's a look at the new wave of accessories The Age of Doom In 1993 six geeks had a digital nightmare that changed the culture. It's about to get far creepier Hip Hop's Online Shop Celebrity fashion is booming. These webpreneurs are bringing it to main street Stoking the Steamroller No other recording artist can channel American middle-class tastes quite like Chip Davis and his best-selling band Coming to The Rescue Got a unique problem? Not to worry: you can find a financial planner for every specialized need The New Customers Are In Town Today's customers are increasingly demanding, in Asia as elsewhere in the world.  Henry Astorga describes the complex reality faced by today's marketers, which includes much higher expectations than we have been used to.  Today's customers want performance, and they want it now!  Barrel of Monkeys, 2004 Edition: Notes on Philippine Elections Well, it's election time in the Republic of the Philippines, and that means the monkeys are rolling around in those political barrels, having as much fun as they can while laughing their heads off at the strange goings-on that characterize a democratic process loosely based on the American model  but that de facto looks more like a Fellini movie crossed with a Tom and Jerry cartoon - column includes a useful election-year glossary!</p>"
      ],
      "text/plain": [
       "<IPython.core.display.HTML object>"
      ]
     },
     "metadata": {},
     "output_type": "display_data"
    },
    {
     "data": {
      "text/html": [
       "<h4>gpt2</h4><div style='font-family:system-ui; margin-bottom:6px;'><b>Tokens:</b></div><div><span style=\"background:#eef6ff; padding:2px; margin:1px; border-radius:3px; font-family:monospace;\">Making</span> <span style=\"background:#f7f7ff; padding:2px; margin:1px; border-radius:3px; font-family:monospace;\">␠Your</span> <span style=\"background:#eef6ff; padding:2px; margin:1px; border-radius:3px; font-family:monospace;\">␠Ins</span> <span style=\"background:#f7f7ff; padding:2px; margin:1px; border-radius:3px; font-family:monospace;\">urer</span> <span style=\"background:#eef6ff; padding:2px; margin:1px; border-radius:3px; font-family:monospace;\">␠Pay</span> <span style=\"background:#f7f7ff; padding:2px; margin:1px; border-radius:3px; font-family:monospace;\">␠If</span> <span style=\"background:#eef6ff; padding:2px; margin:1px; border-radius:3px; font-family:monospace;\">␠Hurricane</span> <span style=\"background:#f7f7ff; padding:2px; margin:1px; border-radius:3px; font-family:monospace;\">␠Char</span> <span style=\"background:#eef6ff; padding:2px; margin:1px; border-radius:3px; font-family:monospace;\">ley</span> <span style=\"background:#f7f7ff; padding:2px; margin:1px; border-radius:3px; font-family:monospace;\">␠blows</span> <span style=\"background:#eef6ff; padding:2px; margin:1px; border-radius:3px; font-family:monospace;\">␠your</span> <span style=\"background:#f7f7ff; padding:2px; margin:1px; border-radius:3px; font-family:monospace;\">␠house</span> <span style=\"background:#eef6ff; padding:2px; margin:1px; border-radius:3px; font-family:monospace;\">␠down</span> <span style=\"background:#f7f7ff; padding:2px; margin:1px; border-radius:3px; font-family:monospace;\">,</span> <span style=\"background:#eef6ff; padding:2px; margin:1px; border-radius:3px; font-family:monospace;\">␠how</span> <span style=\"background:#f7f7ff; padding:2px; margin:1px; border-radius:3px; font-family:monospace;\">␠can</span> <span style=\"background:#eef6ff; padding:2px; margin:1px; border-radius:3px; font-family:monospace;\">␠you</span> <span style=\"background:#f7f7ff; padding:2px; margin:1px; border-radius:3px; font-family:monospace;\">␠make</span> <span style=\"background:#eef6ff; padding:2px; margin:1px; border-radius:3px; font-family:monospace;\">␠your</span> <span style=\"background:#f7f7ff; padding:2px; margin:1px; border-radius:3px; font-family:monospace;\">␠insurance</span> <span style=\"background:#eef6ff; padding:2px; margin:1px; border-radius:3px; font-family:monospace;\">␠company</span> <span style=\"background:#f7f7ff; padding:2px; margin:1px; border-radius:3px; font-family:monospace;\">␠pay</span> <span style=\"background:#eef6ff; padding:2px; margin:1px; border-radius:3px; font-family:monospace;\">?</span> <span style=\"background:#f7f7ff; padding:2px; margin:1px; border-radius:3px; font-family:monospace;\">␠Del</span> <span style=\"background:#eef6ff; padding:2px; margin:1px; border-radius:3px; font-family:monospace;\">ight</span> <span style=\"background:#f7f7ff; padding:2px; margin:1px; border-radius:3px; font-family:monospace;\">ful</span> <span style=\"background:#eef6ff; padding:2px; margin:1px; border-radius:3px; font-family:monospace;\">␠Dell</span> <span style=\"background:#f7f7ff; padding:2px; margin:1px; border-radius:3px; font-family:monospace;\">␠The</span> <span style=\"background:#eef6ff; padding:2px; margin:1px; border-radius:3px; font-family:monospace;\">␠company</span> <span style=\"background:#f7f7ff; padding:2px; margin:1px; border-radius:3px; font-family:monospace;\">'s</span> <span style=\"background:#eef6ff; padding:2px; margin:1px; border-radius:3px; font-family:monospace;\">␠results</span> <span style=\"background:#f7f7ff; padding:2px; margin:1px; border-radius:3px; font-family:monospace;\">␠show</span> <span style=\"background:#eef6ff; padding:2px; margin:1px; border-radius:3px; font-family:monospace;\">␠that</span> <span style=\"background:#f7f7ff; padding:2px; margin:1px; border-radius:3px; font-family:monospace;\">␠it</span> <span style=\"background:#eef6ff; padding:2px; margin:1px; border-radius:3px; font-family:monospace;\">'s</span> <span style=\"background:#f7f7ff; padding:2px; margin:1px; border-radius:3px; font-family:monospace;\">␠not</span> <span style=\"background:#eef6ff; padding:2px; margin:1px; border-radius:3px; font-family:monospace;\">␠grim</span> <span style=\"background:#f7f7ff; padding:2px; margin:1px; border-radius:3px; font-family:monospace;\">␠all</span> <span style=\"background:#eef6ff; padding:2px; margin:1px; border-radius:3px; font-family:monospace;\">␠over</span> <span style=\"background:#f7f7ff; padding:2px; margin:1px; border-radius:3px; font-family:monospace;\">␠tech</span> <span style=\"background:#eef6ff; padding:2px; margin:1px; border-radius:3px; font-family:monospace;\">␠world</span> <span style=\"background:#f7f7ff; padding:2px; margin:1px; border-radius:3px; font-family:monospace;\">.</span> <span style=\"background:#eef6ff; padding:2px; margin:1px; border-radius:3px; font-family:monospace;\">␠Just</span> <span style=\"background:#f7f7ff; padding:2px; margin:1px; border-radius:3px; font-family:monospace;\">␠all</span> <span style=\"background:#eef6ff; padding:2px; margin:1px; border-radius:3px; font-family:monospace;\">␠of</span> <span style=\"background:#f7f7ff; padding:2px; margin:1px; border-radius:3px; font-family:monospace;\">␠it</span> <span style=\"background:#eef6ff; padding:2px; margin:1px; border-radius:3px; font-family:monospace;\">␠that</span> <span style=\"background:#f7f7ff; padding:2px; margin:1px; border-radius:3px; font-family:monospace;\">␠isn</span> <span style=\"background:#eef6ff; padding:2px; margin:1px; border-radius:3px; font-family:monospace;\">'t</span> <span style=\"background:#f7f7ff; padding:2px; margin:1px; border-radius:3px; font-family:monospace;\">␠Dell</span> <span style=\"background:#eef6ff; padding:2px; margin:1px; border-radius:3px; font-family:monospace;\">.</span> <span style=\"background:#f7f7ff; padding:2px; margin:1px; border-radius:3px; font-family:monospace;\">␠Chrysler</span> <span style=\"background:#eef6ff; padding:2px; margin:1px; border-radius:3px; font-family:monospace;\">'s</span> <span style=\"background:#f7f7ff; padding:2px; margin:1px; border-radius:3px; font-family:monospace;\">␠Bl</span> <span style=\"background:#eef6ff; padding:2px; margin:1px; border-radius:3px; font-family:monospace;\">ing</span> <span style=\"background:#f7f7ff; padding:2px; margin:1px; border-radius:3px; font-family:monospace;\">␠King</span> <span style=\"background:#eef6ff; padding:2px; margin:1px; border-radius:3px; font-family:monospace;\">␠After</span> <span style=\"background:#f7f7ff; padding:2px; margin:1px; border-radius:3px; font-family:monospace;\">␠a</span> <span style=\"background:#eef6ff; padding:2px; margin:1px; border-radius:3px; font-family:monospace;\">␠tough</span> <span style=\"background:#f7f7ff; padding:2px; margin:1px; border-radius:3px; font-family:monospace;\">␠year</span> <span style=\"background:#eef6ff; padding:2px; margin:1px; border-radius:3px; font-family:monospace;\">,</span> <span style=\"background:#f7f7ff; padding:2px; margin:1px; border-radius:3px; font-family:monospace;\">␠Detroit</span> <span style=\"background:#eef6ff; padding:2px; margin:1px; border-radius:3px; font-family:monospace;\">'s</span> <span style=\"background:#f7f7ff; padding:2px; margin:1px; border-radius:3px; font-family:monospace;\">␠troubled</span> <span style=\"background:#eef6ff; padding:2px; margin:1px; border-radius:3px; font-family:monospace;\">␠car</span> <span style=\"background:#f7f7ff; padding:2px; margin:1px; border-radius:3px; font-family:monospace;\">maker</span> <span style=\"background:#eef6ff; padding:2px; margin:1px; border-radius:3px; font-family:monospace;\">␠is</span> <span style=\"background:#f7f7ff; padding:2px; margin:1px; border-radius:3px; font-family:monospace;\">␠back</span> <span style=\"background:#eef6ff; padding:2px; margin:1px; border-radius:3px; font-family:monospace;\">␠--</span> <span style=\"background:#f7f7ff; padding:2px; margin:1px; border-radius:3px; font-family:monospace;\">␠thanks</span> <span style=\"background:#eef6ff; padding:2px; margin:1px; border-radius:3px; font-family:monospace;\">␠to</span> <span style=\"background:#f7f7ff; padding:2px; margin:1px; border-radius:3px; font-family:monospace;\">␠a</span> <span style=\"background:#eef6ff; padding:2px; margin:1px; border-radius:3px; font-family:monospace;\">␠m</span> <span style=\"background:#f7f7ff; padding:2px; margin:1px; border-radius:3px; font-family:monospace;\">aver</span> <span style=\"background:#eef6ff; padding:2px; margin:1px; border-radius:3px; font-family:monospace;\">ick</span> <span style=\"background:#f7f7ff; padding:2px; margin:1px; border-radius:3px; font-family:monospace;\">␠designer</span> <span style=\"background:#eef6ff; padding:2px; margin:1px; border-radius:3px; font-family:monospace;\">␠and</span> <span style=\"background:#f7f7ff; padding:2px; margin:1px; border-radius:3px; font-family:monospace;\">␠a</span> <span style=\"background:#eef6ff; padding:2px; margin:1px; border-radius:3px; font-family:monospace;\">␠car</span> <span style=\"background:#f7f7ff; padding:2px; margin:1px; border-radius:3px; font-family:monospace;\">␠that</span> <span style=\"background:#eef6ff; padding:2px; margin:1px; border-radius:3px; font-family:monospace;\">␠is</span> <span style=\"background:#f7f7ff; padding:2px; margin:1px; border-radius:3px; font-family:monospace;\">␠dazzling</span> <span style=\"background:#eef6ff; padding:2px; margin:1px; border-radius:3px; font-family:monospace;\">␠the</span> <span style=\"background:#f7f7ff; padding:2px; margin:1px; border-radius:3px; font-family:monospace;\">␠hip</span> <span style=\"background:#eef6ff; padding:2px; margin:1px; border-radius:3px; font-family:monospace;\">-</span> <span style=\"background:#f7f7ff; padding:2px; margin:1px; border-radius:3px; font-family:monospace;\">hop</span> <span style=\"background:#eef6ff; padding:2px; margin:1px; border-radius:3px; font-family:monospace;\">␠crowd</span> <span style=\"background:#f7f7ff; padding:2px; margin:1px; border-radius:3px; font-family:monospace;\">␠What</span> <span style=\"background:#eef6ff; padding:2px; margin:1px; border-radius:3px; font-family:monospace;\">'s</span> <span style=\"background:#f7f7ff; padding:2px; margin:1px; border-radius:3px; font-family:monospace;\">␠Cool</span> <span style=\"background:#eef6ff; padding:2px; margin:1px; border-radius:3px; font-family:monospace;\">␠In</span> <span style=\"background:#f7f7ff; padding:2px; margin:1px; border-radius:3px; font-family:monospace;\">␠the</span> <span style=\"background:#eef6ff; padding:2px; margin:1px; border-radius:3px; font-family:monospace;\">␠Pool</span> <span style=\"background:#f7f7ff; padding:2px; margin:1px; border-radius:3px; font-family:monospace;\">␠...</span> <span style=\"background:#eef6ff; padding:2px; margin:1px; border-radius:3px; font-family:monospace;\">␠...</span> <span style=\"background:#f7f7ff; padding:2px; margin:1px; border-radius:3px; font-family:monospace;\">␠And</span> <span style=\"background:#eef6ff; padding:2px; margin:1px; border-radius:3px; font-family:monospace;\">␠Hot</span> <span style=\"background:#f7f7ff; padding:2px; margin:1px; border-radius:3px; font-family:monospace;\">␠On</span> <span style=\"background:#eef6ff; padding:2px; margin:1px; border-radius:3px; font-family:monospace;\">␠the</span> <span style=\"background:#f7f7ff; padding:2px; margin:1px; border-radius:3px; font-family:monospace;\">␠Deck</span> <span style=\"background:#eef6ff; padding:2px; margin:1px; border-radius:3px; font-family:monospace;\">␠Americans</span> <span style=\"background:#f7f7ff; padding:2px; margin:1px; border-radius:3px; font-family:monospace;\">␠are</span> <span style=\"background:#eef6ff; padding:2px; margin:1px; border-radius:3px; font-family:monospace;\">␠spending</span> <span style=\"background:#f7f7ff; padding:2px; margin:1px; border-radius:3px; font-family:monospace;\">␠more</span> <span style=\"background:#eef6ff; padding:2px; margin:1px; border-radius:3px; font-family:monospace;\">␠on</span> <span style=\"background:#f7f7ff; padding:2px; margin:1px; border-radius:3px; font-family:monospace;\">␠trick</span> <span style=\"background:#eef6ff; padding:2px; margin:1px; border-radius:3px; font-family:monospace;\">ing</span> <span style=\"background:#f7f7ff; padding:2px; margin:1px; border-radius:3px; font-family:monospace;\">␠out</span> <span style=\"background:#eef6ff; padding:2px; margin:1px; border-radius:3px; font-family:monospace;\">␠the</span> <span style=\"background:#f7f7ff; padding:2px; margin:1px; border-radius:3px; font-family:monospace;\">␠places</span> <span style=\"background:#eef6ff; padding:2px; margin:1px; border-radius:3px; font-family:monospace;\">␠where</span> <span style=\"background:#f7f7ff; padding:2px; margin:1px; border-radius:3px; font-family:monospace;\">␠they</span> <span style=\"background:#eef6ff; padding:2px; margin:1px; border-radius:3px; font-family:monospace;\">␠swim</span> <span style=\"background:#f7f7ff; padding:2px; margin:1px; border-radius:3px; font-family:monospace;\">.</span> <span style=\"background:#eef6ff; padding:2px; margin:1px; border-radius:3px; font-family:monospace;\">␠Here</span> <span style=\"background:#f7f7ff; padding:2px; margin:1px; border-radius:3px; font-family:monospace;\">'s</span> <span style=\"background:#eef6ff; padding:2px; margin:1px; border-radius:3px; font-family:monospace;\">␠a</span> <span style=\"background:#f7f7ff; padding:2px; margin:1px; border-radius:3px; font-family:monospace;\">␠look</span> <span style=\"background:#eef6ff; padding:2px; margin:1px; border-radius:3px; font-family:monospace;\">␠at</span> <span style=\"background:#f7f7ff; padding:2px; margin:1px; border-radius:3px; font-family:monospace;\">␠the</span> <span style=\"background:#eef6ff; padding:2px; margin:1px; border-radius:3px; font-family:monospace;\">␠new</span> <span style=\"background:#f7f7ff; padding:2px; margin:1px; border-radius:3px; font-family:monospace;\">␠wave</span> <span style=\"background:#eef6ff; padding:2px; margin:1px; border-radius:3px; font-family:monospace;\">␠of</span> <span style=\"background:#f7f7ff; padding:2px; margin:1px; border-radius:3px; font-family:monospace;\">␠accessories</span> <span style=\"background:#eef6ff; padding:2px; margin:1px; border-radius:3px; font-family:monospace;\">␠The</span> <span style=\"background:#f7f7ff; padding:2px; margin:1px; border-radius:3px; font-family:monospace;\">␠Age</span> <span style=\"background:#eef6ff; padding:2px; margin:1px; border-radius:3px; font-family:monospace;\">␠of</span> <span style=\"background:#f7f7ff; padding:2px; margin:1px; border-radius:3px; font-family:monospace;\">␠Doom</span> <span style=\"background:#eef6ff; padding:2px; margin:1px; border-radius:3px; font-family:monospace;\">␠In</span> <span style=\"background:#f7f7ff; padding:2px; margin:1px; border-radius:3px; font-family:monospace;\">␠1993</span> <span style=\"background:#eef6ff; padding:2px; margin:1px; border-radius:3px; font-family:monospace;\">␠six</span> <span style=\"background:#f7f7ff; padding:2px; margin:1px; border-radius:3px; font-family:monospace;\">␠g</span> <span style=\"background:#eef6ff; padding:2px; margin:1px; border-radius:3px; font-family:monospace;\">eeks</span> <span style=\"background:#f7f7ff; padding:2px; margin:1px; border-radius:3px; font-family:monospace;\">␠had</span> <span style=\"background:#eef6ff; padding:2px; margin:1px; border-radius:3px; font-family:monospace;\">␠a</span> <span style=\"background:#f7f7ff; padding:2px; margin:1px; border-radius:3px; font-family:monospace;\">␠digital</span> <span style=\"background:#eef6ff; padding:2px; margin:1px; border-radius:3px; font-family:monospace;\">␠nightmare</span> <span style=\"background:#f7f7ff; padding:2px; margin:1px; border-radius:3px; font-family:monospace;\">␠that</span> <span style=\"background:#eef6ff; padding:2px; margin:1px; border-radius:3px; font-family:monospace;\">␠changed</span> <span style=\"background:#f7f7ff; padding:2px; margin:1px; border-radius:3px; font-family:monospace;\">␠the</span> <span style=\"background:#eef6ff; padding:2px; margin:1px; border-radius:3px; font-family:monospace;\">␠culture</span> <span style=\"background:#f7f7ff; padding:2px; margin:1px; border-radius:3px; font-family:monospace;\">.</span> <span style=\"background:#eef6ff; padding:2px; margin:1px; border-radius:3px; font-family:monospace;\">␠It</span> <span style=\"background:#f7f7ff; padding:2px; margin:1px; border-radius:3px; font-family:monospace;\">'s</span> <span style=\"background:#eef6ff; padding:2px; margin:1px; border-radius:3px; font-family:monospace;\">␠about</span> <span style=\"background:#f7f7ff; padding:2px; margin:1px; border-radius:3px; font-family:monospace;\">␠to</span> <span style=\"background:#eef6ff; padding:2px; margin:1px; border-radius:3px; font-family:monospace;\">␠get</span> <span style=\"background:#f7f7ff; padding:2px; margin:1px; border-radius:3px; font-family:monospace;\">␠far</span> <span style=\"background:#eef6ff; padding:2px; margin:1px; border-radius:3px; font-family:monospace;\">␠creep</span> <span style=\"background:#f7f7ff; padding:2px; margin:1px; border-radius:3px; font-family:monospace;\">ier</span> <span style=\"background:#eef6ff; padding:2px; margin:1px; border-radius:3px; font-family:monospace;\">␠Hip</span> <span style=\"background:#f7f7ff; padding:2px; margin:1px; border-radius:3px; font-family:monospace;\">␠Hop</span> <span style=\"background:#eef6ff; padding:2px; margin:1px; border-radius:3px; font-family:monospace;\">'s</span> <span style=\"background:#f7f7ff; padding:2px; margin:1px; border-radius:3px; font-family:monospace;\">␠Online</span> <span style=\"background:#eef6ff; padding:2px; margin:1px; border-radius:3px; font-family:monospace;\">␠Shop</span> <span style=\"background:#f7f7ff; padding:2px; margin:1px; border-radius:3px; font-family:monospace;\">␠Celebrity</span> <span style=\"background:#eef6ff; padding:2px; margin:1px; border-radius:3px; font-family:monospace;\">␠fashion</span> <span style=\"background:#f7f7ff; padding:2px; margin:1px; border-radius:3px; font-family:monospace;\">␠is</span> <span style=\"background:#eef6ff; padding:2px; margin:1px; border-radius:3px; font-family:monospace;\">␠booming</span> <span style=\"background:#f7f7ff; padding:2px; margin:1px; border-radius:3px; font-family:monospace;\">.</span> <span style=\"background:#eef6ff; padding:2px; margin:1px; border-radius:3px; font-family:monospace;\">␠These</span> <span style=\"background:#f7f7ff; padding:2px; margin:1px; border-radius:3px; font-family:monospace;\">␠web</span> <span style=\"background:#eef6ff; padding:2px; margin:1px; border-radius:3px; font-family:monospace;\">pre</span> <span style=\"background:#f7f7ff; padding:2px; margin:1px; border-radius:3px; font-family:monospace;\">ne</span> <span style=\"background:#eef6ff; padding:2px; margin:1px; border-radius:3px; font-family:monospace;\">urs</span> <span style=\"background:#f7f7ff; padding:2px; margin:1px; border-radius:3px; font-family:monospace;\">␠are</span> <span style=\"background:#eef6ff; padding:2px; margin:1px; border-radius:3px; font-family:monospace;\">␠bringing</span> <span style=\"background:#f7f7ff; padding:2px; margin:1px; border-radius:3px; font-family:monospace;\">␠it</span> <span style=\"background:#eef6ff; padding:2px; margin:1px; border-radius:3px; font-family:monospace;\">␠to</span> <span style=\"background:#f7f7ff; padding:2px; margin:1px; border-radius:3px; font-family:monospace;\">␠main</span> <span style=\"background:#eef6ff; padding:2px; margin:1px; border-radius:3px; font-family:monospace;\">␠street</span> <span style=\"background:#f7f7ff; padding:2px; margin:1px; border-radius:3px; font-family:monospace;\">␠St</span> <span style=\"background:#eef6ff; padding:2px; margin:1px; border-radius:3px; font-family:monospace;\">oking</span> <span style=\"background:#f7f7ff; padding:2px; margin:1px; border-radius:3px; font-family:monospace;\">␠the</span> <span style=\"background:#eef6ff; padding:2px; margin:1px; border-radius:3px; font-family:monospace;\">␠Steam</span> <span style=\"background:#f7f7ff; padding:2px; margin:1px; border-radius:3px; font-family:monospace;\">roller</span> <span style=\"background:#eef6ff; padding:2px; margin:1px; border-radius:3px; font-family:monospace;\">␠No</span> <span style=\"background:#f7f7ff; padding:2px; margin:1px; border-radius:3px; font-family:monospace;\">␠other</span> <span style=\"background:#eef6ff; padding:2px; margin:1px; border-radius:3px; font-family:monospace;\">␠recording</span> <span style=\"background:#f7f7ff; padding:2px; margin:1px; border-radius:3px; font-family:monospace;\">␠artist</span> <span style=\"background:#eef6ff; padding:2px; margin:1px; border-radius:3px; font-family:monospace;\">␠can</span> <span style=\"background:#f7f7ff; padding:2px; margin:1px; border-radius:3px; font-family:monospace;\">␠channel</span> <span style=\"background:#eef6ff; padding:2px; margin:1px; border-radius:3px; font-family:monospace;\">␠American</span> <span style=\"background:#f7f7ff; padding:2px; margin:1px; border-radius:3px; font-family:monospace;\">␠middle</span> <span style=\"background:#eef6ff; padding:2px; margin:1px; border-radius:3px; font-family:monospace;\">-</span> <span style=\"background:#f7f7ff; padding:2px; margin:1px; border-radius:3px; font-family:monospace;\">class</span> <span style=\"background:#eef6ff; padding:2px; margin:1px; border-radius:3px; font-family:monospace;\">␠tastes</span> <span style=\"background:#f7f7ff; padding:2px; margin:1px; border-radius:3px; font-family:monospace;\">␠quite</span> <span style=\"background:#eef6ff; padding:2px; margin:1px; border-radius:3px; font-family:monospace;\">␠like</span> <span style=\"background:#f7f7ff; padding:2px; margin:1px; border-radius:3px; font-family:monospace;\">␠Chip</span> <span style=\"background:#eef6ff; padding:2px; margin:1px; border-radius:3px; font-family:monospace;\">␠Davis</span> <span style=\"background:#f7f7ff; padding:2px; margin:1px; border-radius:3px; font-family:monospace;\">␠and</span> <span style=\"background:#eef6ff; padding:2px; margin:1px; border-radius:3px; font-family:monospace;\">␠his</span> <span style=\"background:#f7f7ff; padding:2px; margin:1px; border-radius:3px; font-family:monospace;\">␠best</span> <span style=\"background:#eef6ff; padding:2px; margin:1px; border-radius:3px; font-family:monospace;\">-</span> <span style=\"background:#f7f7ff; padding:2px; margin:1px; border-radius:3px; font-family:monospace;\">selling</span> <span style=\"background:#eef6ff; padding:2px; margin:1px; border-radius:3px; font-family:monospace;\">␠band</span> <span style=\"background:#f7f7ff; padding:2px; margin:1px; border-radius:3px; font-family:monospace;\">␠Coming</span> <span style=\"background:#eef6ff; padding:2px; margin:1px; border-radius:3px; font-family:monospace;\">␠to</span> <span style=\"background:#f7f7ff; padding:2px; margin:1px; border-radius:3px; font-family:monospace;\">␠The</span> <span style=\"background:#eef6ff; padding:2px; margin:1px; border-radius:3px; font-family:monospace;\">␠Rescue</span> <span style=\"background:#f7f7ff; padding:2px; margin:1px; border-radius:3px; font-family:monospace;\">␠Got</span> <span style=\"background:#eef6ff; padding:2px; margin:1px; border-radius:3px; font-family:monospace;\">␠a</span> <span style=\"background:#f7f7ff; padding:2px; margin:1px; border-radius:3px; font-family:monospace;\">␠unique</span> <span style=\"background:#eef6ff; padding:2px; margin:1px; border-radius:3px; font-family:monospace;\">␠problem</span> <span style=\"background:#f7f7ff; padding:2px; margin:1px; border-radius:3px; font-family:monospace;\">?</span> <span style=\"background:#eef6ff; padding:2px; margin:1px; border-radius:3px; font-family:monospace;\">␠Not</span> <span style=\"background:#f7f7ff; padding:2px; margin:1px; border-radius:3px; font-family:monospace;\">␠to</span> <span style=\"background:#eef6ff; padding:2px; margin:1px; border-radius:3px; font-family:monospace;\">␠worry</span> <span style=\"background:#f7f7ff; padding:2px; margin:1px; border-radius:3px; font-family:monospace;\">:</span> <span style=\"background:#eef6ff; padding:2px; margin:1px; border-radius:3px; font-family:monospace;\">␠you</span> <span style=\"background:#f7f7ff; padding:2px; margin:1px; border-radius:3px; font-family:monospace;\">␠can</span> <span style=\"background:#eef6ff; padding:2px; margin:1px; border-radius:3px; font-family:monospace;\">␠find</span> <span style=\"background:#f7f7ff; padding:2px; margin:1px; border-radius:3px; font-family:monospace;\">␠a</span> <span style=\"background:#eef6ff; padding:2px; margin:1px; border-radius:3px; font-family:monospace;\">␠financial</span> <span style=\"background:#f7f7ff; padding:2px; margin:1px; border-radius:3px; font-family:monospace;\">␠planner</span> <span style=\"background:#eef6ff; padding:2px; margin:1px; border-radius:3px; font-family:monospace;\">␠for</span> <span style=\"background:#f7f7ff; padding:2px; margin:1px; border-radius:3px; font-family:monospace;\">␠every</span> <span style=\"background:#eef6ff; padding:2px; margin:1px; border-radius:3px; font-family:monospace;\">␠specialized</span> <span style=\"background:#f7f7ff; padding:2px; margin:1px; border-radius:3px; font-family:monospace;\">␠need</span> <span style=\"background:#eef6ff; padding:2px; margin:1px; border-radius:3px; font-family:monospace;\">␠The</span> <span style=\"background:#f7f7ff; padding:2px; margin:1px; border-radius:3px; font-family:monospace;\">␠New</span> <span style=\"background:#eef6ff; padding:2px; margin:1px; border-radius:3px; font-family:monospace;\">␠Customers</span> <span style=\"background:#f7f7ff; padding:2px; margin:1px; border-radius:3px; font-family:monospace;\">␠Are</span> <span style=\"background:#eef6ff; padding:2px; margin:1px; border-radius:3px; font-family:monospace;\">␠In</span> <span style=\"background:#f7f7ff; padding:2px; margin:1px; border-radius:3px; font-family:monospace;\">␠Town</span> <span style=\"background:#eef6ff; padding:2px; margin:1px; border-radius:3px; font-family:monospace;\">␠Today</span> <span style=\"background:#f7f7ff; padding:2px; margin:1px; border-radius:3px; font-family:monospace;\">'s</span> <span style=\"background:#eef6ff; padding:2px; margin:1px; border-radius:3px; font-family:monospace;\">␠customers</span> <span style=\"background:#f7f7ff; padding:2px; margin:1px; border-radius:3px; font-family:monospace;\">␠are</span> <span style=\"background:#eef6ff; padding:2px; margin:1px; border-radius:3px; font-family:monospace;\">␠increasingly</span> <span style=\"background:#f7f7ff; padding:2px; margin:1px; border-radius:3px; font-family:monospace;\">␠demanding</span> <span style=\"background:#eef6ff; padding:2px; margin:1px; border-radius:3px; font-family:monospace;\">,</span> <span style=\"background:#f7f7ff; padding:2px; margin:1px; border-radius:3px; font-family:monospace;\">␠in</span> <span style=\"background:#eef6ff; padding:2px; margin:1px; border-radius:3px; font-family:monospace;\">␠Asia</span> <span style=\"background:#f7f7ff; padding:2px; margin:1px; border-radius:3px; font-family:monospace;\">␠as</span> <span style=\"background:#eef6ff; padding:2px; margin:1px; border-radius:3px; font-family:monospace;\">␠elsewhere</span> <span style=\"background:#f7f7ff; padding:2px; margin:1px; border-radius:3px; font-family:monospace;\">␠in</span> <span style=\"background:#eef6ff; padding:2px; margin:1px; border-radius:3px; font-family:monospace;\">␠the</span> <span style=\"background:#f7f7ff; padding:2px; margin:1px; border-radius:3px; font-family:monospace;\">␠world</span> <span style=\"background:#eef6ff; padding:2px; margin:1px; border-radius:3px; font-family:monospace;\">.</span> <span style=\"background:#f7f7ff; padding:2px; margin:1px; border-radius:3px; font-family:monospace;\">␠</span> <span style=\"background:#eef6ff; padding:2px; margin:1px; border-radius:3px; font-family:monospace;\">␠Henry</span> <span style=\"background:#f7f7ff; padding:2px; margin:1px; border-radius:3px; font-family:monospace;\">␠Ast</span> <span style=\"background:#eef6ff; padding:2px; margin:1px; border-radius:3px; font-family:monospace;\">org</span> <span style=\"background:#f7f7ff; padding:2px; margin:1px; border-radius:3px; font-family:monospace;\">a</span> <span style=\"background:#eef6ff; padding:2px; margin:1px; border-radius:3px; font-family:monospace;\">␠describes</span> <span style=\"background:#f7f7ff; padding:2px; margin:1px; border-radius:3px; font-family:monospace;\">␠the</span> <span style=\"background:#eef6ff; padding:2px; margin:1px; border-radius:3px; font-family:monospace;\">␠complex</span> <span style=\"background:#f7f7ff; padding:2px; margin:1px; border-radius:3px; font-family:monospace;\">␠reality</span> <span style=\"background:#eef6ff; padding:2px; margin:1px; border-radius:3px; font-family:monospace;\">␠faced</span> <span style=\"background:#f7f7ff; padding:2px; margin:1px; border-radius:3px; font-family:monospace;\">␠by</span> <span style=\"background:#eef6ff; padding:2px; margin:1px; border-radius:3px; font-family:monospace;\">␠today</span> <span style=\"background:#f7f7ff; padding:2px; margin:1px; border-radius:3px; font-family:monospace;\">'s</span> <span style=\"background:#eef6ff; padding:2px; margin:1px; border-radius:3px; font-family:monospace;\">␠marketers</span> <span style=\"background:#f7f7ff; padding:2px; margin:1px; border-radius:3px; font-family:monospace;\">,</span> <span style=\"background:#eef6ff; padding:2px; margin:1px; border-radius:3px; font-family:monospace;\">␠which</span> <span style=\"background:#f7f7ff; padding:2px; margin:1px; border-radius:3px; font-family:monospace;\">␠includes</span> <span style=\"background:#eef6ff; padding:2px; margin:1px; border-radius:3px; font-family:monospace;\">␠much</span> <span style=\"background:#f7f7ff; padding:2px; margin:1px; border-radius:3px; font-family:monospace;\">␠higher</span> <span style=\"background:#eef6ff; padding:2px; margin:1px; border-radius:3px; font-family:monospace;\">␠expectations</span> <span style=\"background:#f7f7ff; padding:2px; margin:1px; border-radius:3px; font-family:monospace;\">␠than</span> <span style=\"background:#eef6ff; padding:2px; margin:1px; border-radius:3px; font-family:monospace;\">␠we</span> <span style=\"background:#f7f7ff; padding:2px; margin:1px; border-radius:3px; font-family:monospace;\">␠have</span> <span style=\"background:#eef6ff; padding:2px; margin:1px; border-radius:3px; font-family:monospace;\">␠been</span> <span style=\"background:#f7f7ff; padding:2px; margin:1px; border-radius:3px; font-family:monospace;\">␠used</span> <span style=\"background:#eef6ff; padding:2px; margin:1px; border-radius:3px; font-family:monospace;\">␠to</span> <span style=\"background:#f7f7ff; padding:2px; margin:1px; border-radius:3px; font-family:monospace;\">.</span> <span style=\"background:#eef6ff; padding:2px; margin:1px; border-radius:3px; font-family:monospace;\">␠</span> <span style=\"background:#f7f7ff; padding:2px; margin:1px; border-radius:3px; font-family:monospace;\">␠Today</span> <span style=\"background:#eef6ff; padding:2px; margin:1px; border-radius:3px; font-family:monospace;\">'s</span> <span style=\"background:#f7f7ff; padding:2px; margin:1px; border-radius:3px; font-family:monospace;\">␠customers</span> <span style=\"background:#eef6ff; padding:2px; margin:1px; border-radius:3px; font-family:monospace;\">␠want</span> <span style=\"background:#f7f7ff; padding:2px; margin:1px; border-radius:3px; font-family:monospace;\">␠performance</span> <span style=\"background:#eef6ff; padding:2px; margin:1px; border-radius:3px; font-family:monospace;\">,</span> <span style=\"background:#f7f7ff; padding:2px; margin:1px; border-radius:3px; font-family:monospace;\">␠and</span> <span style=\"background:#eef6ff; padding:2px; margin:1px; border-radius:3px; font-family:monospace;\">␠they</span> <span style=\"background:#f7f7ff; padding:2px; margin:1px; border-radius:3px; font-family:monospace;\">␠want</span> <span style=\"background:#eef6ff; padding:2px; margin:1px; border-radius:3px; font-family:monospace;\">␠it</span> <span style=\"background:#f7f7ff; padding:2px; margin:1px; border-radius:3px; font-family:monospace;\">␠now</span> <span style=\"background:#eef6ff; padding:2px; margin:1px; border-radius:3px; font-family:monospace;\">!</span> <span style=\"background:#f7f7ff; padding:2px; margin:1px; border-radius:3px; font-family:monospace;\">␠</span> <span style=\"background:#eef6ff; padding:2px; margin:1px; border-radius:3px; font-family:monospace;\">␠Barrel</span> <span style=\"background:#f7f7ff; padding:2px; margin:1px; border-radius:3px; font-family:monospace;\">␠of</span> <span style=\"background:#eef6ff; padding:2px; margin:1px; border-radius:3px; font-family:monospace;\">␠Mon</span> <span style=\"background:#f7f7ff; padding:2px; margin:1px; border-radius:3px; font-family:monospace;\">keys</span> <span style=\"background:#eef6ff; padding:2px; margin:1px; border-radius:3px; font-family:monospace;\">,</span> <span style=\"background:#f7f7ff; padding:2px; margin:1px; border-radius:3px; font-family:monospace;\">␠2004</span> <span style=\"background:#eef6ff; padding:2px; margin:1px; border-radius:3px; font-family:monospace;\">␠Edition</span> <span style=\"background:#f7f7ff; padding:2px; margin:1px; border-radius:3px; font-family:monospace;\">:</span> <span style=\"background:#eef6ff; padding:2px; margin:1px; border-radius:3px; font-family:monospace;\">␠Notes</span> <span style=\"background:#f7f7ff; padding:2px; margin:1px; border-radius:3px; font-family:monospace;\">␠on</span> <span style=\"background:#eef6ff; padding:2px; margin:1px; border-radius:3px; font-family:monospace;\">␠Philippine</span> <span style=\"background:#f7f7ff; padding:2px; margin:1px; border-radius:3px; font-family:monospace;\">␠Elections</span> <span style=\"background:#eef6ff; padding:2px; margin:1px; border-radius:3px; font-family:monospace;\">␠Well</span> <span style=\"background:#f7f7ff; padding:2px; margin:1px; border-radius:3px; font-family:monospace;\">,</span> <span style=\"background:#eef6ff; padding:2px; margin:1px; border-radius:3px; font-family:monospace;\">␠it</span> <span style=\"background:#f7f7ff; padding:2px; margin:1px; border-radius:3px; font-family:monospace;\">'s</span> <span style=\"background:#eef6ff; padding:2px; margin:1px; border-radius:3px; font-family:monospace;\">␠election</span> <span style=\"background:#f7f7ff; padding:2px; margin:1px; border-radius:3px; font-family:monospace;\">␠time</span> <span style=\"background:#eef6ff; padding:2px; margin:1px; border-radius:3px; font-family:monospace;\">␠in</span> <span style=\"background:#f7f7ff; padding:2px; margin:1px; border-radius:3px; font-family:monospace;\">␠the</span> <span style=\"background:#eef6ff; padding:2px; margin:1px; border-radius:3px; font-family:monospace;\">␠Republic</span> <span style=\"background:#f7f7ff; padding:2px; margin:1px; border-radius:3px; font-family:monospace;\">␠of</span> <span style=\"background:#eef6ff; padding:2px; margin:1px; border-radius:3px; font-family:monospace;\">␠the</span> <span style=\"background:#f7f7ff; padding:2px; margin:1px; border-radius:3px; font-family:monospace;\">␠Philippines</span> <span style=\"background:#eef6ff; padding:2px; margin:1px; border-radius:3px; font-family:monospace;\">,</span> <span style=\"background:#f7f7ff; padding:2px; margin:1px; border-radius:3px; font-family:monospace;\">␠and</span> <span style=\"background:#eef6ff; padding:2px; margin:1px; border-radius:3px; font-family:monospace;\">␠that</span> <span style=\"background:#f7f7ff; padding:2px; margin:1px; border-radius:3px; font-family:monospace;\">␠means</span> <span style=\"background:#eef6ff; padding:2px; margin:1px; border-radius:3px; font-family:monospace;\">␠the</span> <span style=\"background:#f7f7ff; padding:2px; margin:1px; border-radius:3px; font-family:monospace;\">␠monkeys</span> <span style=\"background:#eef6ff; padding:2px; margin:1px; border-radius:3px; font-family:monospace;\">␠are</span> <span style=\"background:#f7f7ff; padding:2px; margin:1px; border-radius:3px; font-family:monospace;\">␠rolling</span> <span style=\"background:#eef6ff; padding:2px; margin:1px; border-radius:3px; font-family:monospace;\">␠around</span> <span style=\"background:#f7f7ff; padding:2px; margin:1px; border-radius:3px; font-family:monospace;\">␠in</span> <span style=\"background:#eef6ff; padding:2px; margin:1px; border-radius:3px; font-family:monospace;\">␠those</span> <span style=\"background:#f7f7ff; padding:2px; margin:1px; border-radius:3px; font-family:monospace;\">␠political</span> <span style=\"background:#eef6ff; padding:2px; margin:1px; border-radius:3px; font-family:monospace;\">␠barrels</span> <span style=\"background:#f7f7ff; padding:2px; margin:1px; border-radius:3px; font-family:monospace;\">,</span> <span style=\"background:#eef6ff; padding:2px; margin:1px; border-radius:3px; font-family:monospace;\">␠having</span> <span style=\"background:#f7f7ff; padding:2px; margin:1px; border-radius:3px; font-family:monospace;\">␠as</span> <span style=\"background:#eef6ff; padding:2px; margin:1px; border-radius:3px; font-family:monospace;\">␠much</span> <span style=\"background:#f7f7ff; padding:2px; margin:1px; border-radius:3px; font-family:monospace;\">␠fun</span> <span style=\"background:#eef6ff; padding:2px; margin:1px; border-radius:3px; font-family:monospace;\">␠as</span> <span style=\"background:#f7f7ff; padding:2px; margin:1px; border-radius:3px; font-family:monospace;\">␠they</span> <span style=\"background:#eef6ff; padding:2px; margin:1px; border-radius:3px; font-family:monospace;\">␠can</span> <span style=\"background:#f7f7ff; padding:2px; margin:1px; border-radius:3px; font-family:monospace;\">␠while</span> <span style=\"background:#eef6ff; padding:2px; margin:1px; border-radius:3px; font-family:monospace;\">␠laughing</span> <span style=\"background:#f7f7ff; padding:2px; margin:1px; border-radius:3px; font-family:monospace;\">␠their</span> <span style=\"background:#eef6ff; padding:2px; margin:1px; border-radius:3px; font-family:monospace;\">␠heads</span> <span style=\"background:#f7f7ff; padding:2px; margin:1px; border-radius:3px; font-family:monospace;\">␠off</span> <span style=\"background:#eef6ff; padding:2px; margin:1px; border-radius:3px; font-family:monospace;\">␠at</span> <span style=\"background:#f7f7ff; padding:2px; margin:1px; border-radius:3px; font-family:monospace;\">␠the</span> <span style=\"background:#eef6ff; padding:2px; margin:1px; border-radius:3px; font-family:monospace;\">␠strange</span> <span style=\"background:#f7f7ff; padding:2px; margin:1px; border-radius:3px; font-family:monospace;\">␠go</span> <span style=\"background:#eef6ff; padding:2px; margin:1px; border-radius:3px; font-family:monospace;\">ings</span> <span style=\"background:#f7f7ff; padding:2px; margin:1px; border-radius:3px; font-family:monospace;\">-</span> <span style=\"background:#eef6ff; padding:2px; margin:1px; border-radius:3px; font-family:monospace;\">on</span> <span style=\"background:#f7f7ff; padding:2px; margin:1px; border-radius:3px; font-family:monospace;\">␠that</span> <span style=\"background:#eef6ff; padding:2px; margin:1px; border-radius:3px; font-family:monospace;\">␠characterize</span> <span style=\"background:#f7f7ff; padding:2px; margin:1px; border-radius:3px; font-family:monospace;\">␠a</span> <span style=\"background:#eef6ff; padding:2px; margin:1px; border-radius:3px; font-family:monospace;\">␠democratic</span> <span style=\"background:#f7f7ff; padding:2px; margin:1px; border-radius:3px; font-family:monospace;\">␠process</span> <span style=\"background:#eef6ff; padding:2px; margin:1px; border-radius:3px; font-family:monospace;\">␠loosely</span> <span style=\"background:#f7f7ff; padding:2px; margin:1px; border-radius:3px; font-family:monospace;\">␠based</span> <span style=\"background:#eef6ff; padding:2px; margin:1px; border-radius:3px; font-family:monospace;\">␠on</span> <span style=\"background:#f7f7ff; padding:2px; margin:1px; border-radius:3px; font-family:monospace;\">␠the</span> <span style=\"background:#eef6ff; padding:2px; margin:1px; border-radius:3px; font-family:monospace;\">␠American</span> <span style=\"background:#f7f7ff; padding:2px; margin:1px; border-radius:3px; font-family:monospace;\">␠model</span> <span style=\"background:#eef6ff; padding:2px; margin:1px; border-radius:3px; font-family:monospace;\">␠</span> <span style=\"background:#f7f7ff; padding:2px; margin:1px; border-radius:3px; font-family:monospace;\">␠but</span> <span style=\"background:#eef6ff; padding:2px; margin:1px; border-radius:3px; font-family:monospace;\">␠that</span> <span style=\"background:#f7f7ff; padding:2px; margin:1px; border-radius:3px; font-family:monospace;\">␠de</span> <span style=\"background:#eef6ff; padding:2px; margin:1px; border-radius:3px; font-family:monospace;\">␠facto</span> <span style=\"background:#f7f7ff; padding:2px; margin:1px; border-radius:3px; font-family:monospace;\">␠looks</span> <span style=\"background:#eef6ff; padding:2px; margin:1px; border-radius:3px; font-family:monospace;\">␠more</span> <span style=\"background:#f7f7ff; padding:2px; margin:1px; border-radius:3px; font-family:monospace;\">␠like</span> <span style=\"background:#eef6ff; padding:2px; margin:1px; border-radius:3px; font-family:monospace;\">␠a</span> <span style=\"background:#f7f7ff; padding:2px; margin:1px; border-radius:3px; font-family:monospace;\">␠Fell</span> <span style=\"background:#eef6ff; padding:2px; margin:1px; border-radius:3px; font-family:monospace;\">ini</span> <span style=\"background:#f7f7ff; padding:2px; margin:1px; border-radius:3px; font-family:monospace;\">␠movie</span> <span style=\"background:#eef6ff; padding:2px; margin:1px; border-radius:3px; font-family:monospace;\">␠crossed</span> <span style=\"background:#f7f7ff; padding:2px; margin:1px; border-radius:3px; font-family:monospace;\">␠with</span> <span style=\"background:#eef6ff; padding:2px; margin:1px; border-radius:3px; font-family:monospace;\">␠a</span> <span style=\"background:#f7f7ff; padding:2px; margin:1px; border-radius:3px; font-family:monospace;\">␠Tom</span> <span style=\"background:#eef6ff; padding:2px; margin:1px; border-radius:3px; font-family:monospace;\">␠and</span> <span style=\"background:#f7f7ff; padding:2px; margin:1px; border-radius:3px; font-family:monospace;\">␠Jerry</span> <span style=\"background:#eef6ff; padding:2px; margin:1px; border-radius:3px; font-family:monospace;\">␠cartoon</span> <span style=\"background:#f7f7ff; padding:2px; margin:1px; border-radius:3px; font-family:monospace;\">␠-</span> <span style=\"background:#eef6ff; padding:2px; margin:1px; border-radius:3px; font-family:monospace;\">␠column</span> <span style=\"background:#f7f7ff; padding:2px; margin:1px; border-radius:3px; font-family:monospace;\">␠includes</span> <span style=\"background:#eef6ff; padding:2px; margin:1px; border-radius:3px; font-family:monospace;\">␠a</span> <span style=\"background:#f7f7ff; padding:2px; margin:1px; border-radius:3px; font-family:monospace;\">␠useful</span> <span style=\"background:#eef6ff; padding:2px; margin:1px; border-radius:3px; font-family:monospace;\">␠election</span> <span style=\"background:#f7f7ff; padding:2px; margin:1px; border-radius:3px; font-family:monospace;\">-</span> <span style=\"background:#eef6ff; padding:2px; margin:1px; border-radius:3px; font-family:monospace;\">year</span> <span style=\"background:#f7f7ff; padding:2px; margin:1px; border-radius:3px; font-family:monospace;\">␠gloss</span> <span style=\"background:#eef6ff; padding:2px; margin:1px; border-radius:3px; font-family:monospace;\">ary</span> <span style=\"background:#f7f7ff; padding:2px; margin:1px; border-radius:3px; font-family:monospace;\">!</span></div><div style='margin-top:6px; font-family:monospace;'>count = 380</div>"
      ],
      "text/plain": [
       "<IPython.core.display.HTML object>"
      ]
     },
     "metadata": {},
     "output_type": "display_data"
    },
    {
     "data": {
      "text/html": [
       "<h4>bert-base-uncased</h4><div style='font-family:system-ui; margin-bottom:6px;'><b>Tokens:</b></div><div><span style=\"background:#eef6ff; padding:2px; margin:1px; border-radius:3px; font-family:monospace;\">making</span> <span style=\"background:#f7f7ff; padding:2px; margin:1px; border-radius:3px; font-family:monospace;\">your</span> <span style=\"background:#eef6ff; padding:2px; margin:1px; border-radius:3px; font-family:monospace;\">ins</span> <span style=\"background:#f7f7ff; padding:2px; margin:1px; border-radius:3px; font-family:monospace;\">##urer</span> <span style=\"background:#eef6ff; padding:2px; margin:1px; border-radius:3px; font-family:monospace;\">pay</span> <span style=\"background:#f7f7ff; padding:2px; margin:1px; border-radius:3px; font-family:monospace;\">if</span> <span style=\"background:#eef6ff; padding:2px; margin:1px; border-radius:3px; font-family:monospace;\">hurricane</span> <span style=\"background:#f7f7ff; padding:2px; margin:1px; border-radius:3px; font-family:monospace;\">charley</span> <span style=\"background:#eef6ff; padding:2px; margin:1px; border-radius:3px; font-family:monospace;\">blows</span> <span style=\"background:#f7f7ff; padding:2px; margin:1px; border-radius:3px; font-family:monospace;\">your</span> <span style=\"background:#eef6ff; padding:2px; margin:1px; border-radius:3px; font-family:monospace;\">house</span> <span style=\"background:#f7f7ff; padding:2px; margin:1px; border-radius:3px; font-family:monospace;\">down</span> <span style=\"background:#eef6ff; padding:2px; margin:1px; border-radius:3px; font-family:monospace;\">,</span> <span style=\"background:#f7f7ff; padding:2px; margin:1px; border-radius:3px; font-family:monospace;\">how</span> <span style=\"background:#eef6ff; padding:2px; margin:1px; border-radius:3px; font-family:monospace;\">can</span> <span style=\"background:#f7f7ff; padding:2px; margin:1px; border-radius:3px; font-family:monospace;\">you</span> <span style=\"background:#eef6ff; padding:2px; margin:1px; border-radius:3px; font-family:monospace;\">make</span> <span style=\"background:#f7f7ff; padding:2px; margin:1px; border-radius:3px; font-family:monospace;\">your</span> <span style=\"background:#eef6ff; padding:2px; margin:1px; border-radius:3px; font-family:monospace;\">insurance</span> <span style=\"background:#f7f7ff; padding:2px; margin:1px; border-radius:3px; font-family:monospace;\">company</span> <span style=\"background:#eef6ff; padding:2px; margin:1px; border-radius:3px; font-family:monospace;\">pay</span> <span style=\"background:#f7f7ff; padding:2px; margin:1px; border-radius:3px; font-family:monospace;\">?</span> <span style=\"background:#eef6ff; padding:2px; margin:1px; border-radius:3px; font-family:monospace;\">delightful</span> <span style=\"background:#f7f7ff; padding:2px; margin:1px; border-radius:3px; font-family:monospace;\">dell</span> <span style=\"background:#eef6ff; padding:2px; margin:1px; border-radius:3px; font-family:monospace;\">the</span> <span style=\"background:#f7f7ff; padding:2px; margin:1px; border-radius:3px; font-family:monospace;\">company</span> <span style=\"background:#eef6ff; padding:2px; margin:1px; border-radius:3px; font-family:monospace;\">'</span> <span style=\"background:#f7f7ff; padding:2px; margin:1px; border-radius:3px; font-family:monospace;\">s</span> <span style=\"background:#eef6ff; padding:2px; margin:1px; border-radius:3px; font-family:monospace;\">results</span> <span style=\"background:#f7f7ff; padding:2px; margin:1px; border-radius:3px; font-family:monospace;\">show</span> <span style=\"background:#eef6ff; padding:2px; margin:1px; border-radius:3px; font-family:monospace;\">that</span> <span style=\"background:#f7f7ff; padding:2px; margin:1px; border-radius:3px; font-family:monospace;\">it</span> <span style=\"background:#eef6ff; padding:2px; margin:1px; border-radius:3px; font-family:monospace;\">'</span> <span style=\"background:#f7f7ff; padding:2px; margin:1px; border-radius:3px; font-family:monospace;\">s</span> <span style=\"background:#eef6ff; padding:2px; margin:1px; border-radius:3px; font-family:monospace;\">not</span> <span style=\"background:#f7f7ff; padding:2px; margin:1px; border-radius:3px; font-family:monospace;\">grim</span> <span style=\"background:#eef6ff; padding:2px; margin:1px; border-radius:3px; font-family:monospace;\">all</span> <span style=\"background:#f7f7ff; padding:2px; margin:1px; border-radius:3px; font-family:monospace;\">over</span> <span style=\"background:#eef6ff; padding:2px; margin:1px; border-radius:3px; font-family:monospace;\">tech</span> <span style=\"background:#f7f7ff; padding:2px; margin:1px; border-radius:3px; font-family:monospace;\">world</span> <span style=\"background:#eef6ff; padding:2px; margin:1px; border-radius:3px; font-family:monospace;\">.</span> <span style=\"background:#f7f7ff; padding:2px; margin:1px; border-radius:3px; font-family:monospace;\">just</span> <span style=\"background:#eef6ff; padding:2px; margin:1px; border-radius:3px; font-family:monospace;\">all</span> <span style=\"background:#f7f7ff; padding:2px; margin:1px; border-radius:3px; font-family:monospace;\">of</span> <span style=\"background:#eef6ff; padding:2px; margin:1px; border-radius:3px; font-family:monospace;\">it</span> <span style=\"background:#f7f7ff; padding:2px; margin:1px; border-radius:3px; font-family:monospace;\">that</span> <span style=\"background:#eef6ff; padding:2px; margin:1px; border-radius:3px; font-family:monospace;\">isn</span> <span style=\"background:#f7f7ff; padding:2px; margin:1px; border-radius:3px; font-family:monospace;\">'</span> <span style=\"background:#eef6ff; padding:2px; margin:1px; border-radius:3px; font-family:monospace;\">t</span> <span style=\"background:#f7f7ff; padding:2px; margin:1px; border-radius:3px; font-family:monospace;\">dell</span> <span style=\"background:#eef6ff; padding:2px; margin:1px; border-radius:3px; font-family:monospace;\">.</span> <span style=\"background:#f7f7ff; padding:2px; margin:1px; border-radius:3px; font-family:monospace;\">chrysler</span> <span style=\"background:#eef6ff; padding:2px; margin:1px; border-radius:3px; font-family:monospace;\">'</span> <span style=\"background:#f7f7ff; padding:2px; margin:1px; border-radius:3px; font-family:monospace;\">s</span> <span style=\"background:#eef6ff; padding:2px; margin:1px; border-radius:3px; font-family:monospace;\">b</span> <span style=\"background:#f7f7ff; padding:2px; margin:1px; border-radius:3px; font-family:monospace;\">##ling</span> <span style=\"background:#eef6ff; padding:2px; margin:1px; border-radius:3px; font-family:monospace;\">king</span> <span style=\"background:#f7f7ff; padding:2px; margin:1px; border-radius:3px; font-family:monospace;\">after</span> <span style=\"background:#eef6ff; padding:2px; margin:1px; border-radius:3px; font-family:monospace;\">a</span> <span style=\"background:#f7f7ff; padding:2px; margin:1px; border-radius:3px; font-family:monospace;\">tough</span> <span style=\"background:#eef6ff; padding:2px; margin:1px; border-radius:3px; font-family:monospace;\">year</span> <span style=\"background:#f7f7ff; padding:2px; margin:1px; border-radius:3px; font-family:monospace;\">,</span> <span style=\"background:#eef6ff; padding:2px; margin:1px; border-radius:3px; font-family:monospace;\">detroit</span> <span style=\"background:#f7f7ff; padding:2px; margin:1px; border-radius:3px; font-family:monospace;\">'</span> <span style=\"background:#eef6ff; padding:2px; margin:1px; border-radius:3px; font-family:monospace;\">s</span> <span style=\"background:#f7f7ff; padding:2px; margin:1px; border-radius:3px; font-family:monospace;\">troubled</span> <span style=\"background:#eef6ff; padding:2px; margin:1px; border-radius:3px; font-family:monospace;\">car</span> <span style=\"background:#f7f7ff; padding:2px; margin:1px; border-radius:3px; font-family:monospace;\">##maker</span> <span style=\"background:#eef6ff; padding:2px; margin:1px; border-radius:3px; font-family:monospace;\">is</span> <span style=\"background:#f7f7ff; padding:2px; margin:1px; border-radius:3px; font-family:monospace;\">back</span> <span style=\"background:#eef6ff; padding:2px; margin:1px; border-radius:3px; font-family:monospace;\">-</span> <span style=\"background:#f7f7ff; padding:2px; margin:1px; border-radius:3px; font-family:monospace;\">-</span> <span style=\"background:#eef6ff; padding:2px; margin:1px; border-radius:3px; font-family:monospace;\">thanks</span> <span style=\"background:#f7f7ff; padding:2px; margin:1px; border-radius:3px; font-family:monospace;\">to</span> <span style=\"background:#eef6ff; padding:2px; margin:1px; border-radius:3px; font-family:monospace;\">a</span> <span style=\"background:#f7f7ff; padding:2px; margin:1px; border-radius:3px; font-family:monospace;\">maverick</span> <span style=\"background:#eef6ff; padding:2px; margin:1px; border-radius:3px; font-family:monospace;\">designer</span> <span style=\"background:#f7f7ff; padding:2px; margin:1px; border-radius:3px; font-family:monospace;\">and</span> <span style=\"background:#eef6ff; padding:2px; margin:1px; border-radius:3px; font-family:monospace;\">a</span> <span style=\"background:#f7f7ff; padding:2px; margin:1px; border-radius:3px; font-family:monospace;\">car</span> <span style=\"background:#eef6ff; padding:2px; margin:1px; border-radius:3px; font-family:monospace;\">that</span> <span style=\"background:#f7f7ff; padding:2px; margin:1px; border-radius:3px; font-family:monospace;\">is</span> <span style=\"background:#eef6ff; padding:2px; margin:1px; border-radius:3px; font-family:monospace;\">dazzling</span> <span style=\"background:#f7f7ff; padding:2px; margin:1px; border-radius:3px; font-family:monospace;\">the</span> <span style=\"background:#eef6ff; padding:2px; margin:1px; border-radius:3px; font-family:monospace;\">hip</span> <span style=\"background:#f7f7ff; padding:2px; margin:1px; border-radius:3px; font-family:monospace;\">-</span> <span style=\"background:#eef6ff; padding:2px; margin:1px; border-radius:3px; font-family:monospace;\">hop</span> <span style=\"background:#f7f7ff; padding:2px; margin:1px; border-radius:3px; font-family:monospace;\">crowd</span> <span style=\"background:#eef6ff; padding:2px; margin:1px; border-radius:3px; font-family:monospace;\">what</span> <span style=\"background:#f7f7ff; padding:2px; margin:1px; border-radius:3px; font-family:monospace;\">'</span> <span style=\"background:#eef6ff; padding:2px; margin:1px; border-radius:3px; font-family:monospace;\">s</span> <span style=\"background:#f7f7ff; padding:2px; margin:1px; border-radius:3px; font-family:monospace;\">cool</span> <span style=\"background:#eef6ff; padding:2px; margin:1px; border-radius:3px; font-family:monospace;\">in</span> <span style=\"background:#f7f7ff; padding:2px; margin:1px; border-radius:3px; font-family:monospace;\">the</span> <span style=\"background:#eef6ff; padding:2px; margin:1px; border-radius:3px; font-family:monospace;\">pool</span> <span style=\"background:#f7f7ff; padding:2px; margin:1px; border-radius:3px; font-family:monospace;\">.</span> <span style=\"background:#eef6ff; padding:2px; margin:1px; border-radius:3px; font-family:monospace;\">.</span> <span style=\"background:#f7f7ff; padding:2px; margin:1px; border-radius:3px; font-family:monospace;\">.</span> <span style=\"background:#eef6ff; padding:2px; margin:1px; border-radius:3px; font-family:monospace;\">.</span> <span style=\"background:#f7f7ff; padding:2px; margin:1px; border-radius:3px; font-family:monospace;\">.</span> <span style=\"background:#eef6ff; padding:2px; margin:1px; border-radius:3px; font-family:monospace;\">.</span> <span style=\"background:#f7f7ff; padding:2px; margin:1px; border-radius:3px; font-family:monospace;\">and</span> <span style=\"background:#eef6ff; padding:2px; margin:1px; border-radius:3px; font-family:monospace;\">hot</span> <span style=\"background:#f7f7ff; padding:2px; margin:1px; border-radius:3px; font-family:monospace;\">on</span> <span style=\"background:#eef6ff; padding:2px; margin:1px; border-radius:3px; font-family:monospace;\">the</span> <span style=\"background:#f7f7ff; padding:2px; margin:1px; border-radius:3px; font-family:monospace;\">deck</span> <span style=\"background:#eef6ff; padding:2px; margin:1px; border-radius:3px; font-family:monospace;\">americans</span> <span style=\"background:#f7f7ff; padding:2px; margin:1px; border-radius:3px; font-family:monospace;\">are</span> <span style=\"background:#eef6ff; padding:2px; margin:1px; border-radius:3px; font-family:monospace;\">spending</span> <span style=\"background:#f7f7ff; padding:2px; margin:1px; border-radius:3px; font-family:monospace;\">more</span> <span style=\"background:#eef6ff; padding:2px; margin:1px; border-radius:3px; font-family:monospace;\">on</span> <span style=\"background:#f7f7ff; padding:2px; margin:1px; border-radius:3px; font-family:monospace;\">trick</span> <span style=\"background:#eef6ff; padding:2px; margin:1px; border-radius:3px; font-family:monospace;\">##ing</span> <span style=\"background:#f7f7ff; padding:2px; margin:1px; border-radius:3px; font-family:monospace;\">out</span> <span style=\"background:#eef6ff; padding:2px; margin:1px; border-radius:3px; font-family:monospace;\">the</span> <span style=\"background:#f7f7ff; padding:2px; margin:1px; border-radius:3px; font-family:monospace;\">places</span> <span style=\"background:#eef6ff; padding:2px; margin:1px; border-radius:3px; font-family:monospace;\">where</span> <span style=\"background:#f7f7ff; padding:2px; margin:1px; border-radius:3px; font-family:monospace;\">they</span> <span style=\"background:#eef6ff; padding:2px; margin:1px; border-radius:3px; font-family:monospace;\">swim</span> <span style=\"background:#f7f7ff; padding:2px; margin:1px; border-radius:3px; font-family:monospace;\">.</span> <span style=\"background:#eef6ff; padding:2px; margin:1px; border-radius:3px; font-family:monospace;\">here</span> <span style=\"background:#f7f7ff; padding:2px; margin:1px; border-radius:3px; font-family:monospace;\">'</span> <span style=\"background:#eef6ff; padding:2px; margin:1px; border-radius:3px; font-family:monospace;\">s</span> <span style=\"background:#f7f7ff; padding:2px; margin:1px; border-radius:3px; font-family:monospace;\">a</span> <span style=\"background:#eef6ff; padding:2px; margin:1px; border-radius:3px; font-family:monospace;\">look</span> <span style=\"background:#f7f7ff; padding:2px; margin:1px; border-radius:3px; font-family:monospace;\">at</span> <span style=\"background:#eef6ff; padding:2px; margin:1px; border-radius:3px; font-family:monospace;\">the</span> <span style=\"background:#f7f7ff; padding:2px; margin:1px; border-radius:3px; font-family:monospace;\">new</span> <span style=\"background:#eef6ff; padding:2px; margin:1px; border-radius:3px; font-family:monospace;\">wave</span> <span style=\"background:#f7f7ff; padding:2px; margin:1px; border-radius:3px; font-family:monospace;\">of</span> <span style=\"background:#eef6ff; padding:2px; margin:1px; border-radius:3px; font-family:monospace;\">accessories</span> <span style=\"background:#f7f7ff; padding:2px; margin:1px; border-radius:3px; font-family:monospace;\">the</span> <span style=\"background:#eef6ff; padding:2px; margin:1px; border-radius:3px; font-family:monospace;\">age</span> <span style=\"background:#f7f7ff; padding:2px; margin:1px; border-radius:3px; font-family:monospace;\">of</span> <span style=\"background:#eef6ff; padding:2px; margin:1px; border-radius:3px; font-family:monospace;\">doom</span> <span style=\"background:#f7f7ff; padding:2px; margin:1px; border-radius:3px; font-family:monospace;\">in</span> <span style=\"background:#eef6ff; padding:2px; margin:1px; border-radius:3px; font-family:monospace;\">1993</span> <span style=\"background:#f7f7ff; padding:2px; margin:1px; border-radius:3px; font-family:monospace;\">six</span> <span style=\"background:#eef6ff; padding:2px; margin:1px; border-radius:3px; font-family:monospace;\">geek</span> <span style=\"background:#f7f7ff; padding:2px; margin:1px; border-radius:3px; font-family:monospace;\">##s</span> <span style=\"background:#eef6ff; padding:2px; margin:1px; border-radius:3px; font-family:monospace;\">had</span> <span style=\"background:#f7f7ff; padding:2px; margin:1px; border-radius:3px; font-family:monospace;\">a</span> <span style=\"background:#eef6ff; padding:2px; margin:1px; border-radius:3px; font-family:monospace;\">digital</span> <span style=\"background:#f7f7ff; padding:2px; margin:1px; border-radius:3px; font-family:monospace;\">nightmare</span> <span style=\"background:#eef6ff; padding:2px; margin:1px; border-radius:3px; font-family:monospace;\">that</span> <span style=\"background:#f7f7ff; padding:2px; margin:1px; border-radius:3px; font-family:monospace;\">changed</span> <span style=\"background:#eef6ff; padding:2px; margin:1px; border-radius:3px; font-family:monospace;\">the</span> <span style=\"background:#f7f7ff; padding:2px; margin:1px; border-radius:3px; font-family:monospace;\">culture</span> <span style=\"background:#eef6ff; padding:2px; margin:1px; border-radius:3px; font-family:monospace;\">.</span> <span style=\"background:#f7f7ff; padding:2px; margin:1px; border-radius:3px; font-family:monospace;\">it</span> <span style=\"background:#eef6ff; padding:2px; margin:1px; border-radius:3px; font-family:monospace;\">'</span> <span style=\"background:#f7f7ff; padding:2px; margin:1px; border-radius:3px; font-family:monospace;\">s</span> <span style=\"background:#eef6ff; padding:2px; margin:1px; border-radius:3px; font-family:monospace;\">about</span> <span style=\"background:#f7f7ff; padding:2px; margin:1px; border-radius:3px; font-family:monospace;\">to</span> <span style=\"background:#eef6ff; padding:2px; margin:1px; border-radius:3px; font-family:monospace;\">get</span> <span style=\"background:#f7f7ff; padding:2px; margin:1px; border-radius:3px; font-family:monospace;\">far</span> <span style=\"background:#eef6ff; padding:2px; margin:1px; border-radius:3px; font-family:monospace;\">creep</span> <span style=\"background:#f7f7ff; padding:2px; margin:1px; border-radius:3px; font-family:monospace;\">##ier</span> <span style=\"background:#eef6ff; padding:2px; margin:1px; border-radius:3px; font-family:monospace;\">hip</span> <span style=\"background:#f7f7ff; padding:2px; margin:1px; border-radius:3px; font-family:monospace;\">hop</span> <span style=\"background:#eef6ff; padding:2px; margin:1px; border-radius:3px; font-family:monospace;\">'</span> <span style=\"background:#f7f7ff; padding:2px; margin:1px; border-radius:3px; font-family:monospace;\">s</span> <span style=\"background:#eef6ff; padding:2px; margin:1px; border-radius:3px; font-family:monospace;\">online</span> <span style=\"background:#f7f7ff; padding:2px; margin:1px; border-radius:3px; font-family:monospace;\">shop</span> <span style=\"background:#eef6ff; padding:2px; margin:1px; border-radius:3px; font-family:monospace;\">celebrity</span> <span style=\"background:#f7f7ff; padding:2px; margin:1px; border-radius:3px; font-family:monospace;\">fashion</span> <span style=\"background:#eef6ff; padding:2px; margin:1px; border-radius:3px; font-family:monospace;\">is</span> <span style=\"background:#f7f7ff; padding:2px; margin:1px; border-radius:3px; font-family:monospace;\">booming</span> <span style=\"background:#eef6ff; padding:2px; margin:1px; border-radius:3px; font-family:monospace;\">.</span> <span style=\"background:#f7f7ff; padding:2px; margin:1px; border-radius:3px; font-family:monospace;\">these</span> <span style=\"background:#eef6ff; padding:2px; margin:1px; border-radius:3px; font-family:monospace;\">web</span> <span style=\"background:#f7f7ff; padding:2px; margin:1px; border-radius:3px; font-family:monospace;\">##pre</span> <span style=\"background:#eef6ff; padding:2px; margin:1px; border-radius:3px; font-family:monospace;\">##ne</span> <span style=\"background:#f7f7ff; padding:2px; margin:1px; border-radius:3px; font-family:monospace;\">##urs</span> <span style=\"background:#eef6ff; padding:2px; margin:1px; border-radius:3px; font-family:monospace;\">are</span> <span style=\"background:#f7f7ff; padding:2px; margin:1px; border-radius:3px; font-family:monospace;\">bringing</span> <span style=\"background:#eef6ff; padding:2px; margin:1px; border-radius:3px; font-family:monospace;\">it</span> <span style=\"background:#f7f7ff; padding:2px; margin:1px; border-radius:3px; font-family:monospace;\">to</span> <span style=\"background:#eef6ff; padding:2px; margin:1px; border-radius:3px; font-family:monospace;\">main</span> <span style=\"background:#f7f7ff; padding:2px; margin:1px; border-radius:3px; font-family:monospace;\">street</span> <span style=\"background:#eef6ff; padding:2px; margin:1px; border-radius:3px; font-family:monospace;\">st</span> <span style=\"background:#f7f7ff; padding:2px; margin:1px; border-radius:3px; font-family:monospace;\">##oki</span> <span style=\"background:#eef6ff; padding:2px; margin:1px; border-radius:3px; font-family:monospace;\">##ng</span> <span style=\"background:#f7f7ff; padding:2px; margin:1px; border-radius:3px; font-family:monospace;\">the</span> <span style=\"background:#eef6ff; padding:2px; margin:1px; border-radius:3px; font-family:monospace;\">steam</span> <span style=\"background:#f7f7ff; padding:2px; margin:1px; border-radius:3px; font-family:monospace;\">##roller</span> <span style=\"background:#eef6ff; padding:2px; margin:1px; border-radius:3px; font-family:monospace;\">no</span> <span style=\"background:#f7f7ff; padding:2px; margin:1px; border-radius:3px; font-family:monospace;\">other</span> <span style=\"background:#eef6ff; padding:2px; margin:1px; border-radius:3px; font-family:monospace;\">recording</span> <span style=\"background:#f7f7ff; padding:2px; margin:1px; border-radius:3px; font-family:monospace;\">artist</span> <span style=\"background:#eef6ff; padding:2px; margin:1px; border-radius:3px; font-family:monospace;\">can</span> <span style=\"background:#f7f7ff; padding:2px; margin:1px; border-radius:3px; font-family:monospace;\">channel</span> <span style=\"background:#eef6ff; padding:2px; margin:1px; border-radius:3px; font-family:monospace;\">american</span> <span style=\"background:#f7f7ff; padding:2px; margin:1px; border-radius:3px; font-family:monospace;\">middle</span> <span style=\"background:#eef6ff; padding:2px; margin:1px; border-radius:3px; font-family:monospace;\">-</span> <span style=\"background:#f7f7ff; padding:2px; margin:1px; border-radius:3px; font-family:monospace;\">class</span> <span style=\"background:#eef6ff; padding:2px; margin:1px; border-radius:3px; font-family:monospace;\">tastes</span> <span style=\"background:#f7f7ff; padding:2px; margin:1px; border-radius:3px; font-family:monospace;\">quite</span> <span style=\"background:#eef6ff; padding:2px; margin:1px; border-radius:3px; font-family:monospace;\">like</span> <span style=\"background:#f7f7ff; padding:2px; margin:1px; border-radius:3px; font-family:monospace;\">chip</span> <span style=\"background:#eef6ff; padding:2px; margin:1px; border-radius:3px; font-family:monospace;\">davis</span> <span style=\"background:#f7f7ff; padding:2px; margin:1px; border-radius:3px; font-family:monospace;\">and</span> <span style=\"background:#eef6ff; padding:2px; margin:1px; border-radius:3px; font-family:monospace;\">his</span> <span style=\"background:#f7f7ff; padding:2px; margin:1px; border-radius:3px; font-family:monospace;\">best</span> <span style=\"background:#eef6ff; padding:2px; margin:1px; border-radius:3px; font-family:monospace;\">-</span> <span style=\"background:#f7f7ff; padding:2px; margin:1px; border-radius:3px; font-family:monospace;\">selling</span> <span style=\"background:#eef6ff; padding:2px; margin:1px; border-radius:3px; font-family:monospace;\">band</span> <span style=\"background:#f7f7ff; padding:2px; margin:1px; border-radius:3px; font-family:monospace;\">coming</span> <span style=\"background:#eef6ff; padding:2px; margin:1px; border-radius:3px; font-family:monospace;\">to</span> <span style=\"background:#f7f7ff; padding:2px; margin:1px; border-radius:3px; font-family:monospace;\">the</span> <span style=\"background:#eef6ff; padding:2px; margin:1px; border-radius:3px; font-family:monospace;\">rescue</span> <span style=\"background:#f7f7ff; padding:2px; margin:1px; border-radius:3px; font-family:monospace;\">got</span> <span style=\"background:#eef6ff; padding:2px; margin:1px; border-radius:3px; font-family:monospace;\">a</span> <span style=\"background:#f7f7ff; padding:2px; margin:1px; border-radius:3px; font-family:monospace;\">unique</span> <span style=\"background:#eef6ff; padding:2px; margin:1px; border-radius:3px; font-family:monospace;\">problem</span> <span style=\"background:#f7f7ff; padding:2px; margin:1px; border-radius:3px; font-family:monospace;\">?</span> <span style=\"background:#eef6ff; padding:2px; margin:1px; border-radius:3px; font-family:monospace;\">not</span> <span style=\"background:#f7f7ff; padding:2px; margin:1px; border-radius:3px; font-family:monospace;\">to</span> <span style=\"background:#eef6ff; padding:2px; margin:1px; border-radius:3px; font-family:monospace;\">worry</span> <span style=\"background:#f7f7ff; padding:2px; margin:1px; border-radius:3px; font-family:monospace;\">:</span> <span style=\"background:#eef6ff; padding:2px; margin:1px; border-radius:3px; font-family:monospace;\">you</span> <span style=\"background:#f7f7ff; padding:2px; margin:1px; border-radius:3px; font-family:monospace;\">can</span> <span style=\"background:#eef6ff; padding:2px; margin:1px; border-radius:3px; font-family:monospace;\">find</span> <span style=\"background:#f7f7ff; padding:2px; margin:1px; border-radius:3px; font-family:monospace;\">a</span> <span style=\"background:#eef6ff; padding:2px; margin:1px; border-radius:3px; font-family:monospace;\">financial</span> <span style=\"background:#f7f7ff; padding:2px; margin:1px; border-radius:3px; font-family:monospace;\">planner</span> <span style=\"background:#eef6ff; padding:2px; margin:1px; border-radius:3px; font-family:monospace;\">for</span> <span style=\"background:#f7f7ff; padding:2px; margin:1px; border-radius:3px; font-family:monospace;\">every</span> <span style=\"background:#eef6ff; padding:2px; margin:1px; border-radius:3px; font-family:monospace;\">specialized</span> <span style=\"background:#f7f7ff; padding:2px; margin:1px; border-radius:3px; font-family:monospace;\">need</span> <span style=\"background:#eef6ff; padding:2px; margin:1px; border-radius:3px; font-family:monospace;\">the</span> <span style=\"background:#f7f7ff; padding:2px; margin:1px; border-radius:3px; font-family:monospace;\">new</span> <span style=\"background:#eef6ff; padding:2px; margin:1px; border-radius:3px; font-family:monospace;\">customers</span> <span style=\"background:#f7f7ff; padding:2px; margin:1px; border-radius:3px; font-family:monospace;\">are</span> <span style=\"background:#eef6ff; padding:2px; margin:1px; border-radius:3px; font-family:monospace;\">in</span> <span style=\"background:#f7f7ff; padding:2px; margin:1px; border-radius:3px; font-family:monospace;\">town</span> <span style=\"background:#eef6ff; padding:2px; margin:1px; border-radius:3px; font-family:monospace;\">today</span> <span style=\"background:#f7f7ff; padding:2px; margin:1px; border-radius:3px; font-family:monospace;\">'</span> <span style=\"background:#eef6ff; padding:2px; margin:1px; border-radius:3px; font-family:monospace;\">s</span> <span style=\"background:#f7f7ff; padding:2px; margin:1px; border-radius:3px; font-family:monospace;\">customers</span> <span style=\"background:#eef6ff; padding:2px; margin:1px; border-radius:3px; font-family:monospace;\">are</span> <span style=\"background:#f7f7ff; padding:2px; margin:1px; border-radius:3px; font-family:monospace;\">increasingly</span> <span style=\"background:#eef6ff; padding:2px; margin:1px; border-radius:3px; font-family:monospace;\">demanding</span> <span style=\"background:#f7f7ff; padding:2px; margin:1px; border-radius:3px; font-family:monospace;\">,</span> <span style=\"background:#eef6ff; padding:2px; margin:1px; border-radius:3px; font-family:monospace;\">in</span> <span style=\"background:#f7f7ff; padding:2px; margin:1px; border-radius:3px; font-family:monospace;\">asia</span> <span style=\"background:#eef6ff; padding:2px; margin:1px; border-radius:3px; font-family:monospace;\">as</span> <span style=\"background:#f7f7ff; padding:2px; margin:1px; border-radius:3px; font-family:monospace;\">elsewhere</span> <span style=\"background:#eef6ff; padding:2px; margin:1px; border-radius:3px; font-family:monospace;\">in</span> <span style=\"background:#f7f7ff; padding:2px; margin:1px; border-radius:3px; font-family:monospace;\">the</span> <span style=\"background:#eef6ff; padding:2px; margin:1px; border-radius:3px; font-family:monospace;\">world</span> <span style=\"background:#f7f7ff; padding:2px; margin:1px; border-radius:3px; font-family:monospace;\">.</span> <span style=\"background:#eef6ff; padding:2px; margin:1px; border-radius:3px; font-family:monospace;\">henry</span> <span style=\"background:#f7f7ff; padding:2px; margin:1px; border-radius:3px; font-family:monospace;\">astor</span> <span style=\"background:#eef6ff; padding:2px; margin:1px; border-radius:3px; font-family:monospace;\">##ga</span> <span style=\"background:#f7f7ff; padding:2px; margin:1px; border-radius:3px; font-family:monospace;\">describes</span> <span style=\"background:#eef6ff; padding:2px; margin:1px; border-radius:3px; font-family:monospace;\">the</span> <span style=\"background:#f7f7ff; padding:2px; margin:1px; border-radius:3px; font-family:monospace;\">complex</span> <span style=\"background:#eef6ff; padding:2px; margin:1px; border-radius:3px; font-family:monospace;\">reality</span> <span style=\"background:#f7f7ff; padding:2px; margin:1px; border-radius:3px; font-family:monospace;\">faced</span> <span style=\"background:#eef6ff; padding:2px; margin:1px; border-radius:3px; font-family:monospace;\">by</span> <span style=\"background:#f7f7ff; padding:2px; margin:1px; border-radius:3px; font-family:monospace;\">today</span> <span style=\"background:#eef6ff; padding:2px; margin:1px; border-radius:3px; font-family:monospace;\">'</span> <span style=\"background:#f7f7ff; padding:2px; margin:1px; border-radius:3px; font-family:monospace;\">s</span> <span style=\"background:#eef6ff; padding:2px; margin:1px; border-radius:3px; font-family:monospace;\">market</span> <span style=\"background:#f7f7ff; padding:2px; margin:1px; border-radius:3px; font-family:monospace;\">##ers</span> <span style=\"background:#eef6ff; padding:2px; margin:1px; border-radius:3px; font-family:monospace;\">,</span> <span style=\"background:#f7f7ff; padding:2px; margin:1px; border-radius:3px; font-family:monospace;\">which</span> <span style=\"background:#eef6ff; padding:2px; margin:1px; border-radius:3px; font-family:monospace;\">includes</span> <span style=\"background:#f7f7ff; padding:2px; margin:1px; border-radius:3px; font-family:monospace;\">much</span> <span style=\"background:#eef6ff; padding:2px; margin:1px; border-radius:3px; font-family:monospace;\">higher</span> <span style=\"background:#f7f7ff; padding:2px; margin:1px; border-radius:3px; font-family:monospace;\">expectations</span> <span style=\"background:#eef6ff; padding:2px; margin:1px; border-radius:3px; font-family:monospace;\">than</span> <span style=\"background:#f7f7ff; padding:2px; margin:1px; border-radius:3px; font-family:monospace;\">we</span> <span style=\"background:#eef6ff; padding:2px; margin:1px; border-radius:3px; font-family:monospace;\">have</span> <span style=\"background:#f7f7ff; padding:2px; margin:1px; border-radius:3px; font-family:monospace;\">been</span> <span style=\"background:#eef6ff; padding:2px; margin:1px; border-radius:3px; font-family:monospace;\">used</span> <span style=\"background:#f7f7ff; padding:2px; margin:1px; border-radius:3px; font-family:monospace;\">to</span> <span style=\"background:#eef6ff; padding:2px; margin:1px; border-radius:3px; font-family:monospace;\">.</span> <span style=\"background:#f7f7ff; padding:2px; margin:1px; border-radius:3px; font-family:monospace;\">today</span> <span style=\"background:#eef6ff; padding:2px; margin:1px; border-radius:3px; font-family:monospace;\">'</span> <span style=\"background:#f7f7ff; padding:2px; margin:1px; border-radius:3px; font-family:monospace;\">s</span> <span style=\"background:#eef6ff; padding:2px; margin:1px; border-radius:3px; font-family:monospace;\">customers</span> <span style=\"background:#f7f7ff; padding:2px; margin:1px; border-radius:3px; font-family:monospace;\">want</span> <span style=\"background:#eef6ff; padding:2px; margin:1px; border-radius:3px; font-family:monospace;\">performance</span> <span style=\"background:#f7f7ff; padding:2px; margin:1px; border-radius:3px; font-family:monospace;\">,</span> <span style=\"background:#eef6ff; padding:2px; margin:1px; border-radius:3px; font-family:monospace;\">and</span> <span style=\"background:#f7f7ff; padding:2px; margin:1px; border-radius:3px; font-family:monospace;\">they</span> <span style=\"background:#eef6ff; padding:2px; margin:1px; border-radius:3px; font-family:monospace;\">want</span> <span style=\"background:#f7f7ff; padding:2px; margin:1px; border-radius:3px; font-family:monospace;\">it</span> <span style=\"background:#eef6ff; padding:2px; margin:1px; border-radius:3px; font-family:monospace;\">now</span> <span style=\"background:#f7f7ff; padding:2px; margin:1px; border-radius:3px; font-family:monospace;\">!</span> <span style=\"background:#eef6ff; padding:2px; margin:1px; border-radius:3px; font-family:monospace;\">barrel</span> <span style=\"background:#f7f7ff; padding:2px; margin:1px; border-radius:3px; font-family:monospace;\">of</span> <span style=\"background:#eef6ff; padding:2px; margin:1px; border-radius:3px; font-family:monospace;\">monkeys</span> <span style=\"background:#f7f7ff; padding:2px; margin:1px; border-radius:3px; font-family:monospace;\">,</span> <span style=\"background:#eef6ff; padding:2px; margin:1px; border-radius:3px; font-family:monospace;\">2004</span> <span style=\"background:#f7f7ff; padding:2px; margin:1px; border-radius:3px; font-family:monospace;\">edition</span> <span style=\"background:#eef6ff; padding:2px; margin:1px; border-radius:3px; font-family:monospace;\">:</span> <span style=\"background:#f7f7ff; padding:2px; margin:1px; border-radius:3px; font-family:monospace;\">notes</span> <span style=\"background:#eef6ff; padding:2px; margin:1px; border-radius:3px; font-family:monospace;\">on</span> <span style=\"background:#f7f7ff; padding:2px; margin:1px; border-radius:3px; font-family:monospace;\">philippine</span> <span style=\"background:#eef6ff; padding:2px; margin:1px; border-radius:3px; font-family:monospace;\">elections</span> <span style=\"background:#f7f7ff; padding:2px; margin:1px; border-radius:3px; font-family:monospace;\">well</span> <span style=\"background:#eef6ff; padding:2px; margin:1px; border-radius:3px; font-family:monospace;\">,</span> <span style=\"background:#f7f7ff; padding:2px; margin:1px; border-radius:3px; font-family:monospace;\">it</span> <span style=\"background:#eef6ff; padding:2px; margin:1px; border-radius:3px; font-family:monospace;\">'</span> <span style=\"background:#f7f7ff; padding:2px; margin:1px; border-radius:3px; font-family:monospace;\">s</span> <span style=\"background:#eef6ff; padding:2px; margin:1px; border-radius:3px; font-family:monospace;\">election</span> <span style=\"background:#f7f7ff; padding:2px; margin:1px; border-radius:3px; font-family:monospace;\">time</span> <span style=\"background:#eef6ff; padding:2px; margin:1px; border-radius:3px; font-family:monospace;\">in</span> <span style=\"background:#f7f7ff; padding:2px; margin:1px; border-radius:3px; font-family:monospace;\">the</span> <span style=\"background:#eef6ff; padding:2px; margin:1px; border-radius:3px; font-family:monospace;\">republic</span> <span style=\"background:#f7f7ff; padding:2px; margin:1px; border-radius:3px; font-family:monospace;\">of</span> <span style=\"background:#eef6ff; padding:2px; margin:1px; border-radius:3px; font-family:monospace;\">the</span> <span style=\"background:#f7f7ff; padding:2px; margin:1px; border-radius:3px; font-family:monospace;\">philippines</span> <span style=\"background:#eef6ff; padding:2px; margin:1px; border-radius:3px; font-family:monospace;\">,</span> <span style=\"background:#f7f7ff; padding:2px; margin:1px; border-radius:3px; font-family:monospace;\">and</span> <span style=\"background:#eef6ff; padding:2px; margin:1px; border-radius:3px; font-family:monospace;\">that</span> <span style=\"background:#f7f7ff; padding:2px; margin:1px; border-radius:3px; font-family:monospace;\">means</span> <span style=\"background:#eef6ff; padding:2px; margin:1px; border-radius:3px; font-family:monospace;\">the</span> <span style=\"background:#f7f7ff; padding:2px; margin:1px; border-radius:3px; font-family:monospace;\">monkeys</span> <span style=\"background:#eef6ff; padding:2px; margin:1px; border-radius:3px; font-family:monospace;\">are</span> <span style=\"background:#f7f7ff; padding:2px; margin:1px; border-radius:3px; font-family:monospace;\">rolling</span> <span style=\"background:#eef6ff; padding:2px; margin:1px; border-radius:3px; font-family:monospace;\">around</span> <span style=\"background:#f7f7ff; padding:2px; margin:1px; border-radius:3px; font-family:monospace;\">in</span> <span style=\"background:#eef6ff; padding:2px; margin:1px; border-radius:3px; font-family:monospace;\">those</span> <span style=\"background:#f7f7ff; padding:2px; margin:1px; border-radius:3px; font-family:monospace;\">political</span> <span style=\"background:#eef6ff; padding:2px; margin:1px; border-radius:3px; font-family:monospace;\">barrels</span> <span style=\"background:#f7f7ff; padding:2px; margin:1px; border-radius:3px; font-family:monospace;\">,</span> <span style=\"background:#eef6ff; padding:2px; margin:1px; border-radius:3px; font-family:monospace;\">having</span> <span style=\"background:#f7f7ff; padding:2px; margin:1px; border-radius:3px; font-family:monospace;\">as</span> <span style=\"background:#eef6ff; padding:2px; margin:1px; border-radius:3px; font-family:monospace;\">much</span> <span style=\"background:#f7f7ff; padding:2px; margin:1px; border-radius:3px; font-family:monospace;\">fun</span> <span style=\"background:#eef6ff; padding:2px; margin:1px; border-radius:3px; font-family:monospace;\">as</span> <span style=\"background:#f7f7ff; padding:2px; margin:1px; border-radius:3px; font-family:monospace;\">they</span> <span style=\"background:#eef6ff; padding:2px; margin:1px; border-radius:3px; font-family:monospace;\">can</span> <span style=\"background:#f7f7ff; padding:2px; margin:1px; border-radius:3px; font-family:monospace;\">while</span> <span style=\"background:#eef6ff; padding:2px; margin:1px; border-radius:3px; font-family:monospace;\">laughing</span> <span style=\"background:#f7f7ff; padding:2px; margin:1px; border-radius:3px; font-family:monospace;\">their</span> <span style=\"background:#eef6ff; padding:2px; margin:1px; border-radius:3px; font-family:monospace;\">heads</span> <span style=\"background:#f7f7ff; padding:2px; margin:1px; border-radius:3px; font-family:monospace;\">off</span> <span style=\"background:#eef6ff; padding:2px; margin:1px; border-radius:3px; font-family:monospace;\">at</span> <span style=\"background:#f7f7ff; padding:2px; margin:1px; border-radius:3px; font-family:monospace;\">the</span> <span style=\"background:#eef6ff; padding:2px; margin:1px; border-radius:3px; font-family:monospace;\">strange</span> <span style=\"background:#f7f7ff; padding:2px; margin:1px; border-radius:3px; font-family:monospace;\">going</span> <span style=\"background:#eef6ff; padding:2px; margin:1px; border-radius:3px; font-family:monospace;\">##s</span> <span style=\"background:#f7f7ff; padding:2px; margin:1px; border-radius:3px; font-family:monospace;\">-</span> <span style=\"background:#eef6ff; padding:2px; margin:1px; border-radius:3px; font-family:monospace;\">on</span> <span style=\"background:#f7f7ff; padding:2px; margin:1px; border-radius:3px; font-family:monospace;\">that</span> <span style=\"background:#eef6ff; padding:2px; margin:1px; border-radius:3px; font-family:monospace;\">character</span> <span style=\"background:#f7f7ff; padding:2px; margin:1px; border-radius:3px; font-family:monospace;\">##ize</span> <span style=\"background:#eef6ff; padding:2px; margin:1px; border-radius:3px; font-family:monospace;\">a</span> <span style=\"background:#f7f7ff; padding:2px; margin:1px; border-radius:3px; font-family:monospace;\">democratic</span> <span style=\"background:#eef6ff; padding:2px; margin:1px; border-radius:3px; font-family:monospace;\">process</span> <span style=\"background:#f7f7ff; padding:2px; margin:1px; border-radius:3px; font-family:monospace;\">loosely</span> <span style=\"background:#eef6ff; padding:2px; margin:1px; border-radius:3px; font-family:monospace;\">based</span> <span style=\"background:#f7f7ff; padding:2px; margin:1px; border-radius:3px; font-family:monospace;\">on</span> <span style=\"background:#eef6ff; padding:2px; margin:1px; border-radius:3px; font-family:monospace;\">the</span> <span style=\"background:#f7f7ff; padding:2px; margin:1px; border-radius:3px; font-family:monospace;\">american</span> <span style=\"background:#eef6ff; padding:2px; margin:1px; border-radius:3px; font-family:monospace;\">model</span> <span style=\"background:#f7f7ff; padding:2px; margin:1px; border-radius:3px; font-family:monospace;\">but</span> <span style=\"background:#eef6ff; padding:2px; margin:1px; border-radius:3px; font-family:monospace;\">that</span> <span style=\"background:#f7f7ff; padding:2px; margin:1px; border-radius:3px; font-family:monospace;\">de</span> <span style=\"background:#eef6ff; padding:2px; margin:1px; border-radius:3px; font-family:monospace;\">facto</span> <span style=\"background:#f7f7ff; padding:2px; margin:1px; border-radius:3px; font-family:monospace;\">looks</span> <span style=\"background:#eef6ff; padding:2px; margin:1px; border-radius:3px; font-family:monospace;\">more</span> <span style=\"background:#f7f7ff; padding:2px; margin:1px; border-radius:3px; font-family:monospace;\">like</span> <span style=\"background:#eef6ff; padding:2px; margin:1px; border-radius:3px; font-family:monospace;\">a</span> <span style=\"background:#f7f7ff; padding:2px; margin:1px; border-radius:3px; font-family:monospace;\">fell</span> <span style=\"background:#eef6ff; padding:2px; margin:1px; border-radius:3px; font-family:monospace;\">##ini</span> <span style=\"background:#f7f7ff; padding:2px; margin:1px; border-radius:3px; font-family:monospace;\">movie</span> <span style=\"background:#eef6ff; padding:2px; margin:1px; border-radius:3px; font-family:monospace;\">crossed</span> <span style=\"background:#f7f7ff; padding:2px; margin:1px; border-radius:3px; font-family:monospace;\">with</span> <span style=\"background:#eef6ff; padding:2px; margin:1px; border-radius:3px; font-family:monospace;\">a</span> <span style=\"background:#f7f7ff; padding:2px; margin:1px; border-radius:3px; font-family:monospace;\">tom</span> <span style=\"background:#eef6ff; padding:2px; margin:1px; border-radius:3px; font-family:monospace;\">and</span> <span style=\"background:#f7f7ff; padding:2px; margin:1px; border-radius:3px; font-family:monospace;\">jerry</span> <span style=\"background:#eef6ff; padding:2px; margin:1px; border-radius:3px; font-family:monospace;\">cartoon</span> <span style=\"background:#f7f7ff; padding:2px; margin:1px; border-radius:3px; font-family:monospace;\">-</span> <span style=\"background:#eef6ff; padding:2px; margin:1px; border-radius:3px; font-family:monospace;\">column</span> <span style=\"background:#f7f7ff; padding:2px; margin:1px; border-radius:3px; font-family:monospace;\">includes</span> <span style=\"background:#eef6ff; padding:2px; margin:1px; border-radius:3px; font-family:monospace;\">a</span> <span style=\"background:#f7f7ff; padding:2px; margin:1px; border-radius:3px; font-family:monospace;\">useful</span> <span style=\"background:#eef6ff; padding:2px; margin:1px; border-radius:3px; font-family:monospace;\">election</span> <span style=\"background:#f7f7ff; padding:2px; margin:1px; border-radius:3px; font-family:monospace;\">-</span> <span style=\"background:#eef6ff; padding:2px; margin:1px; border-radius:3px; font-family:monospace;\">year</span> <span style=\"background:#f7f7ff; padding:2px; margin:1px; border-radius:3px; font-family:monospace;\">gloss</span> <span style=\"background:#eef6ff; padding:2px; margin:1px; border-radius:3px; font-family:monospace;\">##ary</span> <span style=\"background:#f7f7ff; padding:2px; margin:1px; border-radius:3px; font-family:monospace;\">!</span></div><div style='margin-top:6px; font-family:monospace;'>count = 390</div>"
      ],
      "text/plain": [
       "<IPython.core.display.HTML object>"
      ]
     },
     "metadata": {},
     "output_type": "display_data"
    },
    {
     "data": {
      "text/html": [
       "<h4>distilroberta-base</h4><div style='font-family:system-ui; margin-bottom:6px;'><b>Tokens:</b></div><div><span style=\"background:#eef6ff; padding:2px; margin:1px; border-radius:3px; font-family:monospace;\">Making</span> <span style=\"background:#f7f7ff; padding:2px; margin:1px; border-radius:3px; font-family:monospace;\">␠Your</span> <span style=\"background:#eef6ff; padding:2px; margin:1px; border-radius:3px; font-family:monospace;\">␠Ins</span> <span style=\"background:#f7f7ff; padding:2px; margin:1px; border-radius:3px; font-family:monospace;\">urer</span> <span style=\"background:#eef6ff; padding:2px; margin:1px; border-radius:3px; font-family:monospace;\">␠Pay</span> <span style=\"background:#f7f7ff; padding:2px; margin:1px; border-radius:3px; font-family:monospace;\">␠If</span> <span style=\"background:#eef6ff; padding:2px; margin:1px; border-radius:3px; font-family:monospace;\">␠Hurricane</span> <span style=\"background:#f7f7ff; padding:2px; margin:1px; border-radius:3px; font-family:monospace;\">␠Char</span> <span style=\"background:#eef6ff; padding:2px; margin:1px; border-radius:3px; font-family:monospace;\">ley</span> <span style=\"background:#f7f7ff; padding:2px; margin:1px; border-radius:3px; font-family:monospace;\">␠blows</span> <span style=\"background:#eef6ff; padding:2px; margin:1px; border-radius:3px; font-family:monospace;\">␠your</span> <span style=\"background:#f7f7ff; padding:2px; margin:1px; border-radius:3px; font-family:monospace;\">␠house</span> <span style=\"background:#eef6ff; padding:2px; margin:1px; border-radius:3px; font-family:monospace;\">␠down</span> <span style=\"background:#f7f7ff; padding:2px; margin:1px; border-radius:3px; font-family:monospace;\">,</span> <span style=\"background:#eef6ff; padding:2px; margin:1px; border-radius:3px; font-family:monospace;\">␠how</span> <span style=\"background:#f7f7ff; padding:2px; margin:1px; border-radius:3px; font-family:monospace;\">␠can</span> <span style=\"background:#eef6ff; padding:2px; margin:1px; border-radius:3px; font-family:monospace;\">␠you</span> <span style=\"background:#f7f7ff; padding:2px; margin:1px; border-radius:3px; font-family:monospace;\">␠make</span> <span style=\"background:#eef6ff; padding:2px; margin:1px; border-radius:3px; font-family:monospace;\">␠your</span> <span style=\"background:#f7f7ff; padding:2px; margin:1px; border-radius:3px; font-family:monospace;\">␠insurance</span> <span style=\"background:#eef6ff; padding:2px; margin:1px; border-radius:3px; font-family:monospace;\">␠company</span> <span style=\"background:#f7f7ff; padding:2px; margin:1px; border-radius:3px; font-family:monospace;\">␠pay</span> <span style=\"background:#eef6ff; padding:2px; margin:1px; border-radius:3px; font-family:monospace;\">?</span> <span style=\"background:#f7f7ff; padding:2px; margin:1px; border-radius:3px; font-family:monospace;\">␠Del</span> <span style=\"background:#eef6ff; padding:2px; margin:1px; border-radius:3px; font-family:monospace;\">ight</span> <span style=\"background:#f7f7ff; padding:2px; margin:1px; border-radius:3px; font-family:monospace;\">ful</span> <span style=\"background:#eef6ff; padding:2px; margin:1px; border-radius:3px; font-family:monospace;\">␠Dell</span> <span style=\"background:#f7f7ff; padding:2px; margin:1px; border-radius:3px; font-family:monospace;\">␠The</span> <span style=\"background:#eef6ff; padding:2px; margin:1px; border-radius:3px; font-family:monospace;\">␠company</span> <span style=\"background:#f7f7ff; padding:2px; margin:1px; border-radius:3px; font-family:monospace;\">'s</span> <span style=\"background:#eef6ff; padding:2px; margin:1px; border-radius:3px; font-family:monospace;\">␠results</span> <span style=\"background:#f7f7ff; padding:2px; margin:1px; border-radius:3px; font-family:monospace;\">␠show</span> <span style=\"background:#eef6ff; padding:2px; margin:1px; border-radius:3px; font-family:monospace;\">␠that</span> <span style=\"background:#f7f7ff; padding:2px; margin:1px; border-radius:3px; font-family:monospace;\">␠it</span> <span style=\"background:#eef6ff; padding:2px; margin:1px; border-radius:3px; font-family:monospace;\">'s</span> <span style=\"background:#f7f7ff; padding:2px; margin:1px; border-radius:3px; font-family:monospace;\">␠not</span> <span style=\"background:#eef6ff; padding:2px; margin:1px; border-radius:3px; font-family:monospace;\">␠grim</span> <span style=\"background:#f7f7ff; padding:2px; margin:1px; border-radius:3px; font-family:monospace;\">␠all</span> <span style=\"background:#eef6ff; padding:2px; margin:1px; border-radius:3px; font-family:monospace;\">␠over</span> <span style=\"background:#f7f7ff; padding:2px; margin:1px; border-radius:3px; font-family:monospace;\">␠tech</span> <span style=\"background:#eef6ff; padding:2px; margin:1px; border-radius:3px; font-family:monospace;\">␠world</span> <span style=\"background:#f7f7ff; padding:2px; margin:1px; border-radius:3px; font-family:monospace;\">.</span> <span style=\"background:#eef6ff; padding:2px; margin:1px; border-radius:3px; font-family:monospace;\">␠Just</span> <span style=\"background:#f7f7ff; padding:2px; margin:1px; border-radius:3px; font-family:monospace;\">␠all</span> <span style=\"background:#eef6ff; padding:2px; margin:1px; border-radius:3px; font-family:monospace;\">␠of</span> <span style=\"background:#f7f7ff; padding:2px; margin:1px; border-radius:3px; font-family:monospace;\">␠it</span> <span style=\"background:#eef6ff; padding:2px; margin:1px; border-radius:3px; font-family:monospace;\">␠that</span> <span style=\"background:#f7f7ff; padding:2px; margin:1px; border-radius:3px; font-family:monospace;\">␠isn</span> <span style=\"background:#eef6ff; padding:2px; margin:1px; border-radius:3px; font-family:monospace;\">'t</span> <span style=\"background:#f7f7ff; padding:2px; margin:1px; border-radius:3px; font-family:monospace;\">␠Dell</span> <span style=\"background:#eef6ff; padding:2px; margin:1px; border-radius:3px; font-family:monospace;\">.</span> <span style=\"background:#f7f7ff; padding:2px; margin:1px; border-radius:3px; font-family:monospace;\">␠Chrysler</span> <span style=\"background:#eef6ff; padding:2px; margin:1px; border-radius:3px; font-family:monospace;\">'s</span> <span style=\"background:#f7f7ff; padding:2px; margin:1px; border-radius:3px; font-family:monospace;\">␠Bl</span> <span style=\"background:#eef6ff; padding:2px; margin:1px; border-radius:3px; font-family:monospace;\">ing</span> <span style=\"background:#f7f7ff; padding:2px; margin:1px; border-radius:3px; font-family:monospace;\">␠King</span> <span style=\"background:#eef6ff; padding:2px; margin:1px; border-radius:3px; font-family:monospace;\">␠After</span> <span style=\"background:#f7f7ff; padding:2px; margin:1px; border-radius:3px; font-family:monospace;\">␠a</span> <span style=\"background:#eef6ff; padding:2px; margin:1px; border-radius:3px; font-family:monospace;\">␠tough</span> <span style=\"background:#f7f7ff; padding:2px; margin:1px; border-radius:3px; font-family:monospace;\">␠year</span> <span style=\"background:#eef6ff; padding:2px; margin:1px; border-radius:3px; font-family:monospace;\">,</span> <span style=\"background:#f7f7ff; padding:2px; margin:1px; border-radius:3px; font-family:monospace;\">␠Detroit</span> <span style=\"background:#eef6ff; padding:2px; margin:1px; border-radius:3px; font-family:monospace;\">'s</span> <span style=\"background:#f7f7ff; padding:2px; margin:1px; border-radius:3px; font-family:monospace;\">␠troubled</span> <span style=\"background:#eef6ff; padding:2px; margin:1px; border-radius:3px; font-family:monospace;\">␠car</span> <span style=\"background:#f7f7ff; padding:2px; margin:1px; border-radius:3px; font-family:monospace;\">maker</span> <span style=\"background:#eef6ff; padding:2px; margin:1px; border-radius:3px; font-family:monospace;\">␠is</span> <span style=\"background:#f7f7ff; padding:2px; margin:1px; border-radius:3px; font-family:monospace;\">␠back</span> <span style=\"background:#eef6ff; padding:2px; margin:1px; border-radius:3px; font-family:monospace;\">␠--</span> <span style=\"background:#f7f7ff; padding:2px; margin:1px; border-radius:3px; font-family:monospace;\">␠thanks</span> <span style=\"background:#eef6ff; padding:2px; margin:1px; border-radius:3px; font-family:monospace;\">␠to</span> <span style=\"background:#f7f7ff; padding:2px; margin:1px; border-radius:3px; font-family:monospace;\">␠a</span> <span style=\"background:#eef6ff; padding:2px; margin:1px; border-radius:3px; font-family:monospace;\">␠m</span> <span style=\"background:#f7f7ff; padding:2px; margin:1px; border-radius:3px; font-family:monospace;\">aver</span> <span style=\"background:#eef6ff; padding:2px; margin:1px; border-radius:3px; font-family:monospace;\">ick</span> <span style=\"background:#f7f7ff; padding:2px; margin:1px; border-radius:3px; font-family:monospace;\">␠designer</span> <span style=\"background:#eef6ff; padding:2px; margin:1px; border-radius:3px; font-family:monospace;\">␠and</span> <span style=\"background:#f7f7ff; padding:2px; margin:1px; border-radius:3px; font-family:monospace;\">␠a</span> <span style=\"background:#eef6ff; padding:2px; margin:1px; border-radius:3px; font-family:monospace;\">␠car</span> <span style=\"background:#f7f7ff; padding:2px; margin:1px; border-radius:3px; font-family:monospace;\">␠that</span> <span style=\"background:#eef6ff; padding:2px; margin:1px; border-radius:3px; font-family:monospace;\">␠is</span> <span style=\"background:#f7f7ff; padding:2px; margin:1px; border-radius:3px; font-family:monospace;\">␠dazzling</span> <span style=\"background:#eef6ff; padding:2px; margin:1px; border-radius:3px; font-family:monospace;\">␠the</span> <span style=\"background:#f7f7ff; padding:2px; margin:1px; border-radius:3px; font-family:monospace;\">␠hip</span> <span style=\"background:#eef6ff; padding:2px; margin:1px; border-radius:3px; font-family:monospace;\">-</span> <span style=\"background:#f7f7ff; padding:2px; margin:1px; border-radius:3px; font-family:monospace;\">hop</span> <span style=\"background:#eef6ff; padding:2px; margin:1px; border-radius:3px; font-family:monospace;\">␠crowd</span> <span style=\"background:#f7f7ff; padding:2px; margin:1px; border-radius:3px; font-family:monospace;\">␠What</span> <span style=\"background:#eef6ff; padding:2px; margin:1px; border-radius:3px; font-family:monospace;\">'s</span> <span style=\"background:#f7f7ff; padding:2px; margin:1px; border-radius:3px; font-family:monospace;\">␠Cool</span> <span style=\"background:#eef6ff; padding:2px; margin:1px; border-radius:3px; font-family:monospace;\">␠In</span> <span style=\"background:#f7f7ff; padding:2px; margin:1px; border-radius:3px; font-family:monospace;\">␠the</span> <span style=\"background:#eef6ff; padding:2px; margin:1px; border-radius:3px; font-family:monospace;\">␠Pool</span> <span style=\"background:#f7f7ff; padding:2px; margin:1px; border-radius:3px; font-family:monospace;\">␠...</span> <span style=\"background:#eef6ff; padding:2px; margin:1px; border-radius:3px; font-family:monospace;\">␠...</span> <span style=\"background:#f7f7ff; padding:2px; margin:1px; border-radius:3px; font-family:monospace;\">␠And</span> <span style=\"background:#eef6ff; padding:2px; margin:1px; border-radius:3px; font-family:monospace;\">␠Hot</span> <span style=\"background:#f7f7ff; padding:2px; margin:1px; border-radius:3px; font-family:monospace;\">␠On</span> <span style=\"background:#eef6ff; padding:2px; margin:1px; border-radius:3px; font-family:monospace;\">␠the</span> <span style=\"background:#f7f7ff; padding:2px; margin:1px; border-radius:3px; font-family:monospace;\">␠Deck</span> <span style=\"background:#eef6ff; padding:2px; margin:1px; border-radius:3px; font-family:monospace;\">␠Americans</span> <span style=\"background:#f7f7ff; padding:2px; margin:1px; border-radius:3px; font-family:monospace;\">␠are</span> <span style=\"background:#eef6ff; padding:2px; margin:1px; border-radius:3px; font-family:monospace;\">␠spending</span> <span style=\"background:#f7f7ff; padding:2px; margin:1px; border-radius:3px; font-family:monospace;\">␠more</span> <span style=\"background:#eef6ff; padding:2px; margin:1px; border-radius:3px; font-family:monospace;\">␠on</span> <span style=\"background:#f7f7ff; padding:2px; margin:1px; border-radius:3px; font-family:monospace;\">␠trick</span> <span style=\"background:#eef6ff; padding:2px; margin:1px; border-radius:3px; font-family:monospace;\">ing</span> <span style=\"background:#f7f7ff; padding:2px; margin:1px; border-radius:3px; font-family:monospace;\">␠out</span> <span style=\"background:#eef6ff; padding:2px; margin:1px; border-radius:3px; font-family:monospace;\">␠the</span> <span style=\"background:#f7f7ff; padding:2px; margin:1px; border-radius:3px; font-family:monospace;\">␠places</span> <span style=\"background:#eef6ff; padding:2px; margin:1px; border-radius:3px; font-family:monospace;\">␠where</span> <span style=\"background:#f7f7ff; padding:2px; margin:1px; border-radius:3px; font-family:monospace;\">␠they</span> <span style=\"background:#eef6ff; padding:2px; margin:1px; border-radius:3px; font-family:monospace;\">␠swim</span> <span style=\"background:#f7f7ff; padding:2px; margin:1px; border-radius:3px; font-family:monospace;\">.</span> <span style=\"background:#eef6ff; padding:2px; margin:1px; border-radius:3px; font-family:monospace;\">␠Here</span> <span style=\"background:#f7f7ff; padding:2px; margin:1px; border-radius:3px; font-family:monospace;\">'s</span> <span style=\"background:#eef6ff; padding:2px; margin:1px; border-radius:3px; font-family:monospace;\">␠a</span> <span style=\"background:#f7f7ff; padding:2px; margin:1px; border-radius:3px; font-family:monospace;\">␠look</span> <span style=\"background:#eef6ff; padding:2px; margin:1px; border-radius:3px; font-family:monospace;\">␠at</span> <span style=\"background:#f7f7ff; padding:2px; margin:1px; border-radius:3px; font-family:monospace;\">␠the</span> <span style=\"background:#eef6ff; padding:2px; margin:1px; border-radius:3px; font-family:monospace;\">␠new</span> <span style=\"background:#f7f7ff; padding:2px; margin:1px; border-radius:3px; font-family:monospace;\">␠wave</span> <span style=\"background:#eef6ff; padding:2px; margin:1px; border-radius:3px; font-family:monospace;\">␠of</span> <span style=\"background:#f7f7ff; padding:2px; margin:1px; border-radius:3px; font-family:monospace;\">␠accessories</span> <span style=\"background:#eef6ff; padding:2px; margin:1px; border-radius:3px; font-family:monospace;\">␠The</span> <span style=\"background:#f7f7ff; padding:2px; margin:1px; border-radius:3px; font-family:monospace;\">␠Age</span> <span style=\"background:#eef6ff; padding:2px; margin:1px; border-radius:3px; font-family:monospace;\">␠of</span> <span style=\"background:#f7f7ff; padding:2px; margin:1px; border-radius:3px; font-family:monospace;\">␠Doom</span> <span style=\"background:#eef6ff; padding:2px; margin:1px; border-radius:3px; font-family:monospace;\">␠In</span> <span style=\"background:#f7f7ff; padding:2px; margin:1px; border-radius:3px; font-family:monospace;\">␠1993</span> <span style=\"background:#eef6ff; padding:2px; margin:1px; border-radius:3px; font-family:monospace;\">␠six</span> <span style=\"background:#f7f7ff; padding:2px; margin:1px; border-radius:3px; font-family:monospace;\">␠g</span> <span style=\"background:#eef6ff; padding:2px; margin:1px; border-radius:3px; font-family:monospace;\">eeks</span> <span style=\"background:#f7f7ff; padding:2px; margin:1px; border-radius:3px; font-family:monospace;\">␠had</span> <span style=\"background:#eef6ff; padding:2px; margin:1px; border-radius:3px; font-family:monospace;\">␠a</span> <span style=\"background:#f7f7ff; padding:2px; margin:1px; border-radius:3px; font-family:monospace;\">␠digital</span> <span style=\"background:#eef6ff; padding:2px; margin:1px; border-radius:3px; font-family:monospace;\">␠nightmare</span> <span style=\"background:#f7f7ff; padding:2px; margin:1px; border-radius:3px; font-family:monospace;\">␠that</span> <span style=\"background:#eef6ff; padding:2px; margin:1px; border-radius:3px; font-family:monospace;\">␠changed</span> <span style=\"background:#f7f7ff; padding:2px; margin:1px; border-radius:3px; font-family:monospace;\">␠the</span> <span style=\"background:#eef6ff; padding:2px; margin:1px; border-radius:3px; font-family:monospace;\">␠culture</span> <span style=\"background:#f7f7ff; padding:2px; margin:1px; border-radius:3px; font-family:monospace;\">.</span> <span style=\"background:#eef6ff; padding:2px; margin:1px; border-radius:3px; font-family:monospace;\">␠It</span> <span style=\"background:#f7f7ff; padding:2px; margin:1px; border-radius:3px; font-family:monospace;\">'s</span> <span style=\"background:#eef6ff; padding:2px; margin:1px; border-radius:3px; font-family:monospace;\">␠about</span> <span style=\"background:#f7f7ff; padding:2px; margin:1px; border-radius:3px; font-family:monospace;\">␠to</span> <span style=\"background:#eef6ff; padding:2px; margin:1px; border-radius:3px; font-family:monospace;\">␠get</span> <span style=\"background:#f7f7ff; padding:2px; margin:1px; border-radius:3px; font-family:monospace;\">␠far</span> <span style=\"background:#eef6ff; padding:2px; margin:1px; border-radius:3px; font-family:monospace;\">␠creep</span> <span style=\"background:#f7f7ff; padding:2px; margin:1px; border-radius:3px; font-family:monospace;\">ier</span> <span style=\"background:#eef6ff; padding:2px; margin:1px; border-radius:3px; font-family:monospace;\">␠Hip</span> <span style=\"background:#f7f7ff; padding:2px; margin:1px; border-radius:3px; font-family:monospace;\">␠Hop</span> <span style=\"background:#eef6ff; padding:2px; margin:1px; border-radius:3px; font-family:monospace;\">'s</span> <span style=\"background:#f7f7ff; padding:2px; margin:1px; border-radius:3px; font-family:monospace;\">␠Online</span> <span style=\"background:#eef6ff; padding:2px; margin:1px; border-radius:3px; font-family:monospace;\">␠Shop</span> <span style=\"background:#f7f7ff; padding:2px; margin:1px; border-radius:3px; font-family:monospace;\">␠Celebrity</span> <span style=\"background:#eef6ff; padding:2px; margin:1px; border-radius:3px; font-family:monospace;\">␠fashion</span> <span style=\"background:#f7f7ff; padding:2px; margin:1px; border-radius:3px; font-family:monospace;\">␠is</span> <span style=\"background:#eef6ff; padding:2px; margin:1px; border-radius:3px; font-family:monospace;\">␠booming</span> <span style=\"background:#f7f7ff; padding:2px; margin:1px; border-radius:3px; font-family:monospace;\">.</span> <span style=\"background:#eef6ff; padding:2px; margin:1px; border-radius:3px; font-family:monospace;\">␠These</span> <span style=\"background:#f7f7ff; padding:2px; margin:1px; border-radius:3px; font-family:monospace;\">␠web</span> <span style=\"background:#eef6ff; padding:2px; margin:1px; border-radius:3px; font-family:monospace;\">pre</span> <span style=\"background:#f7f7ff; padding:2px; margin:1px; border-radius:3px; font-family:monospace;\">ne</span> <span style=\"background:#eef6ff; padding:2px; margin:1px; border-radius:3px; font-family:monospace;\">urs</span> <span style=\"background:#f7f7ff; padding:2px; margin:1px; border-radius:3px; font-family:monospace;\">␠are</span> <span style=\"background:#eef6ff; padding:2px; margin:1px; border-radius:3px; font-family:monospace;\">␠bringing</span> <span style=\"background:#f7f7ff; padding:2px; margin:1px; border-radius:3px; font-family:monospace;\">␠it</span> <span style=\"background:#eef6ff; padding:2px; margin:1px; border-radius:3px; font-family:monospace;\">␠to</span> <span style=\"background:#f7f7ff; padding:2px; margin:1px; border-radius:3px; font-family:monospace;\">␠main</span> <span style=\"background:#eef6ff; padding:2px; margin:1px; border-radius:3px; font-family:monospace;\">␠street</span> <span style=\"background:#f7f7ff; padding:2px; margin:1px; border-radius:3px; font-family:monospace;\">␠St</span> <span style=\"background:#eef6ff; padding:2px; margin:1px; border-radius:3px; font-family:monospace;\">oking</span> <span style=\"background:#f7f7ff; padding:2px; margin:1px; border-radius:3px; font-family:monospace;\">␠the</span> <span style=\"background:#eef6ff; padding:2px; margin:1px; border-radius:3px; font-family:monospace;\">␠Steam</span> <span style=\"background:#f7f7ff; padding:2px; margin:1px; border-radius:3px; font-family:monospace;\">roller</span> <span style=\"background:#eef6ff; padding:2px; margin:1px; border-radius:3px; font-family:monospace;\">␠No</span> <span style=\"background:#f7f7ff; padding:2px; margin:1px; border-radius:3px; font-family:monospace;\">␠other</span> <span style=\"background:#eef6ff; padding:2px; margin:1px; border-radius:3px; font-family:monospace;\">␠recording</span> <span style=\"background:#f7f7ff; padding:2px; margin:1px; border-radius:3px; font-family:monospace;\">␠artist</span> <span style=\"background:#eef6ff; padding:2px; margin:1px; border-radius:3px; font-family:monospace;\">␠can</span> <span style=\"background:#f7f7ff; padding:2px; margin:1px; border-radius:3px; font-family:monospace;\">␠channel</span> <span style=\"background:#eef6ff; padding:2px; margin:1px; border-radius:3px; font-family:monospace;\">␠American</span> <span style=\"background:#f7f7ff; padding:2px; margin:1px; border-radius:3px; font-family:monospace;\">␠middle</span> <span style=\"background:#eef6ff; padding:2px; margin:1px; border-radius:3px; font-family:monospace;\">-</span> <span style=\"background:#f7f7ff; padding:2px; margin:1px; border-radius:3px; font-family:monospace;\">class</span> <span style=\"background:#eef6ff; padding:2px; margin:1px; border-radius:3px; font-family:monospace;\">␠tastes</span> <span style=\"background:#f7f7ff; padding:2px; margin:1px; border-radius:3px; font-family:monospace;\">␠quite</span> <span style=\"background:#eef6ff; padding:2px; margin:1px; border-radius:3px; font-family:monospace;\">␠like</span> <span style=\"background:#f7f7ff; padding:2px; margin:1px; border-radius:3px; font-family:monospace;\">␠Chip</span> <span style=\"background:#eef6ff; padding:2px; margin:1px; border-radius:3px; font-family:monospace;\">␠Davis</span> <span style=\"background:#f7f7ff; padding:2px; margin:1px; border-radius:3px; font-family:monospace;\">␠and</span> <span style=\"background:#eef6ff; padding:2px; margin:1px; border-radius:3px; font-family:monospace;\">␠his</span> <span style=\"background:#f7f7ff; padding:2px; margin:1px; border-radius:3px; font-family:monospace;\">␠best</span> <span style=\"background:#eef6ff; padding:2px; margin:1px; border-radius:3px; font-family:monospace;\">-</span> <span style=\"background:#f7f7ff; padding:2px; margin:1px; border-radius:3px; font-family:monospace;\">selling</span> <span style=\"background:#eef6ff; padding:2px; margin:1px; border-radius:3px; font-family:monospace;\">␠band</span> <span style=\"background:#f7f7ff; padding:2px; margin:1px; border-radius:3px; font-family:monospace;\">␠Coming</span> <span style=\"background:#eef6ff; padding:2px; margin:1px; border-radius:3px; font-family:monospace;\">␠to</span> <span style=\"background:#f7f7ff; padding:2px; margin:1px; border-radius:3px; font-family:monospace;\">␠The</span> <span style=\"background:#eef6ff; padding:2px; margin:1px; border-radius:3px; font-family:monospace;\">␠Rescue</span> <span style=\"background:#f7f7ff; padding:2px; margin:1px; border-radius:3px; font-family:monospace;\">␠Got</span> <span style=\"background:#eef6ff; padding:2px; margin:1px; border-radius:3px; font-family:monospace;\">␠a</span> <span style=\"background:#f7f7ff; padding:2px; margin:1px; border-radius:3px; font-family:monospace;\">␠unique</span> <span style=\"background:#eef6ff; padding:2px; margin:1px; border-radius:3px; font-family:monospace;\">␠problem</span> <span style=\"background:#f7f7ff; padding:2px; margin:1px; border-radius:3px; font-family:monospace;\">?</span> <span style=\"background:#eef6ff; padding:2px; margin:1px; border-radius:3px; font-family:monospace;\">␠Not</span> <span style=\"background:#f7f7ff; padding:2px; margin:1px; border-radius:3px; font-family:monospace;\">␠to</span> <span style=\"background:#eef6ff; padding:2px; margin:1px; border-radius:3px; font-family:monospace;\">␠worry</span> <span style=\"background:#f7f7ff; padding:2px; margin:1px; border-radius:3px; font-family:monospace;\">:</span> <span style=\"background:#eef6ff; padding:2px; margin:1px; border-radius:3px; font-family:monospace;\">␠you</span> <span style=\"background:#f7f7ff; padding:2px; margin:1px; border-radius:3px; font-family:monospace;\">␠can</span> <span style=\"background:#eef6ff; padding:2px; margin:1px; border-radius:3px; font-family:monospace;\">␠find</span> <span style=\"background:#f7f7ff; padding:2px; margin:1px; border-radius:3px; font-family:monospace;\">␠a</span> <span style=\"background:#eef6ff; padding:2px; margin:1px; border-radius:3px; font-family:monospace;\">␠financial</span> <span style=\"background:#f7f7ff; padding:2px; margin:1px; border-radius:3px; font-family:monospace;\">␠planner</span> <span style=\"background:#eef6ff; padding:2px; margin:1px; border-radius:3px; font-family:monospace;\">␠for</span> <span style=\"background:#f7f7ff; padding:2px; margin:1px; border-radius:3px; font-family:monospace;\">␠every</span> <span style=\"background:#eef6ff; padding:2px; margin:1px; border-radius:3px; font-family:monospace;\">␠specialized</span> <span style=\"background:#f7f7ff; padding:2px; margin:1px; border-radius:3px; font-family:monospace;\">␠need</span> <span style=\"background:#eef6ff; padding:2px; margin:1px; border-radius:3px; font-family:monospace;\">␠The</span> <span style=\"background:#f7f7ff; padding:2px; margin:1px; border-radius:3px; font-family:monospace;\">␠New</span> <span style=\"background:#eef6ff; padding:2px; margin:1px; border-radius:3px; font-family:monospace;\">␠Customers</span> <span style=\"background:#f7f7ff; padding:2px; margin:1px; border-radius:3px; font-family:monospace;\">␠Are</span> <span style=\"background:#eef6ff; padding:2px; margin:1px; border-radius:3px; font-family:monospace;\">␠In</span> <span style=\"background:#f7f7ff; padding:2px; margin:1px; border-radius:3px; font-family:monospace;\">␠Town</span> <span style=\"background:#eef6ff; padding:2px; margin:1px; border-radius:3px; font-family:monospace;\">␠Today</span> <span style=\"background:#f7f7ff; padding:2px; margin:1px; border-radius:3px; font-family:monospace;\">'s</span> <span style=\"background:#eef6ff; padding:2px; margin:1px; border-radius:3px; font-family:monospace;\">␠customers</span> <span style=\"background:#f7f7ff; padding:2px; margin:1px; border-radius:3px; font-family:monospace;\">␠are</span> <span style=\"background:#eef6ff; padding:2px; margin:1px; border-radius:3px; font-family:monospace;\">␠increasingly</span> <span style=\"background:#f7f7ff; padding:2px; margin:1px; border-radius:3px; font-family:monospace;\">␠demanding</span> <span style=\"background:#eef6ff; padding:2px; margin:1px; border-radius:3px; font-family:monospace;\">,</span> <span style=\"background:#f7f7ff; padding:2px; margin:1px; border-radius:3px; font-family:monospace;\">␠in</span> <span style=\"background:#eef6ff; padding:2px; margin:1px; border-radius:3px; font-family:monospace;\">␠Asia</span> <span style=\"background:#f7f7ff; padding:2px; margin:1px; border-radius:3px; font-family:monospace;\">␠as</span> <span style=\"background:#eef6ff; padding:2px; margin:1px; border-radius:3px; font-family:monospace;\">␠elsewhere</span> <span style=\"background:#f7f7ff; padding:2px; margin:1px; border-radius:3px; font-family:monospace;\">␠in</span> <span style=\"background:#eef6ff; padding:2px; margin:1px; border-radius:3px; font-family:monospace;\">␠the</span> <span style=\"background:#f7f7ff; padding:2px; margin:1px; border-radius:3px; font-family:monospace;\">␠world</span> <span style=\"background:#eef6ff; padding:2px; margin:1px; border-radius:3px; font-family:monospace;\">.</span> <span style=\"background:#f7f7ff; padding:2px; margin:1px; border-radius:3px; font-family:monospace;\">␠</span> <span style=\"background:#eef6ff; padding:2px; margin:1px; border-radius:3px; font-family:monospace;\">␠Henry</span> <span style=\"background:#f7f7ff; padding:2px; margin:1px; border-radius:3px; font-family:monospace;\">␠Ast</span> <span style=\"background:#eef6ff; padding:2px; margin:1px; border-radius:3px; font-family:monospace;\">org</span> <span style=\"background:#f7f7ff; padding:2px; margin:1px; border-radius:3px; font-family:monospace;\">a</span> <span style=\"background:#eef6ff; padding:2px; margin:1px; border-radius:3px; font-family:monospace;\">␠describes</span> <span style=\"background:#f7f7ff; padding:2px; margin:1px; border-radius:3px; font-family:monospace;\">␠the</span> <span style=\"background:#eef6ff; padding:2px; margin:1px; border-radius:3px; font-family:monospace;\">␠complex</span> <span style=\"background:#f7f7ff; padding:2px; margin:1px; border-radius:3px; font-family:monospace;\">␠reality</span> <span style=\"background:#eef6ff; padding:2px; margin:1px; border-radius:3px; font-family:monospace;\">␠faced</span> <span style=\"background:#f7f7ff; padding:2px; margin:1px; border-radius:3px; font-family:monospace;\">␠by</span> <span style=\"background:#eef6ff; padding:2px; margin:1px; border-radius:3px; font-family:monospace;\">␠today</span> <span style=\"background:#f7f7ff; padding:2px; margin:1px; border-radius:3px; font-family:monospace;\">'s</span> <span style=\"background:#eef6ff; padding:2px; margin:1px; border-radius:3px; font-family:monospace;\">␠marketers</span> <span style=\"background:#f7f7ff; padding:2px; margin:1px; border-radius:3px; font-family:monospace;\">,</span> <span style=\"background:#eef6ff; padding:2px; margin:1px; border-radius:3px; font-family:monospace;\">␠which</span> <span style=\"background:#f7f7ff; padding:2px; margin:1px; border-radius:3px; font-family:monospace;\">␠includes</span> <span style=\"background:#eef6ff; padding:2px; margin:1px; border-radius:3px; font-family:monospace;\">␠much</span> <span style=\"background:#f7f7ff; padding:2px; margin:1px; border-radius:3px; font-family:monospace;\">␠higher</span> <span style=\"background:#eef6ff; padding:2px; margin:1px; border-radius:3px; font-family:monospace;\">␠expectations</span> <span style=\"background:#f7f7ff; padding:2px; margin:1px; border-radius:3px; font-family:monospace;\">␠than</span> <span style=\"background:#eef6ff; padding:2px; margin:1px; border-radius:3px; font-family:monospace;\">␠we</span> <span style=\"background:#f7f7ff; padding:2px; margin:1px; border-radius:3px; font-family:monospace;\">␠have</span> <span style=\"background:#eef6ff; padding:2px; margin:1px; border-radius:3px; font-family:monospace;\">␠been</span> <span style=\"background:#f7f7ff; padding:2px; margin:1px; border-radius:3px; font-family:monospace;\">␠used</span> <span style=\"background:#eef6ff; padding:2px; margin:1px; border-radius:3px; font-family:monospace;\">␠to</span> <span style=\"background:#f7f7ff; padding:2px; margin:1px; border-radius:3px; font-family:monospace;\">.</span> <span style=\"background:#eef6ff; padding:2px; margin:1px; border-radius:3px; font-family:monospace;\">␠</span> <span style=\"background:#f7f7ff; padding:2px; margin:1px; border-radius:3px; font-family:monospace;\">␠Today</span> <span style=\"background:#eef6ff; padding:2px; margin:1px; border-radius:3px; font-family:monospace;\">'s</span> <span style=\"background:#f7f7ff; padding:2px; margin:1px; border-radius:3px; font-family:monospace;\">␠customers</span> <span style=\"background:#eef6ff; padding:2px; margin:1px; border-radius:3px; font-family:monospace;\">␠want</span> <span style=\"background:#f7f7ff; padding:2px; margin:1px; border-radius:3px; font-family:monospace;\">␠performance</span> <span style=\"background:#eef6ff; padding:2px; margin:1px; border-radius:3px; font-family:monospace;\">,</span> <span style=\"background:#f7f7ff; padding:2px; margin:1px; border-radius:3px; font-family:monospace;\">␠and</span> <span style=\"background:#eef6ff; padding:2px; margin:1px; border-radius:3px; font-family:monospace;\">␠they</span> <span style=\"background:#f7f7ff; padding:2px; margin:1px; border-radius:3px; font-family:monospace;\">␠want</span> <span style=\"background:#eef6ff; padding:2px; margin:1px; border-radius:3px; font-family:monospace;\">␠it</span> <span style=\"background:#f7f7ff; padding:2px; margin:1px; border-radius:3px; font-family:monospace;\">␠now</span> <span style=\"background:#eef6ff; padding:2px; margin:1px; border-radius:3px; font-family:monospace;\">!</span> <span style=\"background:#f7f7ff; padding:2px; margin:1px; border-radius:3px; font-family:monospace;\">␠</span> <span style=\"background:#eef6ff; padding:2px; margin:1px; border-radius:3px; font-family:monospace;\">␠Barrel</span> <span style=\"background:#f7f7ff; padding:2px; margin:1px; border-radius:3px; font-family:monospace;\">␠of</span> <span style=\"background:#eef6ff; padding:2px; margin:1px; border-radius:3px; font-family:monospace;\">␠Mon</span> <span style=\"background:#f7f7ff; padding:2px; margin:1px; border-radius:3px; font-family:monospace;\">keys</span> <span style=\"background:#eef6ff; padding:2px; margin:1px; border-radius:3px; font-family:monospace;\">,</span> <span style=\"background:#f7f7ff; padding:2px; margin:1px; border-radius:3px; font-family:monospace;\">␠2004</span> <span style=\"background:#eef6ff; padding:2px; margin:1px; border-radius:3px; font-family:monospace;\">␠Edition</span> <span style=\"background:#f7f7ff; padding:2px; margin:1px; border-radius:3px; font-family:monospace;\">:</span> <span style=\"background:#eef6ff; padding:2px; margin:1px; border-radius:3px; font-family:monospace;\">␠Notes</span> <span style=\"background:#f7f7ff; padding:2px; margin:1px; border-radius:3px; font-family:monospace;\">␠on</span> <span style=\"background:#eef6ff; padding:2px; margin:1px; border-radius:3px; font-family:monospace;\">␠Philippine</span> <span style=\"background:#f7f7ff; padding:2px; margin:1px; border-radius:3px; font-family:monospace;\">␠Elections</span> <span style=\"background:#eef6ff; padding:2px; margin:1px; border-radius:3px; font-family:monospace;\">␠Well</span> <span style=\"background:#f7f7ff; padding:2px; margin:1px; border-radius:3px; font-family:monospace;\">,</span> <span style=\"background:#eef6ff; padding:2px; margin:1px; border-radius:3px; font-family:monospace;\">␠it</span> <span style=\"background:#f7f7ff; padding:2px; margin:1px; border-radius:3px; font-family:monospace;\">'s</span> <span style=\"background:#eef6ff; padding:2px; margin:1px; border-radius:3px; font-family:monospace;\">␠election</span> <span style=\"background:#f7f7ff; padding:2px; margin:1px; border-radius:3px; font-family:monospace;\">␠time</span> <span style=\"background:#eef6ff; padding:2px; margin:1px; border-radius:3px; font-family:monospace;\">␠in</span> <span style=\"background:#f7f7ff; padding:2px; margin:1px; border-radius:3px; font-family:monospace;\">␠the</span> <span style=\"background:#eef6ff; padding:2px; margin:1px; border-radius:3px; font-family:monospace;\">␠Republic</span> <span style=\"background:#f7f7ff; padding:2px; margin:1px; border-radius:3px; font-family:monospace;\">␠of</span> <span style=\"background:#eef6ff; padding:2px; margin:1px; border-radius:3px; font-family:monospace;\">␠the</span> <span style=\"background:#f7f7ff; padding:2px; margin:1px; border-radius:3px; font-family:monospace;\">␠Philippines</span> <span style=\"background:#eef6ff; padding:2px; margin:1px; border-radius:3px; font-family:monospace;\">,</span> <span style=\"background:#f7f7ff; padding:2px; margin:1px; border-radius:3px; font-family:monospace;\">␠and</span> <span style=\"background:#eef6ff; padding:2px; margin:1px; border-radius:3px; font-family:monospace;\">␠that</span> <span style=\"background:#f7f7ff; padding:2px; margin:1px; border-radius:3px; font-family:monospace;\">␠means</span> <span style=\"background:#eef6ff; padding:2px; margin:1px; border-radius:3px; font-family:monospace;\">␠the</span> <span style=\"background:#f7f7ff; padding:2px; margin:1px; border-radius:3px; font-family:monospace;\">␠monkeys</span> <span style=\"background:#eef6ff; padding:2px; margin:1px; border-radius:3px; font-family:monospace;\">␠are</span> <span style=\"background:#f7f7ff; padding:2px; margin:1px; border-radius:3px; font-family:monospace;\">␠rolling</span> <span style=\"background:#eef6ff; padding:2px; margin:1px; border-radius:3px; font-family:monospace;\">␠around</span> <span style=\"background:#f7f7ff; padding:2px; margin:1px; border-radius:3px; font-family:monospace;\">␠in</span> <span style=\"background:#eef6ff; padding:2px; margin:1px; border-radius:3px; font-family:monospace;\">␠those</span> <span style=\"background:#f7f7ff; padding:2px; margin:1px; border-radius:3px; font-family:monospace;\">␠political</span> <span style=\"background:#eef6ff; padding:2px; margin:1px; border-radius:3px; font-family:monospace;\">␠barrels</span> <span style=\"background:#f7f7ff; padding:2px; margin:1px; border-radius:3px; font-family:monospace;\">,</span> <span style=\"background:#eef6ff; padding:2px; margin:1px; border-radius:3px; font-family:monospace;\">␠having</span> <span style=\"background:#f7f7ff; padding:2px; margin:1px; border-radius:3px; font-family:monospace;\">␠as</span> <span style=\"background:#eef6ff; padding:2px; margin:1px; border-radius:3px; font-family:monospace;\">␠much</span> <span style=\"background:#f7f7ff; padding:2px; margin:1px; border-radius:3px; font-family:monospace;\">␠fun</span> <span style=\"background:#eef6ff; padding:2px; margin:1px; border-radius:3px; font-family:monospace;\">␠as</span> <span style=\"background:#f7f7ff; padding:2px; margin:1px; border-radius:3px; font-family:monospace;\">␠they</span> <span style=\"background:#eef6ff; padding:2px; margin:1px; border-radius:3px; font-family:monospace;\">␠can</span> <span style=\"background:#f7f7ff; padding:2px; margin:1px; border-radius:3px; font-family:monospace;\">␠while</span> <span style=\"background:#eef6ff; padding:2px; margin:1px; border-radius:3px; font-family:monospace;\">␠laughing</span> <span style=\"background:#f7f7ff; padding:2px; margin:1px; border-radius:3px; font-family:monospace;\">␠their</span> <span style=\"background:#eef6ff; padding:2px; margin:1px; border-radius:3px; font-family:monospace;\">␠heads</span> <span style=\"background:#f7f7ff; padding:2px; margin:1px; border-radius:3px; font-family:monospace;\">␠off</span> <span style=\"background:#eef6ff; padding:2px; margin:1px; border-radius:3px; font-family:monospace;\">␠at</span> <span style=\"background:#f7f7ff; padding:2px; margin:1px; border-radius:3px; font-family:monospace;\">␠the</span> <span style=\"background:#eef6ff; padding:2px; margin:1px; border-radius:3px; font-family:monospace;\">␠strange</span> <span style=\"background:#f7f7ff; padding:2px; margin:1px; border-radius:3px; font-family:monospace;\">␠go</span> <span style=\"background:#eef6ff; padding:2px; margin:1px; border-radius:3px; font-family:monospace;\">ings</span> <span style=\"background:#f7f7ff; padding:2px; margin:1px; border-radius:3px; font-family:monospace;\">-</span> <span style=\"background:#eef6ff; padding:2px; margin:1px; border-radius:3px; font-family:monospace;\">on</span> <span style=\"background:#f7f7ff; padding:2px; margin:1px; border-radius:3px; font-family:monospace;\">␠that</span> <span style=\"background:#eef6ff; padding:2px; margin:1px; border-radius:3px; font-family:monospace;\">␠characterize</span> <span style=\"background:#f7f7ff; padding:2px; margin:1px; border-radius:3px; font-family:monospace;\">␠a</span> <span style=\"background:#eef6ff; padding:2px; margin:1px; border-radius:3px; font-family:monospace;\">␠democratic</span> <span style=\"background:#f7f7ff; padding:2px; margin:1px; border-radius:3px; font-family:monospace;\">␠process</span> <span style=\"background:#eef6ff; padding:2px; margin:1px; border-radius:3px; font-family:monospace;\">␠loosely</span> <span style=\"background:#f7f7ff; padding:2px; margin:1px; border-radius:3px; font-family:monospace;\">␠based</span> <span style=\"background:#eef6ff; padding:2px; margin:1px; border-radius:3px; font-family:monospace;\">␠on</span> <span style=\"background:#f7f7ff; padding:2px; margin:1px; border-radius:3px; font-family:monospace;\">␠the</span> <span style=\"background:#eef6ff; padding:2px; margin:1px; border-radius:3px; font-family:monospace;\">␠American</span> <span style=\"background:#f7f7ff; padding:2px; margin:1px; border-radius:3px; font-family:monospace;\">␠model</span> <span style=\"background:#eef6ff; padding:2px; margin:1px; border-radius:3px; font-family:monospace;\">␠</span> <span style=\"background:#f7f7ff; padding:2px; margin:1px; border-radius:3px; font-family:monospace;\">␠but</span> <span style=\"background:#eef6ff; padding:2px; margin:1px; border-radius:3px; font-family:monospace;\">␠that</span> <span style=\"background:#f7f7ff; padding:2px; margin:1px; border-radius:3px; font-family:monospace;\">␠de</span> <span style=\"background:#eef6ff; padding:2px; margin:1px; border-radius:3px; font-family:monospace;\">␠facto</span> <span style=\"background:#f7f7ff; padding:2px; margin:1px; border-radius:3px; font-family:monospace;\">␠looks</span> <span style=\"background:#eef6ff; padding:2px; margin:1px; border-radius:3px; font-family:monospace;\">␠more</span> <span style=\"background:#f7f7ff; padding:2px; margin:1px; border-radius:3px; font-family:monospace;\">␠like</span> <span style=\"background:#eef6ff; padding:2px; margin:1px; border-radius:3px; font-family:monospace;\">␠a</span> <span style=\"background:#f7f7ff; padding:2px; margin:1px; border-radius:3px; font-family:monospace;\">␠Fell</span> <span style=\"background:#eef6ff; padding:2px; margin:1px; border-radius:3px; font-family:monospace;\">ini</span> <span style=\"background:#f7f7ff; padding:2px; margin:1px; border-radius:3px; font-family:monospace;\">␠movie</span> <span style=\"background:#eef6ff; padding:2px; margin:1px; border-radius:3px; font-family:monospace;\">␠crossed</span> <span style=\"background:#f7f7ff; padding:2px; margin:1px; border-radius:3px; font-family:monospace;\">␠with</span> <span style=\"background:#eef6ff; padding:2px; margin:1px; border-radius:3px; font-family:monospace;\">␠a</span> <span style=\"background:#f7f7ff; padding:2px; margin:1px; border-radius:3px; font-family:monospace;\">␠Tom</span> <span style=\"background:#eef6ff; padding:2px; margin:1px; border-radius:3px; font-family:monospace;\">␠and</span> <span style=\"background:#f7f7ff; padding:2px; margin:1px; border-radius:3px; font-family:monospace;\">␠Jerry</span> <span style=\"background:#eef6ff; padding:2px; margin:1px; border-radius:3px; font-family:monospace;\">␠cartoon</span> <span style=\"background:#f7f7ff; padding:2px; margin:1px; border-radius:3px; font-family:monospace;\">␠-</span> <span style=\"background:#eef6ff; padding:2px; margin:1px; border-radius:3px; font-family:monospace;\">␠column</span> <span style=\"background:#f7f7ff; padding:2px; margin:1px; border-radius:3px; font-family:monospace;\">␠includes</span> <span style=\"background:#eef6ff; padding:2px; margin:1px; border-radius:3px; font-family:monospace;\">␠a</span> <span style=\"background:#f7f7ff; padding:2px; margin:1px; border-radius:3px; font-family:monospace;\">␠useful</span> <span style=\"background:#eef6ff; padding:2px; margin:1px; border-radius:3px; font-family:monospace;\">␠election</span> <span style=\"background:#f7f7ff; padding:2px; margin:1px; border-radius:3px; font-family:monospace;\">-</span> <span style=\"background:#eef6ff; padding:2px; margin:1px; border-radius:3px; font-family:monospace;\">year</span> <span style=\"background:#f7f7ff; padding:2px; margin:1px; border-radius:3px; font-family:monospace;\">␠gloss</span> <span style=\"background:#eef6ff; padding:2px; margin:1px; border-radius:3px; font-family:monospace;\">ary</span> <span style=\"background:#f7f7ff; padding:2px; margin:1px; border-radius:3px; font-family:monospace;\">!</span></div><div style='margin-top:6px; font-family:monospace;'>count = 380</div>"
      ],
      "text/plain": [
       "<IPython.core.display.HTML object>"
      ]
     },
     "metadata": {},
     "output_type": "display_data"
    }
   ],
   "source": [
    "# 1) Data: a few longer texts to make tokenization visible\n",
    "ds = load_dataset(\"ag_news\", split=\"train[:200]\")\n",
    "texts = [row[\"text\"] for row in ds]\n",
    "\n",
    "examples = {\n",
    "    \"short\":  texts[5],\n",
    "    \"medium\": \" \".join(texts[20:22]),\n",
    "    \"long\":   \" \".join(texts[50:60]),\n",
    "}\n",
    "\n",
    "# 2) Tokenizers to compare\n",
    "model_names = [\n",
    "    \"gpt2\",                # byte-level BPE (Ġ = leading space)\n",
    "    \"bert-base-uncased\",   # WordPiece (## = continuation)\n",
    "    \"distilroberta-base\",  # BPE (similar to RoBERTa; shows Ġ/▁ depending on vocab)\n",
    "]\n",
    "\n",
    "tokenizers = {m: AutoTokenizer.from_pretrained(m, use_fast=True) for m in model_names}\n",
    "\n",
    "# 3) Helpers to prettify and color tokens\n",
    "def prettify_tokens(model_name, toks):\n",
    "    if \"gpt2\" in model_name or \"roberta\" in model_name:\n",
    "        # Show word boundaries explicitly; do not alter token boundaries\n",
    "        return [t.replace(\"Ġ\", \"␠\").replace(\"▁\", \"␠\") for t in toks]\n",
    "    # Keep BERT's '##' to illustrate subword continuation\n",
    "    return toks\n",
    "\n",
    "def colorize_tokens(tokens):\n",
    "    colors = [\"#eef6ff\", \"#f7f7ff\"]\n",
    "    spans = []\n",
    "    for i, t in enumerate(tokens):\n",
    "        spans.append(\n",
    "            f'<span style=\"background:{colors[i%2]}; padding:2px; margin:1px; '\n",
    "            f'border-radius:3px; font-family:monospace;\">{t}</span>'\n",
    "        )\n",
    "    return \" \".join(spans)\n",
    "\n",
    "def show_tokenization(model_name, text):\n",
    "    tok = tokenizers[model_name]\n",
    "    ids = tok.encode(text, add_special_tokens=False)\n",
    "    toks = tok.convert_ids_to_tokens(ids)\n",
    "    pretty = prettify_tokens(model_name, toks)\n",
    "    html = (\n",
    "        f\"<h4>{model_name}</h4>\"\n",
    "        f\"<div style='font-family:system-ui; margin-bottom:6px;'><b>Tokens:</b></div>\"\n",
    "        f\"<div>{colorize_tokens(pretty)}</div>\"\n",
    "        f\"<div style='margin-top:6px; font-family:monospace;'>count = {len(toks)}</div>\"\n",
    "    )\n",
    "    return html, toks, ids\n",
    "\n",
    "# 4) Display: original text + per-model token view\n",
    "for label, text in examples.items():\n",
    "    display(HTML(f\"<h3>Example: {label}</h3><p style='line-height:1.4'>{text}</p>\"))\n",
    "    for m in model_names:\n",
    "        html, toks, ids = show_tokenization(m, text)\n",
    "        display(HTML(html))"
   ]
  },
  {
   "cell_type": "markdown",
   "metadata": {},
   "source": [
    "Let us see how the number of tokens depends on the model with a more detailed study. "
   ]
  },
  {
   "cell_type": "code",
   "execution_count": 10,
   "metadata": {},
   "outputs": [
    {
     "name": "stderr",
     "output_type": "stream",
     "text": [
      "'(ReadTimeoutError(\"HTTPSConnectionPool(host='huggingface.co', port=443): Read timed out. (read timeout=10)\"), '(Request ID: 6fea1c84-6caa-4126-9bd5-4a19eed126c0)')' thrown while requesting HEAD https://huggingface.co/datasets/ag_news/resolve/main/README.md\n",
      "Retrying in 1s [Retry 1/5].\n"
     ]
    },
    {
     "data": {
      "application/vnd.plotly.v1+json": {
       "config": {
        "plotlyServerURL": "https://plot.ly"
       },
       "data": [
        {
         "bingroup": "x",
         "hovertemplate": "model=bert-base-uncased<br>tokens=%{x}<br>count=%{y}<extra></extra>",
         "legendgroup": "bert-base-uncased",
         "marker": {
          "color": "#636efa",
          "opacity": 0.5,
          "pattern": {
           "shape": ""
          }
         },
         "name": "bert-base-uncased",
         "nbinsx": 40,
         "orientation": "v",
         "showlegend": true,
         "type": "histogram",
         "x": {
          "bdata": "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",
          "dtype": "i2"
         },
         "xaxis": "x",
         "yaxis": "y"
        },
        {
         "bingroup": "x",
         "hovertemplate": "model=gpt2<br>tokens=%{x}<br>count=%{y}<extra></extra>",
         "legendgroup": "gpt2",
         "marker": {
          "color": "#EF553B",
          "opacity": 0.5,
          "pattern": {
           "shape": ""
          }
         },
         "name": "gpt2",
         "nbinsx": 40,
         "orientation": "v",
         "showlegend": true,
         "type": "histogram",
         "x": {
          "bdata": "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",
          "dtype": "i2"
         },
         "xaxis": "x",
         "yaxis": "y"
        },
        {
         "bingroup": "x",
         "hovertemplate": "model=distilroberta-base<br>tokens=%{x}<br>count=%{y}<extra></extra>",
         "legendgroup": "distilroberta-base",
         "marker": {
          "color": "#00cc96",
          "opacity": 0.5,
          "pattern": {
           "shape": ""
          }
         },
         "name": "distilroberta-base",
         "nbinsx": 40,
         "orientation": "v",
         "showlegend": true,
         "type": "histogram",
         "x": {
          "bdata": "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",
          "dtype": "i2"
         },
         "xaxis": "x",
         "yaxis": "y"
        }
       ],
       "layout": {
        "bargap": 0.05,
        "barmode": "overlay",
        "legend": {
         "title": {
          "text": "model"
         },
         "tracegroupgap": 0
        },
        "template": {
         "data": {
          "bar": [
           {
            "error_x": {
             "color": "#2a3f5f"
            },
            "error_y": {
             "color": "#2a3f5f"
            },
            "marker": {
             "line": {
              "color": "#E5ECF6",
              "width": 0.5
             },
             "pattern": {
              "fillmode": "overlay",
              "size": 10,
              "solidity": 0.2
             }
            },
            "type": "bar"
           }
          ],
          "barpolar": [
           {
            "marker": {
             "line": {
              "color": "#E5ECF6",
              "width": 0.5
             },
             "pattern": {
              "fillmode": "overlay",
              "size": 10,
              "solidity": 0.2
             }
            },
            "type": "barpolar"
           }
          ],
          "carpet": [
           {
            "aaxis": {
             "endlinecolor": "#2a3f5f",
             "gridcolor": "white",
             "linecolor": "white",
             "minorgridcolor": "white",
             "startlinecolor": "#2a3f5f"
            },
            "baxis": {
             "endlinecolor": "#2a3f5f",
             "gridcolor": "white",
             "linecolor": "white",
             "minorgridcolor": "white",
             "startlinecolor": "#2a3f5f"
            },
            "type": "carpet"
           }
          ],
          "choropleth": [
           {
            "colorbar": {
             "outlinewidth": 0,
             "ticks": ""
            },
            "type": "choropleth"
           }
          ],
          "contour": [
           {
            "colorbar": {
             "outlinewidth": 0,
             "ticks": ""
            },
            "colorscale": [
             [
              0,
              "#0d0887"
             ],
             [
              0.1111111111111111,
              "#46039f"
             ],
             [
              0.2222222222222222,
              "#7201a8"
             ],
             [
              0.3333333333333333,
              "#9c179e"
             ],
             [
              0.4444444444444444,
              "#bd3786"
             ],
             [
              0.5555555555555556,
              "#d8576b"
             ],
             [
              0.6666666666666666,
              "#ed7953"
             ],
             [
              0.7777777777777778,
              "#fb9f3a"
             ],
             [
              0.8888888888888888,
              "#fdca26"
             ],
             [
              1,
              "#f0f921"
             ]
            ],
            "type": "contour"
           }
          ],
          "contourcarpet": [
           {
            "colorbar": {
             "outlinewidth": 0,
             "ticks": ""
            },
            "type": "contourcarpet"
           }
          ],
          "heatmap": [
           {
            "colorbar": {
             "outlinewidth": 0,
             "ticks": ""
            },
            "colorscale": [
             [
              0,
              "#0d0887"
             ],
             [
              0.1111111111111111,
              "#46039f"
             ],
             [
              0.2222222222222222,
              "#7201a8"
             ],
             [
              0.3333333333333333,
              "#9c179e"
             ],
             [
              0.4444444444444444,
              "#bd3786"
             ],
             [
              0.5555555555555556,
              "#d8576b"
             ],
             [
              0.6666666666666666,
              "#ed7953"
             ],
             [
              0.7777777777777778,
              "#fb9f3a"
             ],
             [
              0.8888888888888888,
              "#fdca26"
             ],
             [
              1,
              "#f0f921"
             ]
            ],
            "type": "heatmap"
           }
          ],
          "histogram": [
           {
            "marker": {
             "pattern": {
              "fillmode": "overlay",
              "size": 10,
              "solidity": 0.2
             }
            },
            "type": "histogram"
           }
          ],
          "histogram2d": [
           {
            "colorbar": {
             "outlinewidth": 0,
             "ticks": ""
            },
            "colorscale": [
             [
              0,
              "#0d0887"
             ],
             [
              0.1111111111111111,
              "#46039f"
             ],
             [
              0.2222222222222222,
              "#7201a8"
             ],
             [
              0.3333333333333333,
              "#9c179e"
             ],
             [
              0.4444444444444444,
              "#bd3786"
             ],
             [
              0.5555555555555556,
              "#d8576b"
             ],
             [
              0.6666666666666666,
              "#ed7953"
             ],
             [
              0.7777777777777778,
              "#fb9f3a"
             ],
             [
              0.8888888888888888,
              "#fdca26"
             ],
             [
              1,
              "#f0f921"
             ]
            ],
            "type": "histogram2d"
           }
          ],
          "histogram2dcontour": [
           {
            "colorbar": {
             "outlinewidth": 0,
             "ticks": ""
            },
            "colorscale": [
             [
              0,
              "#0d0887"
             ],
             [
              0.1111111111111111,
              "#46039f"
             ],
             [
              0.2222222222222222,
              "#7201a8"
             ],
             [
              0.3333333333333333,
              "#9c179e"
             ],
             [
              0.4444444444444444,
              "#bd3786"
             ],
             [
              0.5555555555555556,
              "#d8576b"
             ],
             [
              0.6666666666666666,
              "#ed7953"
             ],
             [
              0.7777777777777778,
              "#fb9f3a"
             ],
             [
              0.8888888888888888,
              "#fdca26"
             ],
             [
              1,
              "#f0f921"
             ]
            ],
            "type": "histogram2dcontour"
           }
          ],
          "mesh3d": [
           {
            "colorbar": {
             "outlinewidth": 0,
             "ticks": ""
            },
            "type": "mesh3d"
           }
          ],
          "parcoords": [
           {
            "line": {
             "colorbar": {
              "outlinewidth": 0,
              "ticks": ""
             }
            },
            "type": "parcoords"
           }
          ],
          "pie": [
           {
            "automargin": true,
            "type": "pie"
           }
          ],
          "scatter": [
           {
            "fillpattern": {
             "fillmode": "overlay",
             "size": 10,
             "solidity": 0.2
            },
            "type": "scatter"
           }
          ],
          "scatter3d": [
           {
            "line": {
             "colorbar": {
              "outlinewidth": 0,
              "ticks": ""
             }
            },
            "marker": {
             "colorbar": {
              "outlinewidth": 0,
              "ticks": ""
             }
            },
            "type": "scatter3d"
           }
          ],
          "scattercarpet": [
           {
            "marker": {
             "colorbar": {
              "outlinewidth": 0,
              "ticks": ""
             }
            },
            "type": "scattercarpet"
           }
          ],
          "scattergeo": [
           {
            "marker": {
             "colorbar": {
              "outlinewidth": 0,
              "ticks": ""
             }
            },
            "type": "scattergeo"
           }
          ],
          "scattergl": [
           {
            "marker": {
             "colorbar": {
              "outlinewidth": 0,
              "ticks": ""
             }
            },
            "type": "scattergl"
           }
          ],
          "scattermap": [
           {
            "marker": {
             "colorbar": {
              "outlinewidth": 0,
              "ticks": ""
             }
            },
            "type": "scattermap"
           }
          ],
          "scattermapbox": [
           {
            "marker": {
             "colorbar": {
              "outlinewidth": 0,
              "ticks": ""
             }
            },
            "type": "scattermapbox"
           }
          ],
          "scatterpolar": [
           {
            "marker": {
             "colorbar": {
              "outlinewidth": 0,
              "ticks": ""
             }
            },
            "type": "scatterpolar"
           }
          ],
          "scatterpolargl": [
           {
            "marker": {
             "colorbar": {
              "outlinewidth": 0,
              "ticks": ""
             }
            },
            "type": "scatterpolargl"
           }
          ],
          "scatterternary": [
           {
            "marker": {
             "colorbar": {
              "outlinewidth": 0,
              "ticks": ""
             }
            },
            "type": "scatterternary"
           }
          ],
          "surface": [
           {
            "colorbar": {
             "outlinewidth": 0,
             "ticks": ""
            },
            "colorscale": [
             [
              0,
              "#0d0887"
             ],
             [
              0.1111111111111111,
              "#46039f"
             ],
             [
              0.2222222222222222,
              "#7201a8"
             ],
             [
              0.3333333333333333,
              "#9c179e"
             ],
             [
              0.4444444444444444,
              "#bd3786"
             ],
             [
              0.5555555555555556,
              "#d8576b"
             ],
             [
              0.6666666666666666,
              "#ed7953"
             ],
             [
              0.7777777777777778,
              "#fb9f3a"
             ],
             [
              0.8888888888888888,
              "#fdca26"
             ],
             [
              1,
              "#f0f921"
             ]
            ],
            "type": "surface"
           }
          ],
          "table": [
           {
            "cells": {
             "fill": {
              "color": "#EBF0F8"
             },
             "line": {
              "color": "white"
             }
            },
            "header": {
             "fill": {
              "color": "#C8D4E3"
             },
             "line": {
              "color": "white"
             }
            },
            "type": "table"
           }
          ]
         },
         "layout": {
          "annotationdefaults": {
           "arrowcolor": "#2a3f5f",
           "arrowhead": 0,
           "arrowwidth": 1
          },
          "autotypenumbers": "strict",
          "coloraxis": {
           "colorbar": {
            "outlinewidth": 0,
            "ticks": ""
           }
          },
          "colorscale": {
           "diverging": [
            [
             0,
             "#8e0152"
            ],
            [
             0.1,
             "#c51b7d"
            ],
            [
             0.2,
             "#de77ae"
            ],
            [
             0.3,
             "#f1b6da"
            ],
            [
             0.4,
             "#fde0ef"
            ],
            [
             0.5,
             "#f7f7f7"
            ],
            [
             0.6,
             "#e6f5d0"
            ],
            [
             0.7,
             "#b8e186"
            ],
            [
             0.8,
             "#7fbc41"
            ],
            [
             0.9,
             "#4d9221"
            ],
            [
             1,
             "#276419"
            ]
           ],
           "sequential": [
            [
             0,
             "#0d0887"
            ],
            [
             0.1111111111111111,
             "#46039f"
            ],
            [
             0.2222222222222222,
             "#7201a8"
            ],
            [
             0.3333333333333333,
             "#9c179e"
            ],
            [
             0.4444444444444444,
             "#bd3786"
            ],
            [
             0.5555555555555556,
             "#d8576b"
            ],
            [
             0.6666666666666666,
             "#ed7953"
            ],
            [
             0.7777777777777778,
             "#fb9f3a"
            ],
            [
             0.8888888888888888,
             "#fdca26"
            ],
            [
             1,
             "#f0f921"
            ]
           ],
           "sequentialminus": [
            [
             0,
             "#0d0887"
            ],
            [
             0.1111111111111111,
             "#46039f"
            ],
            [
             0.2222222222222222,
             "#7201a8"
            ],
            [
             0.3333333333333333,
             "#9c179e"
            ],
            [
             0.4444444444444444,
             "#bd3786"
            ],
            [
             0.5555555555555556,
             "#d8576b"
            ],
            [
             0.6666666666666666,
             "#ed7953"
            ],
            [
             0.7777777777777778,
             "#fb9f3a"
            ],
            [
             0.8888888888888888,
             "#fdca26"
            ],
            [
             1,
             "#f0f921"
            ]
           ]
          },
          "colorway": [
           "#636efa",
           "#EF553B",
           "#00cc96",
           "#ab63fa",
           "#FFA15A",
           "#19d3f3",
           "#FF6692",
           "#B6E880",
           "#FF97FF",
           "#FECB52"
          ],
          "font": {
           "color": "#2a3f5f"
          },
          "geo": {
           "bgcolor": "white",
           "lakecolor": "white",
           "landcolor": "#E5ECF6",
           "showlakes": true,
           "showland": true,
           "subunitcolor": "white"
          },
          "hoverlabel": {
           "align": "left"
          },
          "hovermode": "closest",
          "mapbox": {
           "style": "light"
          },
          "paper_bgcolor": "white",
          "plot_bgcolor": "#E5ECF6",
          "polar": {
           "angularaxis": {
            "gridcolor": "white",
            "linecolor": "white",
            "ticks": ""
           },
           "bgcolor": "#E5ECF6",
           "radialaxis": {
            "gridcolor": "white",
            "linecolor": "white",
            "ticks": ""
           }
          },
          "scene": {
           "xaxis": {
            "backgroundcolor": "#E5ECF6",
            "gridcolor": "white",
            "gridwidth": 2,
            "linecolor": "white",
            "showbackground": true,
            "ticks": "",
            "zerolinecolor": "white"
           },
           "yaxis": {
            "backgroundcolor": "#E5ECF6",
            "gridcolor": "white",
            "gridwidth": 2,
            "linecolor": "white",
            "showbackground": true,
            "ticks": "",
            "zerolinecolor": "white"
           },
           "zaxis": {
            "backgroundcolor": "#E5ECF6",
            "gridcolor": "white",
            "gridwidth": 2,
            "linecolor": "white",
            "showbackground": true,
            "ticks": "",
            "zerolinecolor": "white"
           }
          },
          "shapedefaults": {
           "line": {
            "color": "#2a3f5f"
           }
          },
          "ternary": {
           "aaxis": {
            "gridcolor": "white",
            "linecolor": "white",
            "ticks": ""
           },
           "baxis": {
            "gridcolor": "white",
            "linecolor": "white",
            "ticks": ""
           },
           "bgcolor": "#E5ECF6",
           "caxis": {
            "gridcolor": "white",
            "linecolor": "white",
            "ticks": ""
           }
          },
          "title": {
           "x": 0.05
          },
          "xaxis": {
           "automargin": true,
           "gridcolor": "white",
           "linecolor": "white",
           "ticks": "",
           "title": {
            "standoff": 15
           },
           "zerolinecolor": "white",
           "zerolinewidth": 2
          },
          "yaxis": {
           "automargin": true,
           "gridcolor": "white",
           "linecolor": "white",
           "ticks": "",
           "title": {
            "standoff": 15
           },
           "zerolinecolor": "white",
           "zerolinewidth": 2
          }
         }
        },
        "title": {
         "text": "Token count distribution across models"
        },
        "xaxis": {
         "anchor": "y",
         "domain": [
          0,
          1
         ],
         "title": {
          "text": "tokens"
         }
        },
        "yaxis": {
         "anchor": "x",
         "domain": [
          0,
          1
         ],
         "title": {
          "text": "count"
         }
        }
       }
      }
     },
     "metadata": {},
     "output_type": "display_data"
    }
   ],
   "source": [
    "# 1) Load 1000 short news articles (text field)\n",
    "texts = [row[\"text\"] for row in load_dataset(\"ag_news\", split=\"train[:1000]\")]\n",
    "\n",
    "# 2) Choose tokenizers to compare\n",
    "model_names = [\"bert-base-uncased\", \"gpt2\", \"distilroberta-base\"]\n",
    "\n",
    "# 3) Compute token lengths per text per model\n",
    "records = []\n",
    "for model in model_names:\n",
    "    tok = AutoTokenizer.from_pretrained(model)\n",
    "    lengths = [len(tok(t).input_ids) for t in texts]\n",
    "    for L in lengths:\n",
    "        records.append({\"model\": model, \"tokens\": L})\n",
    "\n",
    "# 4) Build dataframe for plotting\n",
    "df = pd.DataFrame(records)\n",
    "\n",
    "# 5) Plot histogram overlay\n",
    "fig = px.histogram(\n",
    "    df,\n",
    "    x=\"tokens\",\n",
    "    color=\"model\",\n",
    "    barmode=\"overlay\",\n",
    "    nbins=40,\n",
    "    title=\"Token count distribution across models\"\n",
    ")\n",
    "fig.update_layout(bargap=0.05)\n",
    "fig.show()"
   ]
  },
  {
   "cell_type": "markdown",
   "metadata": {},
   "source": [
    "## 4. Dense embeddings and neighbours\n",
    "\n",
    "Use a sentence-transformer to obtain normalized embeddings and inspect cosine similarities, replicating the lecture’s intuition about “word neighbours.”"
   ]
  },
  {
   "cell_type": "code",
   "execution_count": 14,
   "metadata": {},
   "outputs": [
    {
     "data": {
      "text/html": [
       "<div>\n",
       "<style scoped>\n",
       "    .dataframe tbody tr th:only-of-type {\n",
       "        vertical-align: middle;\n",
       "    }\n",
       "\n",
       "    .dataframe tbody tr th {\n",
       "        vertical-align: top;\n",
       "    }\n",
       "\n",
       "    .dataframe thead th {\n",
       "        text-align: right;\n",
       "    }\n",
       "</style>\n",
       "<table border=\"1\" class=\"dataframe\">\n",
       "  <thead>\n",
       "    <tr style=\"text-align: right;\">\n",
       "      <th></th>\n",
       "      <th>cats</th>\n",
       "      <th>dog</th>\n",
       "      <th>puppy</th>\n",
       "      <th>houses</th>\n",
       "      <th>apple</th>\n",
       "      <th>robot</th>\n",
       "      <th>drone</th>\n",
       "    </tr>\n",
       "  </thead>\n",
       "  <tbody>\n",
       "    <tr>\n",
       "      <th>cats</th>\n",
       "      <td>1.000000</td>\n",
       "      <td>0.567296</td>\n",
       "      <td>0.500536</td>\n",
       "      <td>0.427479</td>\n",
       "      <td>0.419561</td>\n",
       "      <td>0.354571</td>\n",
       "      <td>0.361582</td>\n",
       "    </tr>\n",
       "    <tr>\n",
       "      <th>dog</th>\n",
       "      <td>0.567296</td>\n",
       "      <td>1.000000</td>\n",
       "      <td>0.804006</td>\n",
       "      <td>0.282706</td>\n",
       "      <td>0.291755</td>\n",
       "      <td>0.393270</td>\n",
       "      <td>0.286490</td>\n",
       "    </tr>\n",
       "    <tr>\n",
       "      <th>puppy</th>\n",
       "      <td>0.500536</td>\n",
       "      <td>0.804006</td>\n",
       "      <td>1.000000</td>\n",
       "      <td>0.259854</td>\n",
       "      <td>0.289110</td>\n",
       "      <td>0.384000</td>\n",
       "      <td>0.335419</td>\n",
       "    </tr>\n",
       "    <tr>\n",
       "      <th>houses</th>\n",
       "      <td>0.427479</td>\n",
       "      <td>0.282706</td>\n",
       "      <td>0.259854</td>\n",
       "      <td>1.000000</td>\n",
       "      <td>0.262746</td>\n",
       "      <td>0.300512</td>\n",
       "      <td>0.310244</td>\n",
       "    </tr>\n",
       "    <tr>\n",
       "      <th>apple</th>\n",
       "      <td>0.419561</td>\n",
       "      <td>0.291755</td>\n",
       "      <td>0.289110</td>\n",
       "      <td>0.262746</td>\n",
       "      <td>1.000000</td>\n",
       "      <td>0.318359</td>\n",
       "      <td>0.370364</td>\n",
       "    </tr>\n",
       "    <tr>\n",
       "      <th>robot</th>\n",
       "      <td>0.354571</td>\n",
       "      <td>0.393270</td>\n",
       "      <td>0.384000</td>\n",
       "      <td>0.300512</td>\n",
       "      <td>0.318359</td>\n",
       "      <td>1.000000</td>\n",
       "      <td>0.515648</td>\n",
       "    </tr>\n",
       "    <tr>\n",
       "      <th>drone</th>\n",
       "      <td>0.361582</td>\n",
       "      <td>0.286490</td>\n",
       "      <td>0.335419</td>\n",
       "      <td>0.310244</td>\n",
       "      <td>0.370364</td>\n",
       "      <td>0.515648</td>\n",
       "      <td>1.000000</td>\n",
       "    </tr>\n",
       "  </tbody>\n",
       "</table>\n",
       "</div>"
      ],
      "text/plain": [
       "            cats       dog     puppy    houses     apple     robot     drone\n",
       "cats    1.000000  0.567296  0.500536  0.427479  0.419561  0.354571  0.361582\n",
       "dog     0.567296  1.000000  0.804006  0.282706  0.291755  0.393270  0.286490\n",
       "puppy   0.500536  0.804006  1.000000  0.259854  0.289110  0.384000  0.335419\n",
       "houses  0.427479  0.282706  0.259854  1.000000  0.262746  0.300512  0.310244\n",
       "apple   0.419561  0.291755  0.289110  0.262746  1.000000  0.318359  0.370364\n",
       "robot   0.354571  0.393270  0.384000  0.300512  0.318359  1.000000  0.515648\n",
       "drone   0.361582  0.286490  0.335419  0.310244  0.370364  0.515648  1.000000"
      ]
     },
     "execution_count": 14,
     "metadata": {},
     "output_type": "execute_result"
    }
   ],
   "source": [
    "embedding_model_name = \"sentence-transformers/all-MiniLM-L6-v2\"\n",
    "embedding_tokenizer = AutoTokenizer.from_pretrained(embedding_model_name)\n",
    "embedding_model = AutoModel.from_pretrained(embedding_model_name).to(DEVICE)\n",
    "\n",
    "def encode_texts(texts: list[str]) -> torch.Tensor:\n",
    "    encoded = embedding_tokenizer(texts, padding=True, truncation=True, return_tensors=\"pt\").to(DEVICE)\n",
    "    with torch.no_grad():\n",
    "        model_output = embedding_model(**encoded)\n",
    "    # Mean pooling then L2 normalize\n",
    "    embeddings = model_output.last_hidden_state.mean(dim=1)\n",
    "    embeddings = torch.nn.functional.normalize(embeddings, p=2, dim=1)\n",
    "    return embeddings.cpu()\n",
    "\n",
    "words = [\"cats\", \"dog\", \"puppy\", \"houses\", \"apple\", \"robot\", \"drone\"]\n",
    "embeddings = encode_texts(words)\n",
    "\n",
    "cos = torch.matmul(embeddings, embeddings.T)\n",
    "\n",
    "similarity_df = pd.DataFrame(cos.numpy(), index=words, columns=words)\n",
    "similarity_df"
   ]
  },
  {
   "cell_type": "markdown",
   "metadata": {},
   "source": [
    "### Discussion prompt\n",
    "\n",
    "Which pairs cluster together? Compare your findings with the “embedding neighbours” slide. How does this change if you swap in domain-specific words?"
   ]
  },
  {
   "cell_type": "markdown",
   "metadata": {},
   "source": [
    "## 5. Optional: Hosted generation via Hugging Face Inference\n",
    "\n",
    "This mirrors the lecture’s “API call” segment without requiring OpenAI. If you set `HF_TOKEN`, the cell below sends a short prompt to the free-tier Inference API.\n",
    "\n",
    "> The free tier is rate-limited. Keep prompts short and cache responses for your report."
   ]
  },
  {
   "cell_type": "code",
   "execution_count": null,
   "metadata": {},
   "outputs": [],
   "source": [
    "if HF_TOKEN and InferenceClient is not None:\n",
    "    client = InferenceClient(model='mistralai/Mistral-7B-Instruct-v0.2', token=HF_TOKEN)\n",
    "    prompt = 'Summarise why subword tokenization is helpful for transformer models.'\n",
    "    response = client.text_generation(prompt, max_new_tokens=80, temperature=0.6)\n",
    "    print(response)\n",
    "elif InferenceClient is None:\n",
    "    print('Install huggingface-hub to enable the Inference API example.')\n",
    "else:\n",
    "    print('Skipping call: set HF_TOKEN to enable the Inference API example.')"
   ]
  },
  {
   "cell_type": "markdown",
   "metadata": {},
   "source": [
    "## 6. Reflection and deliverables\n",
    "\n",
    "- Compare whitespace and subword token counts—when does each strategy make sense?\n",
    "- How did embedding similarities align with your intuition from the lecture slide?\n",
    "- Include screenshots or tables of your experiments and discuss any surprises.\n",
    "\n",
    "**Deliverables**\n",
    "\n",
    "- Short write-up summarising your findings (1 page).\n",
    "- CSV or markdown table logging tokenizer statistics.\n",
    "- Notes from at least one optional experiment (longer prompt, different model, custom vocabulary, etc.)."
   ]
  }
 ],
 "metadata": {
  "kernelspec": {
   "display_name": "Python (venvLLMDS)",
   "language": "python",
   "name": "venvllmds"
  },
  "language_info": {
   "codemirror_mode": {
    "name": "ipython",
    "version": 3
   },
   "file_extension": ".py",
   "mimetype": "text/x-python",
   "name": "python",
   "nbconvert_exporter": "python",
   "pygments_lexer": "ipython3",
   "version": "3.13.3"
  }
 },
 "nbformat": 4,
 "nbformat_minor": 2
}
